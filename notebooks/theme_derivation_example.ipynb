{
 "cells": [
  {
   "cell_type": "markdown",
   "metadata": {},
   "source": [
    "# Theme Derivation\n",
    "\n",
    "Here the goal is to derive the main themes of the comments, where a theme is some common feedback expressed by multiple students. This is a good starting point when you're trying to answer the question: \"What did students say about the course?\" at a high level before diving into specifics. This could equally well be applied to user feedback surveys - there isn't much about the analysis that is specific to education. \n",
    "\n",
    "This process starts from scratch, in other words, with no preconceived notion of what the themes are, and lets the model derive the themes organically based on the comments themselves."
   ]
  },
  {
   "cell_type": "markdown",
   "metadata": {},
   "source": [
    "## Imports and setup"
   ]
  },
  {
   "cell_type": "code",
   "execution_count": 28,
   "metadata": {},
   "outputs": [],
   "source": [
    "import pandas as pd\n",
    "from pprint import pprint\n",
    "from pathlib import Path\n",
    "from dotenv import load_dotenv, find_dotenv\n",
    "from survey_analysis.theme_derivation import DeriveThemes, derive_themes\n",
    "from survey_analysis.models_common import CommentModel, CommentBatch\n",
    "from survey_analysis.single_input_task import apply_task"
   ]
  },
  {
   "cell_type": "code",
   "execution_count": 11,
   "metadata": {},
   "outputs": [],
   "source": [
    "# this makes it more robust to run async tasks inside an already async environment (jupyter notebooks)\n",
    "import nest_asyncio\n",
    "nest_asyncio.apply()"
   ]
  },
  {
   "cell_type": "markdown",
   "metadata": {},
   "source": [
    "Make sure to either set `OPENAI_API_KEY` as an environment variable or put it in a .env file and use the following cell to load the env var. The format in the .env file is:\n",
    "```\n",
    "OPENAI_API_KEY=yourKeyGoesHere\n",
    "```"
   ]
  },
  {
   "cell_type": "code",
   "execution_count": 2,
   "metadata": {},
   "outputs": [
    {
     "data": {
      "text/plain": [
       "True"
      ]
     },
     "execution_count": 2,
     "metadata": {},
     "output_type": "execute_result"
    }
   ],
   "source": [
    "load_dotenv(find_dotenv())"
   ]
  },
  {
   "cell_type": "code",
   "execution_count": 3,
   "metadata": {},
   "outputs": [],
   "source": [
    "%load_ext autoreload\n",
    "%autoreload 2"
   ]
  },
  {
   "cell_type": "markdown",
   "metadata": {},
   "source": [
    "This is a convenience function to make seeing Pandas dataframe values easier, especially when there are long strings like the student comments we will be using."
   ]
  },
  {
   "cell_type": "code",
   "execution_count": 4,
   "metadata": {},
   "outputs": [],
   "source": [
    "def full_show(df):\n",
    "    with pd.option_context('display.max_columns', None, 'display.max_rows', None, 'display.max_colwidth', None):\n",
    "        display(df)"
   ]
  },
  {
   "cell_type": "markdown",
   "metadata": {},
   "source": [
    "## Load the example data"
   ]
  },
  {
   "cell_type": "code",
   "execution_count": 5,
   "metadata": {},
   "outputs": [],
   "source": [
    "data_path = Path('../data/example_data')"
   ]
  },
  {
   "cell_type": "markdown",
   "metadata": {},
   "source": [
    "Let's load up some fake data. \n",
    "\n",
    "All of these comments are synthetic to avoid sharing any sensitive or PII information, but they should work great for illustration purposes. There are 100 rows, with just a few null/nan values here and there for realism. In most surveys I've seen, there are quite a number of null/None/blank etc values, and the functions are written to handle those."
   ]
  },
  {
   "cell_type": "code",
   "execution_count": 6,
   "metadata": {},
   "outputs": [
    {
     "data": {
      "text/html": [
       "<div>\n",
       "<style scoped>\n",
       "    .dataframe tbody tr th:only-of-type {\n",
       "        vertical-align: middle;\n",
       "    }\n",
       "\n",
       "    .dataframe tbody tr th {\n",
       "        vertical-align: top;\n",
       "    }\n",
       "\n",
       "    .dataframe thead th {\n",
       "        text-align: right;\n",
       "    }\n",
       "</style>\n",
       "<table border=\"1\" class=\"dataframe\">\n",
       "  <thead>\n",
       "    <tr style=\"text-align: right;\">\n",
       "      <th></th>\n",
       "      <th>best_parts</th>\n",
       "      <th>enhanced_learning</th>\n",
       "      <th>improve_course</th>\n",
       "    </tr>\n",
       "  </thead>\n",
       "  <tbody>\n",
       "    <tr>\n",
       "      <th>0</th>\n",
       "      <td>I valued the practical clinical aspects related to immune-related disorders and their management.</td>\n",
       "      <td>The illustrative visuals and straightforward explanatory clips.</td>\n",
       "      <td>Consider reducing the duration of certain videos. A few appeared to be slightly prolonged.</td>\n",
       "    </tr>\n",
       "    <tr>\n",
       "      <th>1</th>\n",
       "      <td>The flexibility to learn at a self-determined speed</td>\n",
       "      <td>The opportunity to review the lecture content</td>\n",
       "      <td>The pace of some lectures could be slowed down. At times, it's challenging to follow the lecturer's speech or decipher their handwriting.</td>\n",
       "    </tr>\n",
       "    <tr>\n",
       "      <th>2</th>\n",
       "      <td>The educational content was extremely enriching and stimulating! The section on oncology was the highlight.</td>\n",
       "      <td>the self-assessment activities.</td>\n",
       "      <td>Nothing specific comes to mind.</td>\n",
       "    </tr>\n",
       "    <tr>\n",
       "      <th>3</th>\n",
       "      <td>Professional growth within the medical sector</td>\n",
       "      <td>The practical integration workshops were highly beneficial, they significantly contributed to a deeper comprehension of the theories and their implementation in a healthcare environment.</td>\n",
       "      <td>Incorporating a few advanced projects as optional tasks could benefit learners who wish to delve deeper into the subject matter. These projects wouldn't need to influence exam scores.</td>\n",
       "    </tr>\n",
       "    <tr>\n",
       "      <th>4</th>\n",
       "      <td>The highlights of the class included the practical demonstration clips that made the complex biological principles more understandable by connecting them to daily well-being and actions. This connection was incredibly beneficial as I navigated the course content.</td>\n",
       "      <td>The aspect of the course that most facilitated my learning was the regular assessments provided at each segment, which helped confirm my grasp of the material presented. These checkpoints effectively guided me in the correct learning direction. It's evident that considerable effort was invested in designing these educational modules to enable students to gain a deep comprehension rather than just a superficial understanding of the subject matter.</td>\n",
       "      <td>Extend the duration of the concept videos for the more challenging topics, as they require a deeper dive to fully grasp the intricacies involved. Additionally, consider introducing an additional educator to the mix. The dynamic of having multiple voices in another subject area is quite engaging, and it would be beneficial to replicate that experience in this subject to prevent monotony from setting in with just one instructor.</td>\n",
       "    </tr>\n",
       "  </tbody>\n",
       "</table>\n",
       "</div>"
      ],
      "text/plain": [
       "                                                                                                                                                                                                                                                                best_parts   \n",
       "0                                                                                                                                                                        I valued the practical clinical aspects related to immune-related disorders and their management.  \\\n",
       "1                                                                                                                                                                                                                      The flexibility to learn at a self-determined speed   \n",
       "2                                                                                                                                                              The educational content was extremely enriching and stimulating! The section on oncology was the highlight.   \n",
       "3                                                                                                                                                                                                                            Professional growth within the medical sector   \n",
       "4  The highlights of the class included the practical demonstration clips that made the complex biological principles more understandable by connecting them to daily well-being and actions. This connection was incredibly beneficial as I navigated the course content.   \n",
       "\n",
       "                                                                                                                                                                                                                                                                                                                                                                                                                                                    enhanced_learning   \n",
       "0                                                                                                                                                                                                                                                                                                                                                                                                     The illustrative visuals and straightforward explanatory clips.  \\\n",
       "1                                                                                                                                                                                                                                                                                                                                                                                                                       The opportunity to review the lecture content   \n",
       "2                                                                                                                                                                                                                                                                                                                                                                                                                                     the self-assessment activities.   \n",
       "3                                                                                                                                                                                                                                                                          The practical integration workshops were highly beneficial, they significantly contributed to a deeper comprehension of the theories and their implementation in a healthcare environment.   \n",
       "4  The aspect of the course that most facilitated my learning was the regular assessments provided at each segment, which helped confirm my grasp of the material presented. These checkpoints effectively guided me in the correct learning direction. It's evident that considerable effort was invested in designing these educational modules to enable students to gain a deep comprehension rather than just a superficial understanding of the subject matter.   \n",
       "\n",
       "                                                                                                                                                                                                                                                                                                                                                                                                                                   improve_course  \n",
       "0                                                                                                                                                                                                                                                                                                                                                      Consider reducing the duration of certain videos. A few appeared to be slightly prolonged.  \n",
       "1                                                                                                                                                                                                                                                                                                       The pace of some lectures could be slowed down. At times, it's challenging to follow the lecturer's speech or decipher their handwriting.  \n",
       "2                                                                                                                                                                                                                                                                                                                                                                                                                 Nothing specific comes to mind.  \n",
       "3                                                                                                                                                                                                                                                         Incorporating a few advanced projects as optional tasks could benefit learners who wish to delve deeper into the subject matter. These projects wouldn't need to influence exam scores.  \n",
       "4  Extend the duration of the concept videos for the more challenging topics, as they require a deeper dive to fully grasp the intricacies involved. Additionally, consider introducing an additional educator to the mix. The dynamic of having multiple voices in another subject area is quite engaging, and it would be beneficial to replicate that experience in this subject to prevent monotony from setting in with just one instructor.  "
      ]
     },
     "metadata": {},
     "output_type": "display_data"
    }
   ],
   "source": [
    "example_survey = pd.read_csv(data_path / 'example_survey_data_synthetic.csv')\n",
    "full_show(example_survey.head())"
   ]
  },
  {
   "cell_type": "markdown",
   "metadata": {},
   "source": [
    "Create variables for the original survey questions\n",
    "\n",
    "The column names are shorthand for easy usage in code below, but let's also define some variables that hold the original survey questions that were asked for each column. We'll use these as metadata when passing along comments to the LLM routines. This is potentially important context for an LLM...after all, the survey comment \"The flexibility to learn at a self-determined speed\" may have different significance if the question was \"What were the best parts of the course?\" versus \"How could we improve the course?\"."
   ]
  },
  {
   "cell_type": "code",
   "execution_count": 7,
   "metadata": {},
   "outputs": [],
   "source": [
    "best_parts_question = \"What were the best parts of the course?\"\n",
    "enhanced_learning_question = \"What parts of the course enhanced your learning the most?\"\n",
    "improve_course_question = \"What could be improved about the course?\""
   ]
  },
  {
   "cell_type": "markdown",
   "metadata": {},
   "source": [
    "We'll also load up some Coursera comments (source is from [this Kaggle notebook](https://www.kaggle.com/datasets/imuhammad/course-reviews-on-coursera), just using the first 100 as an example. The included example dataset is just the first 200 rows of the full 1.45 million rows. I didn't include the full set so as not to blimp up the size of this repo."
   ]
  },
  {
   "cell_type": "code",
   "execution_count": 8,
   "metadata": {},
   "outputs": [
    {
     "data": {
      "text/html": [
       "<div>\n",
       "<style scoped>\n",
       "    .dataframe tbody tr th:only-of-type {\n",
       "        vertical-align: middle;\n",
       "    }\n",
       "\n",
       "    .dataframe tbody tr th {\n",
       "        vertical-align: top;\n",
       "    }\n",
       "\n",
       "    .dataframe thead th {\n",
       "        text-align: right;\n",
       "    }\n",
       "</style>\n",
       "<table border=\"1\" class=\"dataframe\">\n",
       "  <thead>\n",
       "    <tr style=\"text-align: right;\">\n",
       "      <th></th>\n",
       "      <th>reviews</th>\n",
       "      <th>reviewers</th>\n",
       "      <th>date_reviews</th>\n",
       "      <th>rating</th>\n",
       "      <th>course_id</th>\n",
       "    </tr>\n",
       "  </thead>\n",
       "  <tbody>\n",
       "    <tr>\n",
       "      <th>0</th>\n",
       "      <td>Pretty dry, but I was able to pass with just two complete watches so I'm happy about that.  As usual there were some questions on the final exam that were NO WHERE in the course, which is annoying but far better than many microsoft tests I have taken.  Never found the suplimental material that the course references... but who cares... i passed!</td>\n",
       "      <td>By Robert S</td>\n",
       "      <td>Feb 12, 2020</td>\n",
       "      <td>4</td>\n",
       "      <td>google-cbrs-cpi-training</td>\n",
       "    </tr>\n",
       "    <tr>\n",
       "      <th>1</th>\n",
       "      <td>would be a better experience if the video and screen shots would sho on the side of the text that the instructor is going thru so that user does not have to go all the way to beginning of text to be able to view any slides instructor is showing.</td>\n",
       "      <td>By Gabriel E R</td>\n",
       "      <td>Sep 28, 2020</td>\n",
       "      <td>4</td>\n",
       "      <td>google-cbrs-cpi-training</td>\n",
       "    </tr>\n",
       "    <tr>\n",
       "      <th>2</th>\n",
       "      <td>Information was perfect! The program itself was a little annoying. I had to wait 30 to 45 minutes after watching the videos to to take the quiz. Other than that the information was perfect and passed the test with no issues!</td>\n",
       "      <td>By Jacob D</td>\n",
       "      <td>Apr 08, 2020</td>\n",
       "      <td>4</td>\n",
       "      <td>google-cbrs-cpi-training</td>\n",
       "    </tr>\n",
       "    <tr>\n",
       "      <th>3</th>\n",
       "      <td>A few grammatical mistakes on test made me do a double take but all in all not bad.</td>\n",
       "      <td>By Dale B</td>\n",
       "      <td>Feb 24, 2020</td>\n",
       "      <td>4</td>\n",
       "      <td>google-cbrs-cpi-training</td>\n",
       "    </tr>\n",
       "    <tr>\n",
       "      <th>4</th>\n",
       "      <td>Excellent course and the training provided was very detailed and easy to follow.</td>\n",
       "      <td>By Sean G</td>\n",
       "      <td>Jun 18, 2020</td>\n",
       "      <td>4</td>\n",
       "      <td>google-cbrs-cpi-training</td>\n",
       "    </tr>\n",
       "  </tbody>\n",
       "</table>\n",
       "</div>"
      ],
      "text/plain": [
       "                                                                                                                                                                                                                                                                                                                                                      reviews   \n",
       "0  Pretty dry, but I was able to pass with just two complete watches so I'm happy about that.  As usual there were some questions on the final exam that were NO WHERE in the course, which is annoying but far better than many microsoft tests I have taken.  Never found the suplimental material that the course references... but who cares... i passed!  \\\n",
       "1                                                                                                       would be a better experience if the video and screen shots would sho on the side of the text that the instructor is going thru so that user does not have to go all the way to beginning of text to be able to view any slides instructor is showing.   \n",
       "2                                                                                                                            Information was perfect! The program itself was a little annoying. I had to wait 30 to 45 minutes after watching the videos to to take the quiz. Other than that the information was perfect and passed the test with no issues!   \n",
       "3                                                                                                                                                                                                                                                                         A few grammatical mistakes on test made me do a double take but all in all not bad.   \n",
       "4                                                                                                                                                                                                                                                                            Excellent course and the training provided was very detailed and easy to follow.   \n",
       "\n",
       "        reviewers  date_reviews  rating                 course_id  \n",
       "0     By Robert S  Feb 12, 2020       4  google-cbrs-cpi-training  \n",
       "1  By Gabriel E R  Sep 28, 2020       4  google-cbrs-cpi-training  \n",
       "2      By Jacob D  Apr 08, 2020       4  google-cbrs-cpi-training  \n",
       "3       By Dale B  Feb 24, 2020       4  google-cbrs-cpi-training  \n",
       "4       By Sean G  Jun 18, 2020       4  google-cbrs-cpi-training  "
      ]
     },
     "metadata": {},
     "output_type": "display_data"
    }
   ],
   "source": [
    "coursera_survey = pd.read_csv(data_path / 'coursera_survey_200rows.csv', nrows=100)\n",
    "full_show(coursera_survey.head())"
   ]
  },
  {
   "cell_type": "code",
   "execution_count": 9,
   "metadata": {},
   "outputs": [],
   "source": [
    "coursera_review_question = \"What is your review of the course?\""
   ]
  },
  {
   "cell_type": "markdown",
   "metadata": {},
   "source": [
    "## Theme derivation (bottom up)"
   ]
  },
  {
   "cell_type": "markdown",
   "metadata": {},
   "source": [
    "Derive themes from a batch of comments\n",
    "\n",
    "Notice that we're passing the original survey question that prompted these responses. This is useful metadata for LLM (see above in the data loading section).\n",
    "\n",
    "Single pass:"
   ]
  },
  {
   "cell_type": "code",
   "execution_count": 10,
   "metadata": {},
   "outputs": [
    {
     "name": "stdout",
     "output_type": "stream",
     "text": [
      "{\n",
      "  \"themes\": [\n",
      "    {\n",
      "      \"theme_title\": \"Practical Applications\",\n",
      "      \"description\": \"Students appreciated the practical application segments of the lessons, which helped deepen their understanding of complex concepts through real-world scenarios, laboratory exercises, and case studies.\",\n",
      "      \"citations\": [\n",
      "        \"The practical application segments of the lessons were beneficial. They aided in deepening comprehension of the molecular processes.\",\n",
      "        \"The practical exercises in the laboratory and their relevance to real-world health conditions or metabolic processes in organisms.\",\n",
      "        \"The practical application sessions involving real-world patient scenarios (immune therapy techniques, cellular therapy) were outstanding.\"\n",
      "      ]\n",
      "    },\n",
      "    {\n",
      "      \"theme_title\": \"Visual and Interactive Content\",\n",
      "      \"description\": \"Visual aids such as instructional videos, animations, and interactive modules were highlighted as engaging and effective in simplifying complex topics and enhancing learning.\",\n",
      "      \"citations\": [\n",
      "        \"The visual lectures\",\n",
      "        \"Engaging and informative visual content that integrates theoretical concepts with practical clinical applications.\",\n",
      "        \"The instructional animations and the variety of engaging multimedia resources were excellent, making the material straightforward and comprehensible.\"\n",
      "      ]\n",
      "    },\n",
      "    {\n",
      "      \"theme_title\": \"Flexibility and Self-Paced Learning\",\n",
      "      \"description\": \"Students valued the course's flexibility, allowing them to learn at their own pace, which was particularly beneficial for those balancing other commitments.\",\n",
      "      \"citations\": [\n",
      "        \"The flexibility to learn at a self-determined speed\",\n",
      "        \"The most advantageous aspects of the course included its digital format and the adaptability regarding the timing for completing various segments. This flexibility was particularly beneficial for me as a full-time employee, as it enabled consistent participation in the course that would have been challenging otherwise.\",\n",
      "        \"I valued the advanced nature of the teaching (it wasn't overly simplistic), and I was particularly fond of the autonomy in progressing at a pace that suited my personal timetable.\"\n",
      "      ]\n",
      "    },\n",
      "    {\n",
      "      \"theme_title\": \"Comprehensive and Engaging Content\",\n",
      "      \"description\": \"The course content was described as comprehensive, covering a wide range of topics and providing a deep understanding of the subject matter through engaging and informative materials.\",\n",
      "      \"citations\": [\n",
      "        \"The educational content was extremely enriching and stimulating! The section on oncology was the highlight.\",\n",
      "        \"comprehensive summary, encompassing emerging treatments currently under research\",\n",
      "        \"Explored an extensive range of topics pertinent to the field, providing a comprehensive educational experience. The schedule allowed ample time for completion, avoiding a hurried atmosphere, and the material presented was substantial.\"\n",
      "      ]\n",
      "    },\n",
      "    {\n",
      "      \"theme_title\": \"Instructor Quality\",\n",
      "      \"description\": \"The quality and clarity of instruction were frequently mentioned, with students appreciating the instructors' ability to simplify complex topics and provide clear summaries.\",\n",
      "      \"citations\": [\n",
      "        \"The instructor\",\n",
      "        \"the instructor's clear summaries of ideas\",\n",
      "        \"I think the fundamental principles and their direct application in a professional setting were the highlights of the program.\"\n",
      "      ]\n",
      "    },\n",
      "    {\n",
      "      \"theme_title\": \"Assessment and Feedback\",\n",
      "      \"description\": \"Students found the assessments and feedback to be insightful, challenging yet manageable, and aligned with the educational goals, contributing to a deeper understanding of the course material.\",\n",
      "      \"citations\": [\n",
      "        \"The content was highly captivating, with quiz items that were appropriately difficult yet manageable. The assessments focused on key principles, and I believe I have thoroughly grasped the fundamental concepts of the subject matter following this class.\",\n",
      "        \"Every session was enlightening. Initially, the assessments appeared quite demanding, especially since my background is in a distinct field. The questions in the assessments demanded not just familiarity with the session content, but also a more profound comprehension. Despite the initial difficulty, it was beneficial to delve into additional resources and witness my comprehension evolve. The assessments were truly insightful.\",\n",
      "        \"The ability to consolidate learning across various assessments and the inclusion of review questions that emphasize key concepts was highly beneficial.\"\n",
      "      ]\n",
      "    }\n",
      "  ]\n",
      "}\n"
     ]
    }
   ],
   "source": [
    "survey_task = DeriveThemes(question=best_parts_question)\n",
    "comments = example_survey['best_parts'].tolist()\n",
    "task_input = CommentBatch(comments=[CommentModel(comment=comment) for comment in comments])\n",
    "sample_output = await apply_task(task_input=task_input,\n",
    "                                 get_prompt=survey_task.prompt_messages,\n",
    "                                 result_class=survey_task.result_class)\n",
    "\n",
    "print(sample_output.model_dump_json(indent=2))"
   ]
  },
  {
   "cell_type": "markdown",
   "metadata": {},
   "source": [
    "The themes derived in a single pass of the comments by the LLM (here defaulting to `gpt-4-0125-preview`) seem (in repeated experimentation) to be highly dependent on the order of the comments and vary even with `temperature=0` for the model. Sometimes it comes up with just a single theme when clearly the comments have more themes. Therefore, we have a convenience function that allows doing multiple shuffled passes to mitigate LLM positional bias and then combining those behind the scenes. This seems to stabilize the resulting themes nicely."
   ]
  },
  {
   "cell_type": "markdown",
   "metadata": {},
   "source": [
    "Multi-pass (3 runs) theme derivation, shuffling comments each time:"
   ]
  },
  {
   "cell_type": "code",
   "execution_count": 15,
   "metadata": {},
   "outputs": [
    {
     "name": "stdout",
     "output_type": "stream",
     "text": [
      "pass 1\n",
      "title: Practical Applications\n",
      "description: Students appreciated the practical applications and exercises throughout the course, which helped them understand complex concepts and their relevance to real-world medical practice.\n",
      "\n",
      "pass 2\n",
      "title: Engaging Visual Content\n",
      "description: Students appreciated the use of visual aids, including videos, animations, and illustrations, to make complex topics more understandable and engaging. This approach helped in simplifying the material and enhancing learning.\n",
      "\n",
      "title: Practical Applications\n",
      "description: The course was praised for its practical application sessions, hands-on activities, and real-world clinical scenarios. These elements helped students grasp fundamental ideas and understand their significance within the medical practice.\n",
      "\n",
      "title: Comprehensive Resources\n",
      "description: Students valued the comprehensive range of instructional materials provided, including study guides, vocabulary lists, and additional resources. These materials facilitated theoretical understanding and were beneficial for independent revision.\n",
      "\n",
      "title: Interactive Learning\n",
      "description: The course's interactive elements, including online activities, quizzes, and engaging multimedia content, were highlighted as key features that made learning more dynamic and enjoyable.\n",
      "\n",
      "title: Clinical Focus\n",
      "description: A significant portion of the feedback emphasized the course's focus on clinical applications, procedures, and real-world medical scenarios. This aspect was appreciated for bridging the gap between theoretical knowledge and practical medical practice.\n",
      "\n",
      "number of total themes across 2 passes before combining: 6\n",
      "The number of unique themes by title is 5\n",
      "The count of themes by title is Counter({'Practical Applications': 2, 'Engaging Visual Content': 1, 'Comprehensive Resources': 1, 'Interactive Learning': 1, 'Clinical Focus': 1})\n",
      "\n",
      "combining results 2 with 1\n",
      "\n",
      "number of themes after combining: 3\n",
      "theme titles after combining: ['Practical and Clinical Applications', 'Engaging and Comprehensive Educational Resources', 'Interactive Learning']\n",
      "pass 3\n",
      "title: Practical Applications\n",
      "description: Students appreciated the practical applications and real-world clinical scenarios presented in the course, which helped them understand the relevance of the material to medical practice.\n",
      "\n",
      "title: Visual Aids\n",
      "description: Visual aids, including illustrations, animations, and visual summaries, were highlighted as beneficial for understanding complex topics and reinforcing learning.\n",
      "\n",
      "title: Engaging Content\n",
      "description: The course was praised for its engaging content, including hands-on activities, interactive modules, and instructional videos that simplified complex topics.\n",
      "\n",
      "title: Comprehensive Resources\n",
      "description: Students valued the comprehensive resources provided, such as study guides, vocabulary lists, and additional reading materials, which supported independent learning.\n",
      "\n",
      "title: Flexible Learning\n",
      "description: The flexibility of the course in terms of pacing and digital format was appreciated, especially by those balancing the course with full-time employment.\n",
      "\n",
      "title: Instructional Quality\n",
      "description: The quality of instruction, including the clarity of presentations and the knowledge of instructors, was frequently mentioned as a highlight of the course.\n",
      "\n",
      "title: Assessment and Feedback\n",
      "description: Assessments were seen as insightful and beneficial for deepening understanding, despite their initial difficulty for some students.\n",
      "\n",
      "title: Cutting-Edge Content\n",
      "description: Students were impressed with the inclusion of cutting-edge treatments and recent advancements in the field, which enriched their learning experience.\n",
      "\n",
      "number of total themes across 3 passes before combining: 11\n",
      "The number of unique themes by title is 11\n",
      "The count of themes by title is Counter({'Practical and Clinical Applications': 1, 'Engaging and Comprehensive Educational Resources': 1, 'Interactive Learning': 1, 'Practical Applications': 1, 'Visual Aids': 1, 'Engaging Content': 1, 'Comprehensive Resources': 1, 'Flexible Learning': 1, 'Instructional Quality': 1, 'Assessment and Feedback': 1, 'Cutting-Edge Content': 1})\n",
      "\n",
      "combining results 3 with 2\n",
      "\n",
      "number of themes after combining: 7\n",
      "theme titles after combining: ['Practical and Clinical Applications', 'Comprehensive Educational Resources and Visual Aids', 'Interactive and Engaging Learning', 'Flexible Learning', 'Instructional Quality', 'Assessment and Feedback', 'Cutting-Edge Content']\n"
     ]
    }
   ],
   "source": [
    "comments = example_survey['best_parts'].tolist() # same 100 fake example comments as above\n",
    "sample_output = await derive_themes(comments=comments, \n",
    "                                    question=best_parts_question, \n",
    "                                    shuffle_passes=3) # this defaults to 3 passes but just making it explicit here"
   ]
  },
  {
   "cell_type": "markdown",
   "metadata": {},
   "source": [
    "What themes did we arrive at?"
   ]
  },
  {
   "cell_type": "code",
   "execution_count": 16,
   "metadata": {},
   "outputs": [
    {
     "name": "stdout",
     "output_type": "stream",
     "text": [
      "Practical and Clinical Applications\n",
      "Comprehensive Educational Resources and Visual Aids\n",
      "Interactive and Engaging Learning\n",
      "Flexible Learning\n",
      "Instructional Quality\n",
      "Assessment and Feedback\n",
      "Cutting-Edge Content\n"
     ]
    }
   ],
   "source": [
    "# print the titles of the themes from sample_output\n",
    "for theme in sample_output.updated_themes:\n",
    "    print(theme.theme_title)"
   ]
  },
  {
   "cell_type": "markdown",
   "metadata": {},
   "source": [
    "Now let's take a look at the model's reasoning in combining themes along the way, across the different passes, and then get more detail on the final themes."
   ]
  },
  {
   "cell_type": "code",
   "execution_count": 32,
   "metadata": {},
   "outputs": [
    {
     "name": "stdout",
     "output_type": "stream",
     "text": [
      "Reasoning:\n",
      "\n",
      "(\"1. 'Practical and Clinical Applications' and 'Practical Applications' cover \"\n",
      " 'the same ground, focusing on the practical aspects and real-world '\n",
      " 'applications in medical practice. \\n'\n",
      " \"2. 'Engaging and Comprehensive Educational Resources', 'Visual Aids', and \"\n",
      " \"'Comprehensive Resources' can be merged because they all emphasize the \"\n",
      " 'importance of educational materials, including visual aids and comprehensive '\n",
      " 'study resources, in enhancing learning. \\n'\n",
      " \"3. 'Interactive Learning' and 'Engaging Content' are similar as both \"\n",
      " 'highlight the interactive and engaging nature of the course content, '\n",
      " 'including hands-on activities and multimedia. \\n'\n",
      " \"4. The themes 'Flexible Learning', 'Instructional Quality', 'Assessment and \"\n",
      " \"Feedback', 'Cutting-Edge Content' are unique in their focus and do not \"\n",
      " 'overlap significantly with others.')\n",
      "\n",
      "Final Themes:\n",
      "\n",
      "Practical and Clinical Applications\n",
      "('This theme emphasizes the importance of practical applications, hands-on '\n",
      " 'activities, and clinical focus within the course. It highlights how '\n",
      " 'real-world medical scenarios, clinical procedures, and practical exercises '\n",
      " 'help bridge the gap between theoretical knowledge and practical medical '\n",
      " \"practice, enhancing students' understanding of complex concepts and their \"\n",
      " 'relevance to medical practice.')\n",
      "\n",
      "\n",
      "Comprehensive Educational Resources and Visual Aids\n",
      "('This theme merges the appreciation for engaging visual content, '\n",
      " 'comprehensive instructional materials, and visual aids. It emphasizes the '\n",
      " 'importance of visual aids, including videos, animations, and illustrations, '\n",
      " 'alongside a broad range of resources like study guides, vocabulary lists, '\n",
      " 'and additional reading materials, in making complex topics more '\n",
      " 'understandable, engaging, and facilitating independent revision.')\n",
      "\n",
      "\n",
      "Interactive and Engaging Learning\n",
      "(\"This theme highlights the course's interactive elements, including online \"\n",
      " 'activities, quizzes, engaging multimedia content, hands-on activities, and '\n",
      " 'instructional videos. It underscores how these elements made learning more '\n",
      " 'dynamic, enjoyable, and simplified complex topics.')\n",
      "\n",
      "\n",
      "Flexible Learning\n",
      "('The flexibility of the course in terms of pacing and digital format was '\n",
      " 'appreciated, especially by those balancing the course with full-time '\n",
      " 'employment.')\n",
      "\n",
      "\n",
      "Instructional Quality\n",
      "('The quality of instruction, including the clarity of presentations and the '\n",
      " 'knowledge of instructors, was frequently mentioned as a highlight of the '\n",
      " 'course.')\n",
      "\n",
      "\n",
      "Assessment and Feedback\n",
      "('Assessments were seen as insightful and beneficial for deepening '\n",
      " 'understanding, despite their initial difficulty for some students.')\n",
      "\n",
      "\n",
      "Cutting-Edge Content\n",
      "('Students were impressed with the inclusion of cutting-edge treatments and '\n",
      " 'recent advancements in the field, which enriched their learning experience.')\n",
      "\n",
      "\n"
     ]
    }
   ],
   "source": [
    "print(\"Reasoning:\\n\")\n",
    "pprint(sample_output.reasoning)\n",
    "print('\\nFinal Themes:\\n')\n",
    "for theme in sample_output.updated_themes:\n",
    "    print(theme.theme_title)\n",
    "    pprint(theme.description)\n",
    "    print('\\n')"
   ]
  },
  {
   "cell_type": "markdown",
   "metadata": {},
   "source": [
    "Pretty good! It has made some logical choices about which themes to combine along the way to arrive at a smaller set of main themes. These can be used as a starting point then for multilabel classification of the comments if the goal is next to quantify how much feedback there was in each category.\n",
    "\n",
    "If you want to see that process in action (and more), check out the end-to-end demo notebook that runs through a fuller workflow of how you might go about different steps from theme derivation to multilabel classification, extraction, and sentiment analysis."
   ]
  },
  {
   "cell_type": "markdown",
   "metadata": {},
   "source": [
    "Your turn...as an exercise for the reader, use the `coursera_survey` comments that we loaded and run `derive_themes` on those. We already defined the `coursera_review_question` variable as well that you will want to use."
   ]
  },
  {
   "cell_type": "code",
   "execution_count": null,
   "metadata": {},
   "outputs": [],
   "source": []
  }
 ],
 "metadata": {
  "kernelspec": {
   "display_name": "ai1",
   "language": "python",
   "name": "python3"
  },
  "language_info": {
   "codemirror_mode": {
    "name": "ipython",
    "version": 3
   },
   "file_extension": ".py",
   "mimetype": "text/x-python",
   "name": "python",
   "nbconvert_exporter": "python",
   "pygments_lexer": "ipython3",
   "version": "3.10.8"
  }
 },
 "nbformat": 4,
 "nbformat_minor": 2
}
