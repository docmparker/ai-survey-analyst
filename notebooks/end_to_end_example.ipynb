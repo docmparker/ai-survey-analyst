{
 "cells": [
  {
   "cell_type": "markdown",
   "metadata": {},
   "source": [
    "# End-to-end Example\n",
    "\n",
    "This notebook runs through a long-ish example of using the modules to analyze some survey data."
   ]
  },
  {
   "cell_type": "markdown",
   "metadata": {},
   "source": [
    "## Imports and setup"
   ]
  },
  {
   "cell_type": "code",
   "execution_count": 1,
   "metadata": {},
   "outputs": [],
   "source": [
    "import pandas as pd\n",
    "import seaborn as sns\n",
    "import matplotlib.pyplot as plt\n",
    "import textwrap\n",
    "import json\n",
    "import random\n",
    "from typing import Any\n",
    "from pprint import pprint\n",
    "from IPython.display import Markdown, display, HTML\n",
    "from pathlib import Path\n",
    "from dotenv import load_dotenv, find_dotenv\n",
    "from survey_analysis.summarization import summarize_comments\n",
    "from survey_analysis.theme_derivation import derive_themes\n",
    "from survey_analysis.sentiment_analysis import (\n",
    "    classify_sentiment, \n",
    "    sort_by_confidence,\n",
    "    SentimentAnalysisResult\n",
    ")\n",
    "from survey_analysis.excerpt_extraction import extract_excerpts\n",
    "from survey_analysis.multilabel_classification import multilabel_classify, default_tags_list\n",
    "\n",
    "%matplotlib inline"
   ]
  },
  {
   "cell_type": "code",
   "execution_count": 2,
   "metadata": {},
   "outputs": [],
   "source": [
    "# this makes it more robust to run async tasks inside an already async environment (jupyter notebooks)\n",
    "import nest_asyncio\n",
    "nest_asyncio.apply()"
   ]
  },
  {
   "cell_type": "markdown",
   "metadata": {},
   "source": [
    "Make sure to either set `OPENAI_API_KEY` as an environment variable or put it in a .env file and use the following cell to load the env var. The format in the .env file is:\n",
    "```\n",
    "OPENAI_API_KEY=yourKeyGoesHere\n",
    "```"
   ]
  },
  {
   "cell_type": "code",
   "execution_count": 3,
   "metadata": {},
   "outputs": [
    {
     "data": {
      "text/plain": [
       "True"
      ]
     },
     "execution_count": 3,
     "metadata": {},
     "output_type": "execute_result"
    }
   ],
   "source": [
    "load_dotenv(find_dotenv())"
   ]
  },
  {
   "cell_type": "code",
   "execution_count": 4,
   "metadata": {},
   "outputs": [],
   "source": [
    "%load_ext autoreload\n",
    "%autoreload 2"
   ]
  },
  {
   "cell_type": "markdown",
   "metadata": {},
   "source": [
    "This is a convenience function to make seeing Pandas dataframe values easier, especially when there are long strings like the student comments we will be using."
   ]
  },
  {
   "cell_type": "code",
   "execution_count": 5,
   "metadata": {},
   "outputs": [],
   "source": [
    "def full_show(df):\n",
    "    with pd.option_context('display.max_columns', None, 'display.max_rows', None, 'display.max_colwidth', None):\n",
    "        display(df)"
   ]
  },
  {
   "cell_type": "markdown",
   "metadata": {},
   "source": [
    "This is a convenience function for pretty-printing long student comments."
   ]
  },
  {
   "cell_type": "code",
   "execution_count": 6,
   "metadata": {},
   "outputs": [],
   "source": [
    "def print_wrap(text: str, width: int = 72) -> str:\n",
    "    print(textwrap.fill(text, width=width))"
   ]
  },
  {
   "cell_type": "markdown",
   "metadata": {},
   "source": [
    "## Load the example data"
   ]
  },
  {
   "cell_type": "code",
   "execution_count": 7,
   "metadata": {},
   "outputs": [],
   "source": [
    "data_path = Path('../data/example_data')"
   ]
  },
  {
   "cell_type": "markdown",
   "metadata": {},
   "source": [
    "Let's load up some fake data. \n",
    "\n",
    "All of these comments are synthetic to avoid sharing any sensitive or PII information, but they should work great for illustration purposes. There are 100 rows, with just a few null/nan values here and there for realism. In most surveys I've seen, there are quite a number of null/None/blank etc values, so the functions here are written to handle those."
   ]
  },
  {
   "cell_type": "code",
   "execution_count": 8,
   "metadata": {},
   "outputs": [
    {
     "data": {
      "text/html": [
       "<div>\n",
       "<style scoped>\n",
       "    .dataframe tbody tr th:only-of-type {\n",
       "        vertical-align: middle;\n",
       "    }\n",
       "\n",
       "    .dataframe tbody tr th {\n",
       "        vertical-align: top;\n",
       "    }\n",
       "\n",
       "    .dataframe thead th {\n",
       "        text-align: right;\n",
       "    }\n",
       "</style>\n",
       "<table border=\"1\" class=\"dataframe\">\n",
       "  <thead>\n",
       "    <tr style=\"text-align: right;\">\n",
       "      <th></th>\n",
       "      <th>best_parts</th>\n",
       "      <th>enhanced_learning</th>\n",
       "      <th>improve_course</th>\n",
       "    </tr>\n",
       "  </thead>\n",
       "  <tbody>\n",
       "    <tr>\n",
       "      <th>0</th>\n",
       "      <td>I valued the practical clinical aspects related to immune-related disorders and their management.</td>\n",
       "      <td>The illustrative visuals and straightforward explanatory clips.</td>\n",
       "      <td>Consider reducing the duration of certain videos. A few appeared to be slightly prolonged.</td>\n",
       "    </tr>\n",
       "    <tr>\n",
       "      <th>1</th>\n",
       "      <td>The flexibility to learn at a self-determined speed</td>\n",
       "      <td>The opportunity to review the lecture content</td>\n",
       "      <td>The pace of some lectures could be slowed down. At times, it's challenging to follow the lecturer's speech or decipher their handwriting.</td>\n",
       "    </tr>\n",
       "    <tr>\n",
       "      <th>2</th>\n",
       "      <td>The educational content was extremely enriching and stimulating! The section on oncology was the highlight.</td>\n",
       "      <td>the self-assessment activities.</td>\n",
       "      <td>Nothing specific comes to mind.</td>\n",
       "    </tr>\n",
       "    <tr>\n",
       "      <th>3</th>\n",
       "      <td>Professional growth within the medical sector</td>\n",
       "      <td>The practical integration workshops were highly beneficial, they significantly contributed to a deeper comprehension of the theories and their implementation in a healthcare environment.</td>\n",
       "      <td>Incorporating a few advanced projects as optional tasks could benefit learners who wish to delve deeper into the subject matter. These projects wouldn't need to influence exam scores.</td>\n",
       "    </tr>\n",
       "    <tr>\n",
       "      <th>4</th>\n",
       "      <td>The highlights of the class included the practical demonstration clips that made the complex biological principles more understandable by connecting them to daily well-being and actions. This connection was incredibly beneficial as I navigated the course content.</td>\n",
       "      <td>The aspect of the course that most facilitated my learning was the regular assessments provided at each segment, which helped confirm my grasp of the material presented. These checkpoints effectively guided me in the correct learning direction. It's evident that considerable effort was invested in designing these educational modules to enable students to gain a deep comprehension rather than just a superficial understanding of the subject matter.</td>\n",
       "      <td>Extend the duration of the concept videos for the more challenging topics, as they require a deeper dive to fully grasp the intricacies involved. Additionally, consider introducing an additional educator to the mix. The dynamic of having multiple voices in another subject area is quite engaging, and it would be beneficial to replicate that experience in this subject to prevent monotony from setting in with just one instructor.</td>\n",
       "    </tr>\n",
       "  </tbody>\n",
       "</table>\n",
       "</div>"
      ],
      "text/plain": [
       "                                                                                                                                                                                                                                                                best_parts  \\\n",
       "0                                                                                                                                                                        I valued the practical clinical aspects related to immune-related disorders and their management.   \n",
       "1                                                                                                                                                                                                                      The flexibility to learn at a self-determined speed   \n",
       "2                                                                                                                                                              The educational content was extremely enriching and stimulating! The section on oncology was the highlight.   \n",
       "3                                                                                                                                                                                                                            Professional growth within the medical sector   \n",
       "4  The highlights of the class included the practical demonstration clips that made the complex biological principles more understandable by connecting them to daily well-being and actions. This connection was incredibly beneficial as I navigated the course content.   \n",
       "\n",
       "                                                                                                                                                                                                                                                                                                                                                                                                                                                    enhanced_learning  \\\n",
       "0                                                                                                                                                                                                                                                                                                                                                                                                     The illustrative visuals and straightforward explanatory clips.   \n",
       "1                                                                                                                                                                                                                                                                                                                                                                                                                       The opportunity to review the lecture content   \n",
       "2                                                                                                                                                                                                                                                                                                                                                                                                                                     the self-assessment activities.   \n",
       "3                                                                                                                                                                                                                                                                          The practical integration workshops were highly beneficial, they significantly contributed to a deeper comprehension of the theories and their implementation in a healthcare environment.   \n",
       "4  The aspect of the course that most facilitated my learning was the regular assessments provided at each segment, which helped confirm my grasp of the material presented. These checkpoints effectively guided me in the correct learning direction. It's evident that considerable effort was invested in designing these educational modules to enable students to gain a deep comprehension rather than just a superficial understanding of the subject matter.   \n",
       "\n",
       "                                                                                                                                                                                                                                                                                                                                                                                                                                   improve_course  \n",
       "0                                                                                                                                                                                                                                                                                                                                                      Consider reducing the duration of certain videos. A few appeared to be slightly prolonged.  \n",
       "1                                                                                                                                                                                                                                                                                                       The pace of some lectures could be slowed down. At times, it's challenging to follow the lecturer's speech or decipher their handwriting.  \n",
       "2                                                                                                                                                                                                                                                                                                                                                                                                                 Nothing specific comes to mind.  \n",
       "3                                                                                                                                                                                                                                                         Incorporating a few advanced projects as optional tasks could benefit learners who wish to delve deeper into the subject matter. These projects wouldn't need to influence exam scores.  \n",
       "4  Extend the duration of the concept videos for the more challenging topics, as they require a deeper dive to fully grasp the intricacies involved. Additionally, consider introducing an additional educator to the mix. The dynamic of having multiple voices in another subject area is quite engaging, and it would be beneficial to replicate that experience in this subject to prevent monotony from setting in with just one instructor.  "
      ]
     },
     "metadata": {},
     "output_type": "display_data"
    }
   ],
   "source": [
    "example_survey = pd.read_csv(data_path / 'example_survey_data_synthetic.csv')\n",
    "full_show(example_survey.head())"
   ]
  },
  {
   "cell_type": "markdown",
   "metadata": {},
   "source": [
    "## Plan\n",
    "\n",
    "We're going to analyze to some example survey questions. The main overall goals are to show how one might explore the following questions:\n",
    "\n",
    "1. What did students say about the course? (themes, summarization)\n",
    "2. How did they feel about the course? (sentiment analysis)\n",
    "3. What did they say about some aspect of interest? (extraction)\n",
    "4. How did they feel about that aspect (focused sentiment analysis)\n",
    "5. How many comments were there about different aspects? (multilabel classification)\n",
    "\n",
    "If you're interested in this sort of thing, have a look at the paper called [A Large Language Model Approach to Educational Survey Feedback Analysis](https://arxiv.org/pdf/2309.17447.pdf). "
   ]
  },
  {
   "cell_type": "markdown",
   "metadata": {},
   "source": [
    "For the survey we'll be analyzing, there were three survey questions of interest. We'll define the questions themselves in variables for use later. We'll use these as metadata when passing along comments to the LLM routines. This is potentially important context for an LLM...after all, the survey comment \"The flexibility to learn at a self-determined speed\" may have different significance if the question was \"What were the best parts of the course?\" versus \"What could be improved about the course?\"."
   ]
  },
  {
   "cell_type": "code",
   "execution_count": 9,
   "metadata": {},
   "outputs": [],
   "source": [
    "best_parts_question = \"What were the best parts of the course?\"\n",
    "enhanced_learning_question = \"What parts of the course enhanced your learning the most?\"\n",
    "improve_course_question = \"What could be improved about the course?\""
   ]
  },
  {
   "cell_type": "markdown",
   "metadata": {},
   "source": [
    "## 1. What did students say about the course?\n",
    "\n",
    "When confronted with survey results, this is the high-level (vibes) step of getting a feel for what the major pieces of feedback were. Each question has its own context, so we'll analyze the results from each question separately. We'll look at a bottom-up approach versus a top-down approach."
   ]
  },
  {
   "cell_type": "markdown",
   "metadata": {},
   "source": [
    "### Theme derivation (bottom-up approach)\n",
    "\n",
    "Here we'll come in without preconceived notions or categories and let the model derive the themes (from the bottom up, based on the comments). We'll also look at summarization as an alternative. Let's find the themes (common feedback expressed by multiple students), first from the \"What were the best parts of the course?\" survey question and then from the \"What could be improved about the course?\" question. The derive_themes function runs three passes by default, shuffling the order of the comments, given that the output for any single LLM run seems to depend on the order of the comments. For each pass, the model merges and distills the themes with the themes from the prior passes. "
   ]
  },
  {
   "cell_type": "code",
   "execution_count": 10,
   "metadata": {},
   "outputs": [
    {
     "name": "stdout",
     "output_type": "stream",
     "text": [
      "pass 1\n",
      "title: Practical Applications\n",
      "description: Students appreciated the practical application segments, which helped deepen their understanding of complex concepts by relating them to real-world scenarios.\n",
      "\n",
      "title: Visual and Multimedia Content\n",
      "description: The use of visual aids, instructional videos, and multimedia resources was highly valued for making complex topics more understandable and engaging.\n",
      "\n",
      "title: Interactive and Hands-On Learning\n",
      "description: Interactive modules and hands-on activities were particularly beneficial for students, enhancing their learning experience through active participation.\n",
      "\n",
      "title: Comprehensive and Structured Content\n",
      "description: Students appreciated the well-organized and structured content, which facilitated a clear understanding of complex topics and principles.\n",
      "\n",
      "title: Flexibility and Self-Paced Learning\n",
      "description: The flexibility to learn at one's own pace was highly valued, especially for those balancing other commitments.\n",
      "\n",
      "title: Quizzes and Assessments\n",
      "description: Quizzes and assessments were appreciated for reinforcing key concepts and aiding in the consolidation of learning.\n",
      "\n",
      "title: Expert Instruction and Professional Growth\n",
      "description: Students valued the expertise of the instructors and the professional growth opportunities provided by the course.\n",
      "\n",
      "pass 2\n",
      "title: Practical Application\n",
      "description: Students appreciated the practical application segments, which helped deepen their understanding of theoretical concepts by connecting them to real-world scenarios.\n",
      "\n",
      "title: Engaging and Interactive Content\n",
      "description: The course's engaging nature, including interactive quizzes and multimedia content, was highly appreciated by students.\n",
      "\n",
      "title: Visual and Multimedia Aids\n",
      "description: Students found visual aids, illustrations, and multimedia resources helpful in understanding complex topics.\n",
      "\n",
      "title: Clear and Structured Presentation\n",
      "description: The clear and structured presentation of the material helped students grasp key concepts effectively.\n",
      "\n",
      "title: Real-World Clinical Scenarios\n",
      "description: Incorporating real-world clinical scenarios into the lectures was highly beneficial for students.\n",
      "\n",
      "title: Comprehensive and Diverse Materials\n",
      "description: The diversity and comprehensiveness of instructional materials, including videos, study guides, and additional resources, were appreciated.\n",
      "\n",
      "title: Expert Instruction\n",
      "description: Students valued the expertise and effective communication of the instructors.\n",
      "\n",
      "number of total themes across 2 passes before combining: 14\n",
      "The number of unique themes by title is 14\n",
      "The count of themes by title is Counter({'Practical Applications': 1, 'Visual and Multimedia Content': 1, 'Interactive and Hands-On Learning': 1, 'Comprehensive and Structured Content': 1, 'Flexibility and Self-Paced Learning': 1, 'Quizzes and Assessments': 1, 'Expert Instruction and Professional Growth': 1, 'Practical Application': 1, 'Engaging and Interactive Content': 1, 'Visual and Multimedia Aids': 1, 'Clear and Structured Presentation': 1, 'Real-World Clinical Scenarios': 1, 'Comprehensive and Diverse Materials': 1, 'Expert Instruction': 1})\n",
      "\n",
      "combining results 2 with 1\n",
      "\n",
      "number of themes after combining: 7\n",
      "theme titles after combining: ['Practical Applications', 'Visual and Multimedia Content', 'Interactive and Hands-On Learning', 'Comprehensive and Structured Content', 'Flexibility and Self-Paced Learning', 'Quizzes and Assessments', 'Expert Instruction']\n",
      "pass 3\n",
      "title: Practical Application\n",
      "description: Students appreciated the practical application sessions and real-world clinical scenarios, which helped them understand the relevance of the material.\n",
      "\n",
      "title: Visual and Multimedia Content\n",
      "description: The use of visual aids, animations, and multimedia resources was highly valued for making complex topics more understandable.\n",
      "\n",
      "title: Assessments and Quizzes\n",
      "description: Students found the assessments and quizzes to be insightful and well-aligned with the educational goals, helping to deepen their understanding.\n",
      "\n",
      "title: Additional Resources\n",
      "description: Supplementary materials such as study guides, vocabulary lists, and additional resources were beneficial for independent revision and deeper understanding.\n",
      "\n",
      "title: Fundamental Principles\n",
      "description: The course effectively conveyed fundamental principles, providing a solid base for future studies and professional applications.\n",
      "\n",
      "title: Interactive and Hands-On Activities\n",
      "description: Interactive modules and hands-on activities were particularly beneficial for learning and understanding complex concepts.\n",
      "\n",
      "title: Clear and Structured Content\n",
      "description: Students appreciated the clear, structured, and well-organized presentation of the course material, which facilitated learning.\n",
      "\n",
      "title: Flexibility and Self-Paced Learning\n",
      "description: The flexibility to learn at a self-determined speed was particularly beneficial for students balancing other commitments.\n",
      "\n",
      "title: Engaging and Inspiring Instructors\n",
      "description: Students found the instructors to be engaging, inspiring, and effective in communicating complex concepts.\n",
      "\n",
      "number of total themes across 3 passes before combining: 16\n",
      "The number of unique themes by title is 14\n",
      "The count of themes by title is Counter({'Visual and Multimedia Content': 2, 'Flexibility and Self-Paced Learning': 2, 'Practical Applications': 1, 'Interactive and Hands-On Learning': 1, 'Comprehensive and Structured Content': 1, 'Quizzes and Assessments': 1, 'Expert Instruction': 1, 'Practical Application': 1, 'Assessments and Quizzes': 1, 'Additional Resources': 1, 'Fundamental Principles': 1, 'Interactive and Hands-On Activities': 1, 'Clear and Structured Content': 1, 'Engaging and Inspiring Instructors': 1})\n",
      "\n",
      "combining results 3 with 2\n",
      "\n",
      "number of themes after combining: 9\n",
      "theme titles after combining: ['Practical Applications', 'Visual and Multimedia Content', 'Interactive and Hands-On Learning', 'Comprehensive and Structured Content', 'Flexibility and Self-Paced Learning', 'Quizzes and Assessments', 'Expert and Engaging Instructors', 'Additional Resources', 'Fundamental Principles']\n"
     ]
    }
   ],
   "source": [
    "best_parts_comments = example_survey['best_parts'].tolist() \n",
    "best_parts_themes = await derive_themes(comments=best_parts_comments, \n",
    "                                        question=best_parts_question, \n",
    "                                        shuffle_passes=3) # this defaults to 3 passes but just making it explicit here"
   ]
  },
  {
   "cell_type": "markdown",
   "metadata": {},
   "source": [
    "Let's see the titles of the themes derived."
   ]
  },
  {
   "cell_type": "code",
   "execution_count": 12,
   "metadata": {},
   "outputs": [
    {
     "name": "stdout",
     "output_type": "stream",
     "text": [
      "Practical Applications\n",
      "Visual and Multimedia Content\n",
      "Interactive and Hands-On Learning\n",
      "Comprehensive and Structured Content\n",
      "Flexibility and Self-Paced Learning\n",
      "Quizzes and Assessments\n",
      "Expert and Engaging Instructors\n",
      "Additional Resources\n",
      "Fundamental Principles\n"
     ]
    }
   ],
   "source": [
    "for theme in best_parts_themes.updated_themes:\n",
    "    print(theme.theme_title)"
   ]
  },
  {
   "cell_type": "markdown",
   "metadata": {},
   "source": [
    "Now let's take a look at the model's reasoning in combining themes along the way, across the different passes, and then get more detail on the final themes."
   ]
  },
  {
   "cell_type": "code",
   "execution_count": 13,
   "metadata": {},
   "outputs": [
    {
     "name": "stdout",
     "output_type": "stream",
     "text": [
      "Reasoning:\n",
      "1. 'Practical Applications' and 'Practical Application' are clearly\n",
      "about the same topic, focusing on the practical application of course\n",
      "material.  2. 'Visual and Multimedia Content' (both instances) are\n",
      "identical in title and description, so they should be merged.  3.\n",
      "'Interactive and Hands-On Learning' and 'Interactive and Hands-On\n",
      "Activities' are about interactive and hands-on learning methods, so they\n",
      "should be merged.  4. 'Comprehensive and Structured Content' and 'Clear\n",
      "and Structured Content' both emphasize the structured and clear\n",
      "presentation of course material, so they should be merged.  5. 'Quizzes\n",
      "and Assessments' and 'Assessments and Quizzes' are about the same topic,\n",
      "focusing on quizzes and assessments, so they should be merged.  6.\n",
      "'Flexibility and Self-Paced Learning' (both instances) are identical in\n",
      "title and description, so they should be merged.  7. 'Expert\n",
      "Instruction' and 'Engaging and Inspiring Instructors' both focus on the\n",
      "quality and engagement of the instructors, so they should be merged.\n",
      "\n",
      "Final Themes:\n",
      "\n",
      "Title: Practical Applications\n",
      "Description: Students appreciated the practical application segments and\n",
      "real-world clinical scenarios, which helped deepen their understanding\n",
      "of complex concepts by relating them to real-world scenarios.\n",
      "\n",
      "\n",
      "Title: Visual and Multimedia Content\n",
      "Description: The use of visual aids, instructional videos, animations,\n",
      "and multimedia resources was highly valued for making complex topics\n",
      "more understandable and engaging.\n",
      "\n",
      "\n",
      "Title: Interactive and Hands-On Learning\n",
      "Description: Interactive modules and hands-on activities were\n",
      "particularly beneficial for students, enhancing their learning\n",
      "experience through active participation.\n",
      "\n",
      "\n",
      "Title: Comprehensive and Structured Content\n",
      "Description: Students appreciated the well-organized, clear, and\n",
      "structured content, which facilitated a clear understanding of complex\n",
      "topics and principles.\n",
      "\n",
      "\n",
      "Title: Flexibility and Self-Paced Learning\n",
      "Description: The flexibility to learn at one's own pace was highly\n",
      "valued, especially for those balancing other commitments.\n",
      "\n",
      "\n",
      "Title: Quizzes and Assessments\n",
      "Description: Quizzes and assessments were appreciated for reinforcing\n",
      "key concepts and aiding in the consolidation of learning.\n",
      "\n",
      "\n",
      "Title: Expert and Engaging Instructors\n",
      "Description: Students valued the expertise and engagement of the\n",
      "instructors, finding them inspiring and effective in communicating\n",
      "complex concepts.\n",
      "\n",
      "\n",
      "Title: Additional Resources\n",
      "Description: Supplementary materials such as study guides, vocabulary\n",
      "lists, and additional resources were beneficial for independent revision\n",
      "and deeper understanding.\n",
      "\n",
      "\n",
      "Title: Fundamental Principles\n",
      "Description: The course effectively conveyed fundamental principles,\n",
      "providing a solid base for future studies and professional applications.\n",
      "\n",
      "\n"
     ]
    }
   ],
   "source": [
    "print('Reasoning:')\n",
    "print_wrap(best_parts_themes.reasoning)\n",
    "print('\\nFinal Themes:\\n')\n",
    "for theme in best_parts_themes.updated_themes:\n",
    "    print(f'Title: {theme.theme_title}')\n",
    "    print_wrap(f'Description: {theme.description}')\n",
    "    print('\\n')"
   ]
  },
  {
   "cell_type": "markdown",
   "metadata": {},
   "source": [
    "Let's do the same thing for the feedback comments for the survey question \"What could be improved about the course?\"."
   ]
  },
  {
   "cell_type": "code",
   "execution_count": 14,
   "metadata": {},
   "outputs": [
    {
     "name": "stdout",
     "output_type": "stream",
     "text": [
      "pass 1\n",
      "title: Video Duration and Pace\n",
      "description: Students expressed concerns about the duration and pace of the videos, suggesting adjustments to improve comprehension.\n",
      "\n",
      "title: Advanced and Optional Projects\n",
      "description: Students suggested incorporating advanced projects as optional tasks for those who wish to delve deeper into the subject matter.\n",
      "\n",
      "title: Additional Visual Aids\n",
      "description: Students recommended the inclusion of more visual aids to enhance understanding of the material.\n",
      "\n",
      "title: Alignment of Content and Assessments\n",
      "description: Students noted a need for better alignment between course content and assessments to ensure consistency and relevance.\n",
      "\n",
      "title: Extended Course Duration\n",
      "description: Students felt that the course duration was too short and suggested extending it to allow for a deeper exploration of the subject matter.\n",
      "\n",
      "title: Practical and Clinical Applications\n",
      "description: Students expressed a desire for more practical and clinical applications, including case studies and real-world scenarios.\n",
      "\n",
      "title: Interactive and Engaging Activities\n",
      "description: Students suggested incorporating more interactive and engaging activities to enhance the learning experience.\n",
      "\n",
      "title: Comprehensive and Updated Content\n",
      "description: Students recommended expanding and updating the course content to cover more topics and the latest advancements in the field.\n",
      "\n",
      "title: Clarity and Simplicity of Materials\n",
      "description: Students highlighted the need for clearer and simpler materials, including straightforward questions and readable typefaces.\n",
      "\n",
      "title: Additional Study Resources\n",
      "description: Students expressed a desire for more study resources, including mock tests, downloadable content, and comprehensive notes.\n",
      "\n",
      "pass 2\n",
      "title: Consistent Language in Presentations\n",
      "description: Students expressed a need for consistent language across different presentations and instructional videos to avoid confusion.\n",
      "\n",
      "title: Simplify and Clarify Questions\n",
      "description: Students found some questions convoluted and lengthy, suggesting they be made more straightforward and easier to understand.\n",
      "\n",
      "title: Additional Study Resources\n",
      "description: Students requested more study resources to aid their learning, including downloadable PDFs, handouts, and ongoing access to course content.\n",
      "\n",
      "title: Latest Treatment Methods\n",
      "description: Students suggested incorporating information about the latest treatment methods and advancements in the course content.\n",
      "\n",
      "title: Interactive and Practical Components\n",
      "description: Students expressed a desire for more interactive elements, practical exercises, and real-world applications in the course.\n",
      "\n",
      "title: Pacing of Lectures and Videos\n",
      "description: Students found the pace of some lectures and videos too fast, making it difficult to follow along, and suggested slowing down the pace.\n",
      "\n",
      "title: More Visual Aids\n",
      "description: Students suggested incorporating more visual aids to enhance understanding and retention of the material.\n",
      "\n",
      "title: Additional Case Studies and Examples\n",
      "description: Students requested more case studies and examples, particularly those involving uncommon situations and practical applications.\n",
      "\n",
      "title: Alignment of Quizzes and Course Material\n",
      "description: Students noted that quizzes and assessments were sometimes not aligned with the course material and suggested better alignment.\n",
      "\n",
      "title: Extended Duration and Depth\n",
      "description: Students suggested extending the duration of the course and delving deeper into the subject matter for a more comprehensive understanding.\n",
      "\n",
      "number of total themes across 2 passes before combining: 20\n",
      "The number of unique themes by title is 19\n",
      "The count of themes by title is Counter({'Additional Study Resources': 2, 'Video Duration and Pace': 1, 'Advanced and Optional Projects': 1, 'Additional Visual Aids': 1, 'Alignment of Content and Assessments': 1, 'Extended Course Duration': 1, 'Practical and Clinical Applications': 1, 'Interactive and Engaging Activities': 1, 'Comprehensive and Updated Content': 1, 'Clarity and Simplicity of Materials': 1, 'Consistent Language in Presentations': 1, 'Simplify and Clarify Questions': 1, 'Latest Treatment Methods': 1, 'Interactive and Practical Components': 1, 'Pacing of Lectures and Videos': 1, 'More Visual Aids': 1, 'Additional Case Studies and Examples': 1, 'Alignment of Quizzes and Course Material': 1, 'Extended Duration and Depth': 1})\n",
      "\n",
      "combining results 2 with 1\n",
      "\n",
      "number of themes after combining: 11\n",
      "theme titles after combining: ['Video Duration and Pace', 'Advanced and Practical Projects', 'Additional Visual Aids', 'Alignment of Content and Assessments', 'Extended Course Duration and Depth', 'Practical and Clinical Applications', 'Interactive and Engaging Activities', 'Comprehensive and Updated Content', 'Clarity and Simplicity of Materials', 'Additional Study Resources', 'Consistent Language in Presentations']\n",
      "pass 3\n",
      "title: Extended Course Duration\n",
      "description: Several students felt that the course duration was too short and suggested extending it to cover more material in depth.\n",
      "\n",
      "title: More Practical and Clinical Applications\n",
      "description: Students expressed a desire for more practical exercises, clinical demonstrations, and real-world applications to enhance their learning experience.\n",
      "\n",
      "title: Additional Learning Resources\n",
      "description: Students suggested incorporating more learning resources such as case studies, mock tests, and downloadable content for future reference.\n",
      "\n",
      "title: Improved Alignment and Clarity\n",
      "description: Students felt that the course content, quizzes, and assessments should be better aligned and clearer to enhance understanding.\n",
      "\n",
      "title: Enhanced Multimedia and Visual Aids\n",
      "description: Students recommended incorporating more multimedia elements and visual aids to better illustrate concepts and maintain engagement.\n",
      "\n",
      "title: Slower Pace and Comprehensive Notes\n",
      "description: Students found the pace of the instructional videos to be too fast and suggested providing more comprehensive notes or outlines to aid understanding.\n",
      "\n",
      "title: More Interactive Content\n",
      "description: Students suggested incorporating more interactive elements such as engaging activities, simulations, and live tutoring to enhance the learning experience.\n",
      "\n",
      "title: Expanded Curriculum\n",
      "description: Students expressed a desire for the curriculum to cover additional subjects and delve deeper into certain topics.\n",
      "\n",
      "number of total themes across 3 passes before combining: 19\n",
      "The number of unique themes by title is 19\n",
      "The count of themes by title is Counter({'Video Duration and Pace': 1, 'Advanced and Practical Projects': 1, 'Additional Visual Aids': 1, 'Alignment of Content and Assessments': 1, 'Extended Course Duration and Depth': 1, 'Practical and Clinical Applications': 1, 'Interactive and Engaging Activities': 1, 'Comprehensive and Updated Content': 1, 'Clarity and Simplicity of Materials': 1, 'Additional Study Resources': 1, 'Consistent Language in Presentations': 1, 'Extended Course Duration': 1, 'More Practical and Clinical Applications': 1, 'Additional Learning Resources': 1, 'Improved Alignment and Clarity': 1, 'Enhanced Multimedia and Visual Aids': 1, 'Slower Pace and Comprehensive Notes': 1, 'More Interactive Content': 1, 'Expanded Curriculum': 1})\n",
      "\n",
      "combining results 3 with 2\n",
      "\n",
      "number of themes after combining: 11\n",
      "theme titles after combining: ['Video Duration and Pace', 'Advanced and Practical Projects', 'Enhanced Multimedia and Visual Aids', 'Alignment of Content and Assessments', 'Extended Course Duration and Depth', 'Practical and Clinical Applications', 'Interactive and Engaging Activities', 'Comprehensive and Updated Content', 'Clarity and Simplicity of Materials', 'Additional Study Resources', 'Consistent Language in Presentations']\n"
     ]
    }
   ],
   "source": [
    "improve_course_comments = example_survey['improve_course'].tolist() \n",
    "improve_course_themes = await derive_themes(comments=improve_course_comments, \n",
    "                                            question=improve_course_question)"
   ]
  },
  {
   "cell_type": "markdown",
   "metadata": {},
   "source": [
    "First let's take a look at the titles of the themes derived."
   ]
  },
  {
   "cell_type": "code",
   "execution_count": 15,
   "metadata": {},
   "outputs": [
    {
     "name": "stdout",
     "output_type": "stream",
     "text": [
      "Video Duration and Pace\n",
      "Advanced and Practical Projects\n",
      "Enhanced Multimedia and Visual Aids\n",
      "Alignment of Content and Assessments\n",
      "Extended Course Duration and Depth\n",
      "Practical and Clinical Applications\n",
      "Interactive and Engaging Activities\n",
      "Comprehensive and Updated Content\n",
      "Clarity and Simplicity of Materials\n",
      "Additional Study Resources\n",
      "Consistent Language in Presentations\n"
     ]
    }
   ],
   "source": [
    "for theme in improve_course_themes.updated_themes:\n",
    "    print(theme.theme_title)"
   ]
  },
  {
   "cell_type": "markdown",
   "metadata": {},
   "source": [
    "...and some more detail about the themes and the reasoning for combining themes."
   ]
  },
  {
   "cell_type": "code",
   "execution_count": 16,
   "metadata": {},
   "outputs": [
    {
     "name": "stdout",
     "output_type": "stream",
     "text": [
      "Reasoning:\n",
      "1. 'Extended Course Duration and Depth' and 'Extended Course Duration'\n",
      "both address the need for a longer course duration to explore topics in\n",
      "more depth. These should be merged. 2. 'Practical and Clinical\n",
      "Applications' and 'More Practical and Clinical Applications' both focus\n",
      "on the need for more practical and clinical applications. These should\n",
      "be merged. 3. 'Additional Study Resources' and 'Additional Learning\n",
      "Resources' both suggest the need for more study materials and resources.\n",
      "These should be merged. 4. 'Alignment of Content and Assessments' and\n",
      "'Improved Alignment and Clarity' both discuss the need for better\n",
      "alignment and clarity between course content and assessments. These\n",
      "should be merged. 5. 'Additional Visual Aids' and 'Enhanced Multimedia\n",
      "and Visual Aids' both recommend more visual aids and multimedia\n",
      "elements. These should be merged. 6. 'Interactive and Engaging\n",
      "Activities' and 'More Interactive Content' both suggest incorporating\n",
      "more interactive elements. These should be merged. 7. 'Comprehensive and\n",
      "Updated Content' and 'Expanded Curriculum' both discuss the need for\n",
      "more comprehensive and updated content. These should be merged. 8.\n",
      "'Video Duration and Pace' and 'Slower Pace and Comprehensive Notes' both\n",
      "address concerns about the pace of videos and the need for comprehensive\n",
      "notes. These should be merged.\n",
      "\n",
      "Final Themes:\n",
      "\n",
      "Title: Video Duration and Pace\n",
      "Description: Students expressed concerns about the duration and pace of\n",
      "the videos, suggesting adjustments to improve comprehension and the\n",
      "provision of comprehensive notes.\n",
      "\n",
      "\n",
      "Title: Advanced and Practical Projects\n",
      "Description: Students suggested incorporating advanced projects and\n",
      "practical components as optional tasks for those who wish to delve\n",
      "deeper into the subject matter.\n",
      "\n",
      "\n",
      "Title: Enhanced Multimedia and Visual Aids\n",
      "Description: Students recommended incorporating more multimedia elements\n",
      "and visual aids to better illustrate concepts and maintain engagement.\n",
      "\n",
      "\n",
      "Title: Alignment of Content and Assessments\n",
      "Description: Students noted a need for better alignment between course\n",
      "content and assessments to ensure consistency and relevance.\n",
      "\n",
      "\n",
      "Title: Extended Course Duration and Depth\n",
      "Description: Students felt that the course duration was too short and\n",
      "suggested extending it to allow for a deeper exploration of the subject\n",
      "matter.\n",
      "\n",
      "\n",
      "Title: Practical and Clinical Applications\n",
      "Description: Students expressed a desire for more practical and clinical\n",
      "applications, including case studies and real-world scenarios.\n",
      "\n",
      "\n",
      "Title: Interactive and Engaging Activities\n",
      "Description: Students suggested incorporating more interactive and\n",
      "engaging activities to enhance the learning experience.\n",
      "\n",
      "\n",
      "Title: Comprehensive and Updated Content\n",
      "Description: Students recommended expanding and updating the course\n",
      "content to cover more topics and the latest advancements in the field.\n",
      "\n",
      "\n",
      "Title: Clarity and Simplicity of Materials\n",
      "Description: Students highlighted the need for clearer and simpler\n",
      "materials, including straightforward questions and readable typefaces.\n",
      "\n",
      "\n",
      "Title: Additional Study Resources\n",
      "Description: Students expressed a desire for more study resources,\n",
      "including mock tests, downloadable content, and comprehensive notes.\n",
      "\n",
      "\n",
      "Title: Consistent Language in Presentations\n",
      "Description: Students expressed a need for consistent language across\n",
      "different presentations and instructional videos to avoid confusion.\n",
      "\n",
      "\n"
     ]
    }
   ],
   "source": [
    "print('Reasoning:')\n",
    "print_wrap(improve_course_themes.reasoning)\n",
    "print('\\nFinal Themes:\\n')\n",
    "for theme in improve_course_themes.updated_themes:\n",
    "    print(f'Title: {theme.theme_title}')\n",
    "    print_wrap(f'Description: {theme.description}')\n",
    "    print('\\n')"
   ]
  },
  {
   "cell_type": "markdown",
   "metadata": {},
   "source": [
    "### Summarization\n",
    "\n",
    "Here's an alternate approach that summarizes a group of comments to come up with themes. We'll just do this for the \"What could be improved about the course?\" question. The output is less structured than for theme derivation, so it would be a bit harder to pull out the themes automatically into a spreadsheet (or as a basis for classification...what we'll do after this)."
   ]
  },
  {
   "cell_type": "code",
   "execution_count": 17,
   "metadata": {},
   "outputs": [
    {
     "data": {
      "text/markdown": [
       "The student feedback highlights several key areas for improvement in the course: \n",
       "1. **Video Content**: Mixed feedback on video duration, with some students suggesting shorter videos for simpler topics and longer videos for complex topics. There were also requests for clearer video lectures and more comprehensive notes or outlines accompanying the videos.\n",
       "2. **Pacing and Clarity**: Some students found the pace of lectures too fast and suggested slowing down, especially for complex topics. There were also comments about the need for clearer handwriting and more straightforward phrasing of questions.\n",
       "3. **Additional Content**: Requests for more advanced projects, case studies, practical exercises, and content on specific topics like cancer treatments, immunotherapy, and next-generation sequencing. Some students also suggested including more real-life applications and patient scenarios.\n",
       "4. **Interactive Elements**: Suggestions to incorporate more interactive elements such as simulations, live tutoring, and engaging activities. There were also requests for more practical clinical demonstrations and mock tests.\n",
       "5. **Assessment Alignment**: Feedback on aligning quizzes and assessments more closely with the course content, and making the questions more straightforward. Some students also suggested increasing the number of tries for assessments and including a mid-term assessment.\n",
       "6. **Resources and Accessibility**: Requests for additional study resources, downloadable content, and ongoing access to course materials. Some students also suggested providing subtitles in other languages and making subtitles selectable for copying.\n",
       "7. **Instructor Dynamics**: A few students suggested introducing additional educators to provide a dynamic learning experience and ensure consistency in language and presentation style across different lectures.\n",
       "8. **Visual Aids and Multimedia**: Suggestions to incorporate more visual aids, multimedia presentations, and comprehensive descriptions to enhance understanding. There were also requests for more detailed diagrams and visual content in the learning materials."
      ],
      "text/plain": [
       "<IPython.core.display.Markdown object>"
      ]
     },
     "metadata": {},
     "output_type": "display_data"
    }
   ],
   "source": [
    "improve_course_summarization_result = await summarize_comments(comments=improve_course_comments, \n",
    "                                                               question=improve_course_question)\n",
    "\n",
    "display(Markdown((improve_course_summarization_result.summary)))"
   ]
  },
  {
   "cell_type": "markdown",
   "metadata": {},
   "source": [
    "When I ran this for the example, the model happened to format the output in Markdown, so that's the way I'm displaying it above. The themes are not exactly the same as what we came up with from theme derivation, but that's to be expected. The content of them, if you read the descriptions, is pretty similar to what we saw from theme derivation.\n",
    "\n",
    "One thing the derived themes leave hanging is how many students actually remarked on each theme. We'll address that in the last part of this notebook using multilabel classification."
   ]
  },
  {
   "cell_type": "markdown",
   "metadata": {},
   "source": [
    "## 2. How did students feel about the course?"
   ]
  },
  {
   "cell_type": "markdown",
   "metadata": {},
   "source": [
    "### Sentiment analysis\n",
    "\n",
    "Figuring out students' sentiment can give an overall sense of the comments and help prioritize which ones might be actionable or let you see what aspects provoked the most positive or negative comments. There are other ways of getting people's overall sentiment, for example net promoter score or Likert scales, but there is additional information from sentiment. For example, it is not uncommon to see a person give a good net promoter score but provide some critical feedback in certain survey question columns."
   ]
  },
  {
   "cell_type": "markdown",
   "metadata": {},
   "source": [
    "\n",
    "Here we classify the comments that were in response to the question about the best parts of the course."
   ]
  },
  {
   "cell_type": "code",
   "execution_count": 18,
   "metadata": {},
   "outputs": [
    {
     "name": "stdout",
     "output_type": "stream",
     "text": [
      "processing 100 inputs in batches of 100\n",
      "sleeping for 30 seconds between batches\n",
      "starting 0 to 100\n",
      "completed 0 to 100\n",
      "elapsed time: 4.164031028747559\n"
     ]
    }
   ],
   "source": [
    "best_parts_sentiment_results = await classify_sentiment(comments=best_parts_comments, question=best_parts_question)"
   ]
  },
  {
   "cell_type": "markdown",
   "metadata": {},
   "source": [
    "We can first take a look at some verbose output, but the main thing to pay attention to is the sentiment and the fine_grained_sentiment_category. The sentiment for each comment is 'positive', 'negative', or 'neutral', and the fine grained sentiment further subdivides neutral into 'neutral-positive', 'neutral', or 'neutral-negative'. We'll look at the sentiment of the comments in a more visual way shortly, but here is detailed output of every tenth comment in order from most positive to most negative."
   ]
  },
  {
   "cell_type": "code",
   "execution_count": 19,
   "metadata": {},
   "outputs": [
    {
     "name": "stdout",
     "output_type": "stream",
     "text": [
      "Student comment: \"The flexibility to learn at a self-determined speed\"\n",
      "{'classification_confidence': {'difference': 'Infinity',\n",
      "                               'next_token': None,\n",
      "                               'top_token': 'positive'},\n",
      " 'fine_grained_sentiment_category': 'positive',\n",
      " 'reasoning': 'The comment highlights a positive aspect of the course, '\n",
      "              \"specifically the flexibility to learn at one's own pace. This \"\n",
      "              'indicates satisfaction and appreciation for this feature.',\n",
      " 'sentiment': 'positive',\n",
      " 'sentiment_logprobs': [{'linear_prob': 100.0,\n",
      "                         'logprob': 0.0,\n",
      "                         'token': 'positive'},\n",
      "                        {'linear_prob': 0.0,\n",
      "                         'logprob': -23.25,\n",
      "                         'token': 'posit'},\n",
      "                        {'linear_prob': 0.0,\n",
      "                         'logprob': -24.875,\n",
      "                         'token': 'Positive'}]}\n",
      "\n",
      "\n",
      "Student comment: \"the engaging online activities\"\n",
      "{'classification_confidence': {'difference': 'Infinity',\n",
      "                               'next_token': None,\n",
      "                               'top_token': 'positive'},\n",
      " 'fine_grained_sentiment_category': 'positive',\n",
      " 'reasoning': \"The comment highlights 'the engaging online activities' as the \"\n",
      "              'best part of the course, which indicates a positive experience '\n",
      "              'with this aspect of the course.',\n",
      " 'sentiment': 'positive',\n",
      " 'sentiment_logprobs': [{'linear_prob': 100.0,\n",
      "                         'logprob': 0.0,\n",
      "                         'token': 'positive'},\n",
      "                        {'linear_prob': 0.0,\n",
      "                         'logprob': -22.875,\n",
      "                         'token': 'posit'},\n",
      "                        {'linear_prob': 0.0,\n",
      "                         'logprob': -24.125,\n",
      "                         'token': 'Positive'}]}\n",
      "\n",
      "\n",
      "Student comment: \"Gaining knowledge from specialists in the industry.\"\n",
      "{'classification_confidence': {'difference': 24.875,\n",
      "                               'next_token': '<|end|>',\n",
      "                               'top_token': 'positive'},\n",
      " 'fine_grained_sentiment_category': 'positive',\n",
      " 'reasoning': 'The comment highlights a positive aspect of the course, '\n",
      "              'specifically the opportunity to gain knowledge from industry '\n",
      "              'specialists. This indicates that the student found this part of '\n",
      "              'the course beneficial and valuable.',\n",
      " 'sentiment': 'positive',\n",
      " 'sentiment_logprobs': [{'linear_prob': 100.0,\n",
      "                         'logprob': 0.0,\n",
      "                         'token': 'positive'},\n",
      "                        {'linear_prob': 0.0,\n",
      "                         'logprob': -22.75,\n",
      "                         'token': 'posit'},\n",
      "                        {'linear_prob': 0.0,\n",
      "                         'logprob': -24.875,\n",
      "                         'token': '<|end|>'}]}\n",
      "\n",
      "\n",
      "Student comment: \"I found the multimedia content and interactive quizzes to be beneficial.\"\n",
      "{'classification_confidence': {'difference': 23.625,\n",
      "                               'next_token': '<|end|>',\n",
      "                               'top_token': 'positive'},\n",
      " 'fine_grained_sentiment_category': 'positive',\n",
      " 'reasoning': 'The comment highlights specific aspects of the course, namely '\n",
      "              'the multimedia content and interactive quizzes, as beneficial. '\n",
      "              'This indicates a positive experience with these elements of the '\n",
      "              'course.',\n",
      " 'sentiment': 'positive',\n",
      " 'sentiment_logprobs': [{'linear_prob': 100.0,\n",
      "                         'logprob': 0.0,\n",
      "                         'token': 'positive'},\n",
      "                        {'linear_prob': 0.0,\n",
      "                         'logprob': -22.125,\n",
      "                         'token': 'posit'},\n",
      "                        {'linear_prob': 0.0,\n",
      "                         'logprob': -23.625,\n",
      "                         'token': '<|end|>'}]}\n",
      "\n",
      "\n",
      "Student comment: \"I appreciated the concise segmented presentations, the assessments following each segment, and the practical case studies provided.\"\n",
      "{'classification_confidence': {'difference': 23.0,\n",
      "                               'next_token': '<|end|>',\n",
      "                               'top_token': 'positive'},\n",
      " 'fine_grained_sentiment_category': 'positive',\n",
      " 'reasoning': 'The comment highlights specific aspects of the course that the '\n",
      "              'student appreciated, such as the concise segmented '\n",
      "              'presentations, the assessments following each segment, and the '\n",
      "              'practical case studies. These positive mentions indicate that '\n",
      "              'the student found these elements beneficial and effective.',\n",
      " 'sentiment': 'positive',\n",
      " 'sentiment_logprobs': [{'linear_prob': 100.0,\n",
      "                         'logprob': 0.0,\n",
      "                         'token': 'positive'},\n",
      "                        {'linear_prob': 0.0,\n",
      "                         'logprob': -22.375,\n",
      "                         'token': 'posit'},\n",
      "                        {'linear_prob': 0.0,\n",
      "                         'logprob': -23.0,\n",
      "                         'token': '<|end|>'}]}\n",
      "\n",
      "\n",
      "Student comment: \"The hands-on interactive modules related to fluid dynamics were particularly beneficial, as I absorbed more knowledge by actively adjusting the parameters than through passive listening or reading. Equally informative were the visual aids that clarified the application of certain medical treatments.\"\n",
      "{'classification_confidence': {'difference': 22.25,\n",
      "                               'next_token': '<|end|>',\n",
      "                               'top_token': 'positive'},\n",
      " 'fine_grained_sentiment_category': 'positive',\n",
      " 'reasoning': 'The comment highlights specific aspects of the course that the '\n",
      "              'student found beneficial, such as the hands-on interactive '\n",
      "              'modules and visual aids. The student mentions that these '\n",
      "              'methods helped them absorb more knowledge and clarified the '\n",
      "              'application of medical treatments, indicating a positive '\n",
      "              'experience.',\n",
      " 'sentiment': 'positive',\n",
      " 'sentiment_logprobs': [{'linear_prob': 100.0,\n",
      "                         'logprob': 0.0,\n",
      "                         'token': 'positive'},\n",
      "                        {'linear_prob': 0.0,\n",
      "                         'logprob': -21.625,\n",
      "                         'token': 'posit'},\n",
      "                        {'linear_prob': 0.0,\n",
      "                         'logprob': -22.25,\n",
      "                         'token': '<|end|>'}]}\n",
      "\n",
      "\n",
      "Student comment: \"The instructional animations and the variety of engaging multimedia resources were excellent, making the material straightforward and comprehensible.\"\n",
      "{'classification_confidence': {'difference': 21.625,\n",
      "                               'next_token': '<|end|>',\n",
      "                               'top_token': 'positive'},\n",
      " 'fine_grained_sentiment_category': 'positive',\n",
      " 'reasoning': 'The comment highlights the excellence of the instructional '\n",
      "              'animations and multimedia resources, noting that they made the '\n",
      "              'material straightforward and comprehensible. This indicates a '\n",
      "              'positive experience with these aspects of the course.',\n",
      " 'sentiment': 'positive',\n",
      " 'sentiment_logprobs': [{'linear_prob': 100.0,\n",
      "                         'logprob': 0.0,\n",
      "                         'token': 'positive'},\n",
      "                        {'linear_prob': 0.0,\n",
      "                         'logprob': -20.0,\n",
      "                         'token': 'posit'},\n",
      "                        {'linear_prob': 0.0,\n",
      "                         'logprob': -21.625,\n",
      "                         'token': '<|end|>'}]}\n",
      "\n",
      "\n",
      "Student comment: \"The illustrative animations clarified the main ideas effectively. The foundational exercises were also quite beneficial.\"\n",
      "{'classification_confidence': {'difference': 21.0,\n",
      "                               'next_token': '<|end|>',\n",
      "                               'top_token': 'positive'},\n",
      " 'fine_grained_sentiment_category': 'positive',\n",
      " 'reasoning': 'The comment highlights two positive aspects of the course: the '\n",
      "              'effectiveness of the illustrative animations in clarifying main '\n",
      "              'ideas and the benefit of the foundational exercises. The use of '\n",
      "              \"words like 'effectively' and 'beneficial' indicates a positive \"\n",
      "              'sentiment.',\n",
      " 'sentiment': 'positive',\n",
      " 'sentiment_logprobs': [{'linear_prob': 100.0,\n",
      "                         'logprob': 0.0,\n",
      "                         'token': 'positive'},\n",
      "                        {'linear_prob': 0.0,\n",
      "                         'logprob': -20.0,\n",
      "                         'token': 'posit'},\n",
      "                        {'linear_prob': 0.0,\n",
      "                         'logprob': -21.0,\n",
      "                         'token': '<|end|>'}]}\n",
      "\n",
      "\n",
      "Student comment: \"comprehensive summary, encompassing emerging treatments currently under research\"\n",
      "{'classification_confidence': {'difference': 19.5,\n",
      "                               'next_token': 'neutral',\n",
      "                               'top_token': 'positive'},\n",
      " 'fine_grained_sentiment_category': 'positive',\n",
      " 'reasoning': \"The comment mentions a 'comprehensive summary' and 'emerging \"\n",
      "              \"treatments currently under research,' which indicates that the \"\n",
      "              'student found the course content thorough and up-to-date. This '\n",
      "              'suggests a positive sentiment as the student appreciates the '\n",
      "              'depth and relevance of the material covered.',\n",
      " 'sentiment': 'positive',\n",
      " 'sentiment_logprobs': [{'linear_prob': 100.0,\n",
      "                         'logprob': 0.0,\n",
      "                         'token': 'positive'},\n",
      "                        {'linear_prob': 0.0,\n",
      "                         'logprob': -19.5,\n",
      "                         'token': 'neutral'},\n",
      "                        {'linear_prob': 0.0,\n",
      "                         'logprob': -20.625,\n",
      "                         'token': 'posit'}]}\n",
      "\n",
      "\n",
      "Student comment: \"The sections on natural immune responses, the role of supportive immune cells, the mechanisms and roles of immune proteins, hypersensitivity reactions, the connections between various health conditions, and the processes of pathogen detection and immune response enhancement.\"\n",
      "{'classification_confidence': {'difference': 21.25,\n",
      "                               'next_token': 'ne',\n",
      "                               'top_token': 'neutral'},\n",
      " 'fine_grained_sentiment_category': 'neutral',\n",
      " 'reasoning': 'The comment lists various topics covered in the course but does '\n",
      "              'not express any positive or negative feelings about them. It is '\n",
      "              'purely descriptive and lacks any emotional language or '\n",
      "              'evaluative statements.',\n",
      " 'sentiment': 'neutral',\n",
      " 'sentiment_logprobs': [{'linear_prob': 100.0,\n",
      "                         'logprob': 0.0,\n",
      "                         'token': 'neutral'},\n",
      "                        {'linear_prob': 0.0, 'logprob': -21.25, 'token': 'ne'},\n",
      "                        {'linear_prob': 0.0,\n",
      "                         'logprob': -24.25,\n",
      "                         'token': 'negative'}]}\n",
      "\n",
      "\n"
     ]
    }
   ],
   "source": [
    "best_parts_pairs = sort_by_confidence(best_parts_comments, best_parts_sentiment_results)\n",
    "for comment, result in best_parts_pairs[::10]:\n",
    "    print(f'Student comment: \"{comment}\"')\n",
    "    pprint(json.loads(result.model_dump_json(exclude={'logprobs'})))\n",
    "    print('\\n')"
   ]
  },
  {
   "cell_type": "markdown",
   "metadata": {},
   "source": [
    "We will also run sentiment analysis over the survey feedback about how the course can be improved before visualizing both to compare."
   ]
  },
  {
   "cell_type": "code",
   "execution_count": 20,
   "metadata": {},
   "outputs": [
    {
     "name": "stdout",
     "output_type": "stream",
     "text": [
      "processing 100 inputs in batches of 100\n",
      "sleeping for 30 seconds between batches\n",
      "starting 0 to 100\n",
      "completed 0 to 100\n",
      "elapsed time: 3.689965009689331\n"
     ]
    }
   ],
   "source": [
    "improve_course_sentiment_results = await classify_sentiment(comments=improve_course_comments, question=improve_course_question)"
   ]
  },
  {
   "cell_type": "markdown",
   "metadata": {},
   "source": [
    "...and check out the ranking of the comments along with the detailed reasoning of the logic behind why each comment was classified that way. Here we'll just look at a sampling of a smaller number of comments."
   ]
  },
  {
   "cell_type": "code",
   "execution_count": 21,
   "metadata": {},
   "outputs": [
    {
     "name": "stdout",
     "output_type": "stream",
     "text": [
      "Student comment: \"nothing, the course is already excellent\"\n",
      "{'classification_confidence': {'difference': 16.37499980638735,\n",
      "                               'next_token': 'negative',\n",
      "                               'top_token': 'positive'},\n",
      " 'fine_grained_sentiment_category': 'positive',\n",
      " 'reasoning': 'The comment indicates that the student believes the course is '\n",
      "              'already excellent and does not need any improvements. This '\n",
      "              'suggests a positive sentiment towards the course.',\n",
      " 'sentiment': 'positive',\n",
      " 'sentiment_logprobs': [{'linear_prob': 100.0,\n",
      "                         'logprob': -1.9361265e-07,\n",
      "                         'token': 'positive'},\n",
      "                        {'linear_prob': 0.0,\n",
      "                         'logprob': -16.375,\n",
      "                         'token': 'negative'},\n",
      "                        {'linear_prob': 0.0,\n",
      "                         'logprob': -17.75,\n",
      "                         'token': 'posit'}]}\n",
      "\n",
      "\n",
      "Student comment: \"Extend the duration! The course felt too brief with just a three-week timeframe; I was eager to delve deeper into the subject matter.\"\n",
      "{'classification_confidence': {'difference': 6.4999998294,\n",
      "                               'next_token': 'neutral',\n",
      "                               'top_token': 'positive'},\n",
      " 'fine_grained_sentiment_category': 'positive',\n",
      " 'reasoning': 'The comment expresses a desire for a longer course duration, '\n",
      "              'indicating that the student was eager to learn more. This '\n",
      "              'suggests a positive engagement with the course content, even '\n",
      "              'though the comment is about a potential improvement.',\n",
      " 'sentiment': 'positive',\n",
      " 'sentiment_logprobs': [{'linear_prob': 99.85,\n",
      "                         'logprob': -0.0015311706,\n",
      "                         'token': 'positive'},\n",
      "                        {'linear_prob': 0.15,\n",
      "                         'logprob': -6.501531,\n",
      "                         'token': 'neutral'},\n",
      "                        {'linear_prob': 0.0,\n",
      "                         'logprob': -10.501532,\n",
      "                         'token': 'negative'}]}\n",
      "\n",
      "\n",
      "Student comment: \"It would be beneficial to provide a handout that allows for student annotations instead of just a page with empty spaces adjacent to key concepts.\"\n",
      "{'classification_confidence': {'difference': 13.0000005415178,\n",
      "                               'next_token': 'positive',\n",
      "                               'top_token': 'neutral'},\n",
      " 'fine_grained_sentiment_category': 'neutral-positive',\n",
      " 'reasoning': 'The comment suggests a specific improvement to the course '\n",
      "              'materials, indicating that the student sees potential for '\n",
      "              'enhancement. The tone is constructive and focused on a '\n",
      "              'practical change rather than expressing dissatisfaction or '\n",
      "              'frustration.',\n",
      " 'sentiment': 'neutral',\n",
      " 'sentiment_logprobs': [{'linear_prob': 100.0,\n",
      "                         'logprob': -2.4584822e-06,\n",
      "                         'token': 'neutral'},\n",
      "                        {'linear_prob': 0.0,\n",
      "                         'logprob': -13.000003,\n",
      "                         'token': 'positive'},\n",
      "                        {'linear_prob': 0.0,\n",
      "                         'logprob': -16.125002,\n",
      "                         'token': 'negative'}]}\n",
      "\n",
      "\n",
      "Student comment: \"Extend the duration of the concept videos for the more challenging topics, as they require a deeper dive to fully grasp the intricacies involved. Additionally, consider introducing an additional educator to the mix. The dynamic of having multiple voices in another subject area is quite engaging, and it would be beneficial to replicate that experience in this subject to prevent monotony from setting in with just one instructor.\"\n",
      "{'classification_confidence': {'difference': 24.875,\n",
      "                               'next_token': 'ne',\n",
      "                               'top_token': 'neutral'},\n",
      " 'fine_grained_sentiment_category': 'neutral',\n",
      " 'reasoning': 'The comment suggests specific improvements to the course, such '\n",
      "              'as extending the duration of concept videos for challenging '\n",
      "              'topics and introducing an additional educator. The tone is '\n",
      "              'constructive and aimed at enhancing the learning experience, '\n",
      "              'but it does not express dissatisfaction or negative feelings. '\n",
      "              'Therefore, the sentiment is neutral.',\n",
      " 'sentiment': 'neutral',\n",
      " 'sentiment_logprobs': [{'linear_prob': 100.0,\n",
      "                         'logprob': 0.0,\n",
      "                         'token': 'neutral'},\n",
      "                        {'linear_prob': 0.0,\n",
      "                         'logprob': -24.75,\n",
      "                         'token': ' neutral'},\n",
      "                        {'linear_prob': 0.0,\n",
      "                         'logprob': -24.875,\n",
      "                         'token': 'ne'}]}\n",
      "\n",
      "\n",
      "Student comment: \"Improving the clarity of the video lectures.\"\n",
      "{'classification_confidence': {'difference': 17.375,\n",
      "                               'next_token': 'neutral',\n",
      "                               'top_token': 'negative'},\n",
      " 'fine_grained_sentiment_category': 'negative',\n",
      " 'reasoning': 'The comment suggests a specific area for improvement, '\n",
      "              'indicating that the student found the clarity of the video '\n",
      "              'lectures lacking. This implies a negative sentiment as it '\n",
      "              'points out a deficiency in the course.',\n",
      " 'sentiment': 'negative',\n",
      " 'sentiment_logprobs': [{'linear_prob': 100.0,\n",
      "                         'logprob': 0.0,\n",
      "                         'token': 'negative'},\n",
      "                        {'linear_prob': 0.0,\n",
      "                         'logprob': -17.375,\n",
      "                         'token': 'neutral'},\n",
      "                        {'linear_prob': 0.0,\n",
      "                         'logprob': -18.25,\n",
      "                         'token': 'Negative'}]}\n",
      "\n",
      "\n"
     ]
    }
   ],
   "source": [
    "improve_course_pairs = sort_by_confidence(improve_course_comments, improve_course_sentiment_results)\n",
    "for comment, result in improve_course_pairs[::20]:\n",
    "    print(f'Student comment: \"{comment}\"')\n",
    "    pprint(json.loads(result.model_dump_json(exclude={'logprobs'})))\n",
    "    print('\\n')"
   ]
  },
  {
   "cell_type": "markdown",
   "metadata": {},
   "source": [
    "### Displaying the sentiment results"
   ]
  },
  {
   "cell_type": "markdown",
   "metadata": {},
   "source": [
    "Just for visualization sake, we create a display helper function for pretty output ranked by sentiment from most positive to most negative (from blue to red). This color theme is best viewed on a dark background (dark theme)."
   ]
  },
  {
   "cell_type": "code",
   "execution_count": 24,
   "metadata": {},
   "outputs": [],
   "source": [
    "color_map = {'positive': 'MediumSlateBlue', \n",
    "            'neutral-positive': 'LightSkyBlue',\n",
    "            'neutral': 'LightGray',\n",
    "            'neutral-negative': 'LightSalmon',\n",
    "            'negative': 'Red'}\n",
    "\n",
    "def colorized_html_output(pairs: tuple[str, SentimentAnalysisResult]) -> Any:\n",
    "    html_output = \"\"\n",
    "    for comment, result in pairs:\n",
    "        color = color_map[result.fine_grained_sentiment_category]\n",
    "        html_output += f'<span style=\"color:{color}; font-size:1.2em\">\"{comment}\"</span><br>'\n",
    "\n",
    "    return HTML(html_output)\n",
    "\n",
    "def reference_colors():\n",
    "    \"\"\"This is kind of like a legend for the colorized_html_output\"\"\"\n",
    "    html_output = \"\"\n",
    "    for category, color in color_map.items():\n",
    "        html_output += f'<span style=\"color:{color}; font-size:1.2em\">{category}</span><br>'\n",
    "\n",
    "    return HTML(html_output)"
   ]
  },
  {
   "cell_type": "code",
   "execution_count": 25,
   "metadata": {},
   "outputs": [
    {
     "data": {
      "text/html": [
       "<span style=\"color:MediumSlateBlue; font-size:1.2em\">positive</span><br><span style=\"color:LightSkyBlue; font-size:1.2em\">neutral-positive</span><br><span style=\"color:LightGray; font-size:1.2em\">neutral</span><br><span style=\"color:LightSalmon; font-size:1.2em\">neutral-negative</span><br><span style=\"color:Red; font-size:1.2em\">negative</span><br>"
      ],
      "text/plain": [
       "<IPython.core.display.HTML object>"
      ]
     },
     "metadata": {},
     "output_type": "display_data"
    }
   ],
   "source": [
    "display(reference_colors())"
   ]
  },
  {
   "cell_type": "markdown",
   "metadata": {},
   "source": [
    "Let's look at the best parts comments visualized. We'll choose a random subset to make the output less lengthy, but it should give us a good idea of the proportion of comments falling into each category. (I'm setting a random seed so you see the same random subset when you run this on your own, but feel free to comment that out.) If you want to see the full output, comment out the first four lines and uncomment the last line."
   ]
  },
  {
   "cell_type": "code",
   "execution_count": 26,
   "metadata": {},
   "outputs": [
    {
     "data": {
      "text/html": [
       "<span style=\"color:MediumSlateBlue; font-size:1.2em\">\"The flexibility to learn at a self-determined speed\"</span><br><span style=\"color:MediumSlateBlue; font-size:1.2em\">\"Professional growth within the medical sector\"</span><br><span style=\"color:MediumSlateBlue; font-size:1.2em\">\"Organization, progression, scholarly debates, and narratives of actual patients\"</span><br><span style=\"color:MediumSlateBlue; font-size:1.2em\">\"The instructional videos on clinical procedures were beneficial.\"</span><br><span style=\"color:MediumSlateBlue; font-size:1.2em\">\"The hands-on components\"</span><br><span style=\"color:MediumSlateBlue; font-size:1.2em\">\"Concise and effectively demonstrated discussions on challenging subjects.\"</span><br><span style=\"color:MediumSlateBlue; font-size:1.2em\">\"I appreciated the clarity and visual aids provided in the course, which simplified complex topics such as cellular processes, hereditary traits, oncology principles, and DNA analysis. These tools made the material more accessible, especially compared to the challenge of deciphering academic papers and other scientific texts on my own.\"</span><br><span style=\"color:MediumSlateBlue; font-size:1.2em\">\"The instructional videos connecting theory to practice\"</span><br><span style=\"color:MediumSlateBlue; font-size:1.2em\">\"I appreciated the engaging nature of the course.\"</span><br><span style=\"color:MediumSlateBlue; font-size:1.2em\">\"Acquire a solid base for future studies in the medical field.\"</span><br><span style=\"color:MediumSlateBlue; font-size:1.2em\">\"The highlights of the class included the practical demonstration clips that made the complex biological principles more understandable by connecting them to daily well-being and actions. This connection was incredibly beneficial as I navigated the course content.\"</span><br><span style=\"color:MediumSlateBlue; font-size:1.2em\">\"I think the fundamental principles and their direct application in a professional setting were the highlights of the program.\"</span><br><span style=\"color:MediumSlateBlue; font-size:1.2em\">\"I appreciated the graphical representations of key immunological reactions and the robust correlations to relevant content presented in the sections discussing disease associations.\"</span><br><span style=\"color:MediumSlateBlue; font-size:1.2em\">\"I valued the practical clinical aspects related to immune-related disorders and their management.\"</span><br><span style=\"color:MediumSlateBlue; font-size:1.2em\">\"Detailed illustrations and high-quality visual content.\"</span><br><span style=\"color:MediumSlateBlue; font-size:1.2em\">\"I appreciated gaining knowledge about the roles of both B and T cells in the functioning of our immune defense.\"</span><br><span style=\"color:MediumSlateBlue; font-size:1.2em\">\"The practical application segments of the lessons were beneficial. They aided in deepening comprehension of the molecular processes.\"</span><br><span style=\"color:MediumSlateBlue; font-size:1.2em\">\"The most significant aspect that I appreciated in this course was the foundational knowledge of immunotherapy mechanisms. The concepts of immune checkpoints were enlightening. Fundamentals of cellular immunotherapy and its constituents were also beneficial.\"</span><br><span style=\"color:MediumSlateBlue; font-size:1.2em\">\"Professionals engaging with clients\"</span><br><span style=\"color:MediumSlateBlue; font-size:1.2em\">\"Everything was outstanding!!! Numerous networking opportunities\"</span><br><span style=\"color:MediumSlateBlue; font-size:1.2em\">\"I appreciated the concise segmented presentations, the assessments following each segment, and the practical case studies provided.\"</span><br><span style=\"color:MediumSlateBlue; font-size:1.2em\">\"The provision of structured outlines that facilitated the capture of key points in a succinct manner.\"</span><br><span style=\"color:MediumSlateBlue; font-size:1.2em\">\"The practical exercises in the laboratory and their relevance to real-world health conditions or metabolic processes in organisms.\"</span><br><span style=\"color:MediumSlateBlue; font-size:1.2em\">\"the practical aspects of medical assessments. Grasping the constraints of diagnostic procedures. Reasons for uncertain outcomes from certain examinations.\"</span><br><span style=\"color:MediumSlateBlue; font-size:1.2em\">\"The practical application aspect was beneficial for grasping the fundamental ideas.\"</span><br><span style=\"color:MediumSlateBlue; font-size:1.2em\">\"The content was highly captivating, with quiz items that were appropriately difficult yet manageable. The assessments focused on key principles, and I believe I have thoroughly grasped the fundamental concepts of the subject matter following this class.\"</span><br><span style=\"color:MediumSlateBlue; font-size:1.2em\">\"The participatory elements were the highlight for me. The online course was excellently crafted and engaging. The promptness in addressing inquiries was commendable. Kudos to the crew!\"</span><br><span style=\"color:MediumSlateBlue; font-size:1.2em\">\"I really appreciated the detailed discussions about the clinical settings.\"</span><br><span style=\"color:MediumSlateBlue; font-size:1.2em\">\"The instructional animations and the variety of engaging multimedia resources were excellent, making the material straightforward and comprehensible.\"</span><br><span style=\"color:MediumSlateBlue; font-size:1.2em\">\"The most beneficial aspect of the class was the incorporation of real-world clinical scenarios into every lecture.\"</span><br><span style=\"color:MediumSlateBlue; font-size:1.2em\">\"The organization and presentation of the subject matter were highly effective for educational purposes.\"</span><br><span style=\"color:MediumSlateBlue; font-size:1.2em\">\"The subject matter and the assessments contributed to a clearer comprehension of the content.\"</span><br><span style=\"color:MediumSlateBlue; font-size:1.2em\">\"The additional resources provided, such as study guides and vocabulary lists, were extremely beneficial for independent revision. It's advantageous to have an abundance of these materials.\"</span><br><span style=\"color:MediumSlateBlue; font-size:1.2em\">\"Excellent blend of conceptual understanding, real-world illustrations, and examination queries that test your comprehension.\"</span><br><span style=\"color:MediumSlateBlue; font-size:1.2em\">\"The illustrative animations clarified the main ideas effectively. The foundational exercises were also quite beneficial.\"</span><br><span style=\"color:MediumSlateBlue; font-size:1.2em\">\"The key factors that made this course appealing were the comprehensive resources provided, including video content, instructional materials, and support documents that facilitated theoretical understanding. Additionally, the opportunity to engage with various practical situations in the laboratory setting, where we could implement the learned principles, was highly beneficial.\"</span><br><span style=\"color:MediumSlateBlue; font-size:1.2em\">\"The educational content was extremely enriching and stimulating! The section on oncology was the highlight.\"</span><br><span style=\"color:MediumSlateBlue; font-size:1.2em\">\"The course content on cutting-edge treatments within the field of immune-based cancer therapies was outstanding.\"</span><br><span style=\"color:MediumSlateBlue; font-size:1.2em\">\"I genuinely appreciated the succinctness of the curriculum. The fundamental principles taught are crucial for making important decisions in the future. I believe the instructor was outstanding and had a calming demeanor, which in turn made me feel at ease. The incorporation of various healthcare settings and interactions with patients significantly contributed to the thought process and highlighted the competencies necessary for precise diagnoses.\"</span><br><span style=\"color:MediumSlateBlue; font-size:1.2em\">\"I found the practical exercises to be particularly beneficial. The fundamental principles were effectively conveyed, providing a solid base. The intensive sessions were successful in presenting a more detailed understanding of the underlying scientific concepts.\"</span><br><span style=\"color:MediumSlateBlue; font-size:1.2em\">\"The visual summaries provided at the end of each session were highly beneficial. It would be advantageous if these could be compiled into a document for future reference.\"</span><br><span style=\"color:MediumSlateBlue; font-size:1.2em\">\"The entirety of the course was highly engaging, with a particular interest in the study of bodily functions, especially those related to the kidneys. Initially, there were challenges in understanding heart and lung functions, but the course's emphasis on these areas has significantly improved comprehension and confidence.\"</span><br><span style=\"color:MediumSlateBlue; font-size:1.2em\">\"practical case studies, effective educators who communicated the concepts well, the engaging animated opening segments\"</span><br><span style=\"color:MediumSlateBlue; font-size:1.2em\">\"The instructors\"</span><br><span style=\"color:LightGray; font-size:1.2em\">\"Sensitivities\"</span><br><span style=\"color:LightGray; font-size:1.2em\">\"illustrations\"</span><br><span style=\"color:LightGray; font-size:1.2em\">\"Practice Questions\"</span><br><span style=\"color:LightGray; font-size:1.2em\">\"The sections on natural immune responses, the role of supportive immune cells, the mechanisms and roles of immune proteins, hypersensitivity reactions, the connections between various health conditions, and the processes of pathogen detection and immune response enhancement.\"</span><br><span style=\"color:LightGray; font-size:1.2em\">\"the recent courses on immune-targeted cancer treatments, cellular immunotherapies, and viral oncology studies.\"</span><br><span style=\"color:LightSalmon; font-size:1.2em\">\"The instructor\"</span><br>"
      ],
      "text/plain": [
       "<IPython.core.display.HTML object>"
      ]
     },
     "metadata": {},
     "output_type": "display_data"
    }
   ],
   "source": [
    "random.seed(1)\n",
    "random_indices = random.sample(range(len(best_parts_pairs)), 50)\n",
    "random_indices.sort()\n",
    "display(colorized_html_output(best_parts_pairs[i] for i in random_indices))\n",
    "# display(colorized_html_output(best_parts_pairs))"
   ]
  },
  {
   "cell_type": "markdown",
   "metadata": {},
   "source": [
    "Interesting...overwhelmingly positive (as we would expect, based on the question), but you can see that the non-positive ones are more ambiguous. Now let's compare with a random subset of the comments from the question about improving the course."
   ]
  },
  {
   "cell_type": "code",
   "execution_count": 27,
   "metadata": {},
   "outputs": [
    {
     "data": {
      "text/html": [
       "<span style=\"color:MediumSlateBlue; font-size:1.2em\">\"nothing, the course is already excellent\"</span><br><span style=\"color:MediumSlateBlue; font-size:1.2em\">\"none, all very good\"</span><br><span style=\"color:MediumSlateBlue; font-size:1.2em\">\"Its perfect this way\"</span><br><span style=\"color:MediumSlateBlue; font-size:1.2em\">\"This course is already excellent and does not require enhancements. I feel that it successfully conveyed all the intended educational objectives.\"</span><br><span style=\"color:MediumSlateBlue; font-size:1.2em\">\"I found the entire segment of the course to be engaging. Thus, I cannot pinpoint any specific improvements.\"</span><br><span style=\"color:MediumSlateBlue; font-size:1.2em\">\"It's excellent.\"</span><br><span style=\"color:MediumSlateBlue; font-size:1.2em\">\"Overall, the course was quite satisfactory.\"</span><br><span style=\"color:MediumSlateBlue; font-size:1.2em\">\"The class was excellent.\"</span><br><span style=\"color:MediumSlateBlue; font-size:1.2em\">\"Outstanding!\"</span><br><span style=\"color:MediumSlateBlue; font-size:1.2em\">\"No improvements necessary.\"</span><br><span style=\"color:MediumSlateBlue; font-size:1.2em\">\"The course is generally well-executed despite the limitations of the online setting.\"</span><br><span style=\"color:MediumSlateBlue; font-size:1.2em\">\"Not much.\"</span><br><span style=\"color:MediumSlateBlue; font-size:1.2em\">\"nothing more\"</span><br><span style=\"color:MediumSlateBlue; font-size:1.2em\">\"Educationally, I found the course to be of exceptional quality; the resources provided were excellent and the course was well organized. It would be beneficial to include more comprehensive discussions on a wider variety of treatments for cancer. Topics like circulating tumor DNA and the progression of tumors were addressed somewhat superficially. Expanding on the practical consequences and real-life instances of therapeutic approaches and patient scenarios would be a valuable enhancement.\"</span><br><span style=\"color:LightSkyBlue; font-size:1.2em\">\"Enhance the complexity and substance of the material. It would be beneficial to include more practical exercises. Perhaps a small-scale project that requires us to utilize what we've learned in a real-world scenario.\"</span><br><span style=\"color:LightSkyBlue; font-size:1.2em\">\"It would be beneficial to incorporate additional pathological conditions into the curriculum. Presenting a condition and then delving into its biochemical underpinnings would be highly valuable, as it would allow us to understand prevalent diseases and the relevant biochemical concepts for that particular session.\"</span><br><span style=\"color:LightSkyBlue; font-size:1.2em\">\"To broaden the curriculum with additional subjects on innovative therapies for cancer.\"</span><br><span style=\"color:LightSkyBlue; font-size:1.2em\">\"The sole improvement I'd suggest is to emphasize the requirement to choose two responses by making it bold.\"</span><br><span style=\"color:LightSkyBlue; font-size:1.2em\">\"Include additional questions in the quizzes.\"</span><br><span style=\"color:LightSkyBlue; font-size:1.2em\">\"It would be beneficial to include more content on the typical challenges encountered when introducing these beneficial innovations to patients and lesser-known regions.\"</span><br><span style=\"color:LightSkyBlue; font-size:1.2em\">\"Incorporate additional multimedia presentations regarding practical patient scenarios and extend the dialogues concerning the potential difficulties and benefits of emerging treatments.\"</span><br><span style=\"color:LightSkyBlue; font-size:1.2em\">\"Perhaps include additional content on the creation of novel medications.\"</span><br><span style=\"color:LightSkyBlue; font-size:1.2em\">\"Additional content and case studies from data analysis repositories would be beneficial. Further insights into the application of computational algorithms and the challenges faced, including the verification of assessments, would also be appreciated.\"</span><br><span style=\"color:LightSkyBlue; font-size:1.2em\">\"It would be beneficial to provide a handout that allows for student annotations instead of just a page with empty spaces adjacent to key concepts.\"</span><br><span style=\"color:LightSkyBlue; font-size:1.2em\">\"Expanding on the subject matter could aid in early comprehension of the principles.\"</span><br><span style=\"color:LightSkyBlue; font-size:1.2em\">\"It would be beneficial if the course content could be aggregated into a downloadable PDF format for future reference. While I have taken notes, having a compiled resource would be advantageous. I recognize that due to the course's heavy reliance on video content, this may pose a challenge. The diagrams provided were especially helpful.\"</span><br><span style=\"color:LightSkyBlue; font-size:1.2em\">\"It would be beneficial to clarify earlier on that the quizzes are designed not just to evaluate the material covered in lectures and readings, but also to facilitate deeper comprehension and encourage active problem-solving.\"</span><br><span style=\"color:LightSkyBlue; font-size:1.2em\">\"It would be beneficial to have ongoing access to the course content for future reference and review.\"</span><br><span style=\"color:LightSkyBlue; font-size:1.2em\">\"Incorporating additional visual aids could enhance and solidify the understanding of the material.\"</span><br><span style=\"color:LightSkyBlue; font-size:1.2em\">\"It would be beneficial to have additional mock tests available for the concluding assessment.\"</span><br><span style=\"color:LightGray; font-size:1.2em\">\"Consider expanding the curriculum with additional subjects.\"</span><br><span style=\"color:LightGray; font-size:1.2em\">\"No specific improvements suggested.\"</span><br><span style=\"color:LightGray; font-size:1.2em\">\"Incorporating a live tutoring option during video playback could be beneficial.\"</span><br><span style=\"color:LightGray; font-size:1.2em\">\"Satisfactory program\"</span><br><span style=\"color:LightGray; font-size:1.2em\">\"It would be beneficial to include additional video content covering more detailed subjects, as previously suggested.\"</span><br><span style=\"color:LightGray; font-size:1.2em\">\"Extend the duration of the concept videos for the more challenging topics, as they require a deeper dive to fully grasp the intricacies involved. Additionally, consider introducing an additional educator to the mix. The dynamic of having multiple voices in another subject area is quite engaging, and it would be beneficial to replicate that experience in this subject to prevent monotony from setting in with just one instructor.\"</span><br><span style=\"color:LightSalmon; font-size:1.2em\">\"Incorporate a wider range of examples to clarify the topics, and consider adding subtitles in other languages to assist learners who aren't fluent in English.\"</span><br><span style=\"color:LightSalmon; font-size:1.2em\">\"Condensed recapitulations could be more brief and incorporate additional practical examples.\"</span><br><span style=\"color:LightSalmon; font-size:1.2em\">\"Even when one accelerates the playback of the lecture recordings, this action should be acknowledged.\"</span><br><span style=\"color:LightSalmon; font-size:1.2em\">\"Nothing specific comes to mind.\"</span><br><span style=\"color:LightSalmon; font-size:1.2em\">\"No feedback provided.\"</span><br><span style=\"color:LightSalmon; font-size:1.2em\">\"-\"</span><br><span style=\"color:LightSalmon; font-size:1.2em\">\"It would be beneficial if the course content was more aligned with the foundational topics. Additionally, aligning the chapter assessments more closely with the content presented in the videos and lessons would enhance understanding. At times, the questions in the review seemed unrelated to the material covered.\"</span><br><span style=\"color:Red; font-size:1.2em\">\"Certain sections of the study materials were not always pertinent.\"</span><br><span style=\"color:Red; font-size:1.2em\">\"The pace of some lectures could be slowed down. At times, it's challenging to follow the lecturer's speech or decipher their handwriting.\"</span><br><span style=\"color:Red; font-size:1.2em\">\"I was dissatisfied with the fact that the final examination's questions and the preparatory assessment's questions were more aligned with an advanced biochemical studies curriculum, as opposed to a focus on medical or clinical applications. A better integration of one instructor's approach with another's could enhance the course to more closely align with my initial expectations.\"</span><br><span style=\"color:Red; font-size:1.2em\">\"Some of the queries posed in the course materials, including a couple on the final assessment, were quite perplexing. Enhancements could be made to the interactive components of the class, particularly the inquiry submission feature. It would be beneficial if the 'Submit a query' function automatically populated with contextual information. Pinpointing the exact part of the class content relevant to my question was challenging, and it seemed to be a common issue. While the forums for questions and discussions appeared to be linked to the correct section of the class, the breadth of the topics sometimes made it hard to associate the discussions with the specific content or subject matter.\"</span><br><span style=\"color:Red; font-size:1.2em\">\"Enhancing the clarity of the subject matter with more comprehensive descriptions and incorporating additional visual aids could be beneficial. Occasionally, the material was presented without sufficient depth, necessitating independent study to grasp the topics fully.\"</span><br><span style=\"color:Red; font-size:1.2em\">\"Ensure that all subjects tested in quizzes are thoroughly discussed in the course material.\"</span><br><span style=\"color:Red; font-size:1.2em\">\"the segments on correlation were excessively lengthy\"</span><br>"
      ],
      "text/plain": [
       "<IPython.core.display.HTML object>"
      ]
     },
     "metadata": {},
     "output_type": "display_data"
    }
   ],
   "source": [
    "random.seed(1)\n",
    "improve_random_indices = random.sample(range(len(improve_course_pairs)), 50)\n",
    "improve_random_indices.sort()\n",
    "display(colorized_html_output(improve_course_pairs[i] for i in improve_random_indices))"
   ]
  },
  {
   "cell_type": "markdown",
   "metadata": {},
   "source": [
    "That makes sense! You would expect asking for suggestions for improvement to elicit some comments that could be more negative, and you can see, based on the colors, how the sentiment has shifted relative to the best parts comments."
   ]
  },
  {
   "cell_type": "markdown",
   "metadata": {},
   "source": [
    "Just a note that for sure using an LLM is not the only way to do sentiment analysis, but some of the specialized models out there that I tried didn't match up against human intuition/ratings all that well, perhaps based on the fact that tweets (or similar training data) are fairly different than course reviews."
   ]
  },
  {
   "cell_type": "markdown",
   "metadata": {},
   "source": [
    "## 3. What did students say about some aspect of interest? (extraction)"
   ]
  },
  {
   "cell_type": "markdown",
   "metadata": {},
   "source": [
    "In this case, let's say we want to know what suggestions for improvement students had about the lectures and videos. We can define that as our goal focus and pass that along."
   ]
  },
  {
   "cell_type": "code",
   "execution_count": 28,
   "metadata": {},
   "outputs": [
    {
     "name": "stdout",
     "output_type": "stream",
     "text": [
      "processing 100 inputs in batches of 100\n",
      "sleeping for 30 seconds between batches\n",
      "starting 0 to 100\n",
      "completed 0 to 100\n",
      "elapsed time: 5.00259804725647\n",
      "Student comment: \"Consider reducing the duration of certain videos. A\n",
      "few appeared to be slightly prolonged.\"\n",
      "{'excerpts': ['Consider reducing the duration of certain videos. A few '\n",
      "              'appeared to be slightly prolonged.']}\n",
      "\n",
      "\n",
      "Student comment: \"The pace of some lectures could be slowed down. At\n",
      "times, it's challenging to follow the lecturer's speech or decipher\n",
      "their handwriting.\"\n",
      "{'excerpts': [\"The pace of some lectures could be slowed down. At times, it's \"\n",
      "              \"challenging to follow the lecturer's speech or decipher their \"\n",
      "              'handwriting.']}\n",
      "\n",
      "\n",
      "Student comment: \"Nothing specific comes to mind.\"\n",
      "{'excerpts': []}\n",
      "\n",
      "\n",
      "Student comment: \"Incorporating a few advanced projects as optional\n",
      "tasks could benefit learners who wish to delve deeper into the subject\n",
      "matter. These projects wouldn't need to influence exam scores.\"\n",
      "{'excerpts': []}\n",
      "\n",
      "\n",
      "Student comment: \"Extend the duration of the concept videos for the more\n",
      "challenging topics, as they require a deeper dive to fully grasp the\n",
      "intricacies involved. Additionally, consider introducing an additional\n",
      "educator to the mix. The dynamic of having multiple voices in another\n",
      "subject area is quite engaging, and it would be beneficial to replicate\n",
      "that experience in this subject to prevent monotony from setting in with\n",
      "just one instructor.\"\n",
      "{'excerpts': ['Extend the duration of the concept videos for the more '\n",
      "              'challenging topics, as they require a deeper dive to fully '\n",
      "              'grasp the intricacies involved.']}\n",
      "\n",
      "\n",
      "Student comment: \"Educationally, I found the course to be of exceptional\n",
      "quality; the resources provided were excellent and the course was well\n",
      "organized. It would be beneficial to include more comprehensive\n",
      "discussions on a wider variety of treatments for cancer. Topics like\n",
      "circulating tumor DNA and the progression of tumors were addressed\n",
      "somewhat superficially. Expanding on the practical consequences and\n",
      "real-life instances of therapeutic approaches and patient scenarios\n",
      "would be a valuable enhancement.\"\n",
      "{'excerpts': []}\n",
      "\n",
      "\n",
      "Student comment: \"Everything is ideal as it stands.\"\n",
      "{'excerpts': []}\n",
      "\n",
      "\n",
      "Student comment: \"OUTSTANDING\"\n",
      "{'excerpts': []}\n",
      "\n",
      "\n",
      "Student comment: \"Extend the duration! The course felt too brief with\n",
      "just a three-week timeframe; I was eager to delve deeper into the\n",
      "subject matter.\"\n",
      "{'excerpts': []}\n",
      "\n",
      "\n",
      "Student comment: \"It's excellent.\"\n",
      "{'excerpts': []}\n",
      "\n",
      "\n"
     ]
    }
   ],
   "source": [
    "goal_focus = \"lectures and videos\"\n",
    "lec_vid_excerpts = await extract_excerpts(comments=improve_course_comments,\n",
    "                                          question=improve_course_question,\n",
    "                                          goal_focus=goal_focus)\n",
    "\n",
    "# we'll just look at the first 10 comments and their excerpts\n",
    "for comment, excerpts in list(zip(improve_course_comments, lec_vid_excerpts))[:10]:\n",
    "    print_wrap(f'Student comment: \"{comment}\"')\n",
    "    pprint(excerpts.model_dump())\n",
    "    print('\\n')"
   ]
  },
  {
   "cell_type": "markdown",
   "metadata": {},
   "source": [
    "That seemed to work well. You can see from looking at the output of how it did extraction on the first 10 of the comments that it honed in on the parts about the lectures and vides. As an example, the comment\n",
    "\n",
    "> \"Extend the duration of the concept videos for the more\n",
    "challenging topics, as they require a deeper dive to fully grasp the\n",
    "intricacies involved. Additionally, consider introducing an additional\n",
    "educator to the mix. The dynamic of having multiple voices in another\n",
    "subject area is quite engaging, and it would be beneficial to replicate\n",
    "that experience in this subject to prevent monotony from setting in with\n",
    "just one instructor.\"\n",
    "\n",
    "had the excerpt:\n",
    "\n",
    "> \"Extend the duration of the concept videos for the more challenging topics, as they require a deeper dive to fully grasp the intricacies involved.\""
   ]
  },
  {
   "cell_type": "markdown",
   "metadata": {},
   "source": [
    "## 4. How did they feel about that aspect (focused sentiment analysis)\n",
    "\n",
    "Now we can analyze the sentiment of the excerpts for a more nuanced picture. Remember, these are in response to the \"how can the course be improved?\" question, so we would expect a bit more of a negative skew, given that that is the way the question is oriented."
   ]
  },
  {
   "cell_type": "code",
   "execution_count": 29,
   "metadata": {},
   "outputs": [
    {
     "name": "stdout",
     "output_type": "stream",
     "text": [
      "processing 22 inputs in batches of 100\n",
      "sleeping for 30 seconds between batches\n",
      "starting 0 to 100\n",
      "completed 0 to 100\n",
      "elapsed time: 2.2172789573669434\n"
     ]
    }
   ],
   "source": [
    "# first get all the excerpts in a single flattened list\n",
    "from itertools import chain\n",
    "lec_vid_excerpts_flat = list(chain.from_iterable(result.excerpts for result in lec_vid_excerpts if result.excerpts))\n",
    "lec_video_sentiment_results = await classify_sentiment(comments=lec_vid_excerpts_flat, \n",
    "                                                       question=\"How could the lectures and videos be improved?\")"
   ]
  },
  {
   "cell_type": "markdown",
   "metadata": {},
   "source": [
    "...and check out the ranking of the comments along with the detailed reasoning of the logic behind why each comment was classified that way. Here we'll just look at a small sampling of the comments."
   ]
  },
  {
   "cell_type": "code",
   "execution_count": 31,
   "metadata": {},
   "outputs": [
    {
     "name": "stdout",
     "output_type": "stream",
     "text": [
      "Excerpt: \"Incorporating a live tutoring option during video playback could be beneficial.\"\n",
      "{'classification_confidence': {'difference': 4.624999922000001,\n",
      "                               'next_token': 'positive',\n",
      "                               'top_token': 'neutral'},\n",
      " 'fine_grained_sentiment_category': 'neutral-positive',\n",
      " 'reasoning': 'The comment suggests an improvement by incorporating a live '\n",
      "              'tutoring option during video playback. The tone is constructive '\n",
      "              'and implies a positive outlook towards enhancing the learning '\n",
      "              'experience, but it does not express dissatisfaction or negative '\n",
      "              'feelings about the current state.',\n",
      " 'sentiment': 'neutral',\n",
      " 'sentiment_logprobs': [{'linear_prob': 99.03,\n",
      "                         'logprob': -0.009756678,\n",
      "                         'token': 'neutral'},\n",
      "                        {'linear_prob': 0.97,\n",
      "                         'logprob': -4.6347566,\n",
      "                         'token': 'positive'},\n",
      "                        {'linear_prob': 0.0,\n",
      "                         'logprob': -15.384757,\n",
      "                         'token': 'ne'}]}\n",
      "\n",
      "\n",
      "Excerpt: \"It would be beneficial if the subtitles for each video were made selectable for copying.\"\n",
      "{'classification_confidence': {'difference': 22.25,\n",
      "                               'next_token': 'ne',\n",
      "                               'top_token': 'neutral'},\n",
      " 'fine_grained_sentiment_category': 'neutral',\n",
      " 'reasoning': 'The comment suggests a specific improvement to the videos, '\n",
      "              'indicating a constructive suggestion rather than expressing '\n",
      "              'dissatisfaction or praise. The tone is neutral as it does not '\n",
      "              'convey strong positive or negative emotions.',\n",
      " 'sentiment': 'neutral',\n",
      " 'sentiment_logprobs': [{'linear_prob': 100.0,\n",
      "                         'logprob': 0.0,\n",
      "                         'token': 'neutral'},\n",
      "                        {'linear_prob': 0.0, 'logprob': -22.25, 'token': 'ne'},\n",
      "                        {'linear_prob': 0.0,\n",
      "                         'logprob': -23.75,\n",
      "                         'token': ' neutral'}]}\n",
      "\n",
      "\n",
      "Excerpt: \"The educational videos related to practical applications were excessively lengthy.\"\n",
      "{'classification_confidence': {'difference': 16.12499980638735,\n",
      "                               'next_token': 'neutral',\n",
      "                               'top_token': 'negative'},\n",
      " 'fine_grained_sentiment_category': 'negative',\n",
      " 'reasoning': 'The comment points out that the educational videos were '\n",
      "              'excessively lengthy, which is a critique. The use of the word '\n",
      "              \"'excessively' indicates a negative sentiment towards the length \"\n",
      "              'of the videos.',\n",
      " 'sentiment': 'negative',\n",
      " 'sentiment_logprobs': [{'linear_prob': 100.0,\n",
      "                         'logprob': -1.9361265e-07,\n",
      "                         'token': 'negative'},\n",
      "                        {'linear_prob': 0.0,\n",
      "                         'logprob': -16.125,\n",
      "                         'token': 'neutral'},\n",
      "                        {'linear_prob': 0.0,\n",
      "                         'logprob': -22.125,\n",
      "                         'token': 'Negative'}]}\n",
      "\n",
      "\n"
     ]
    }
   ],
   "source": [
    "lec_vid_sentiment_pairs = sort_by_confidence(lec_vid_excerpts_flat, lec_video_sentiment_results)\n",
    "for excerpt, result in lec_vid_sentiment_pairs[::10]:\n",
    "    print(f'Excerpt: \"{excerpt}\"')\n",
    "    pprint(json.loads(result.model_dump_json(exclude={'logprobs'})))\n",
    "    print('\\n')"
   ]
  },
  {
   "cell_type": "code",
   "execution_count": 32,
   "metadata": {},
   "outputs": [
    {
     "data": {
      "text/html": [
       "<span style=\"color:MediumSlateBlue; font-size:1.2em\">positive</span><br><span style=\"color:LightSkyBlue; font-size:1.2em\">neutral-positive</span><br><span style=\"color:LightGray; font-size:1.2em\">neutral</span><br><span style=\"color:LightSalmon; font-size:1.2em\">neutral-negative</span><br><span style=\"color:Red; font-size:1.2em\">negative</span><br>"
      ],
      "text/plain": [
       "<IPython.core.display.HTML object>"
      ]
     },
     "metadata": {},
     "output_type": "display_data"
    }
   ],
   "source": [
    "display(reference_colors())"
   ]
  },
  {
   "cell_type": "code",
   "execution_count": 33,
   "metadata": {},
   "outputs": [
    {
     "data": {
      "text/html": [
       "<span style=\"color:LightSkyBlue; font-size:1.2em\">\"Incorporating a live tutoring option during video playback could be beneficial.\"</span><br><span style=\"color:LightSkyBlue; font-size:1.2em\">\"Instead of primarily focusing on discussions, incorporating more visual multimedia elements to illustrate concepts would be beneficial.\"</span><br><span style=\"color:LightSkyBlue; font-size:1.2em\">\"Incorporating additional visual aids could enhance and solidify the understanding of the material.\"</span><br><span style=\"color:LightSkyBlue; font-size:1.2em\">\"Extend the duration of the concept videos for the more challenging topics, as they require a deeper dive to fully grasp the intricacies involved.\"</span><br><span style=\"color:LightSkyBlue; font-size:1.2em\">\"it would be beneficial to have more comprehensive notes accompanying each video, or an expanded outline that includes more than the provided three key takeaways.\"</span><br><span style=\"color:LightSkyBlue; font-size:1.2em\">\"It would be beneficial to include additional video content covering more detailed subjects, as previously suggested.\"</span><br><span style=\"color:LightGray; font-size:1.2em\">\"extend the dialogues concerning the potential difficulties and benefits of emerging treatments\"</span><br><span style=\"color:LightGray; font-size:1.2em\">\"It might be beneficial to ensure consistency in the language across different presentations or instructional videos.\"</span><br><span style=\"color:LightGray; font-size:1.2em\">\"Even when one accelerates the playback of the lecture recordings, this action should be acknowledged.\"</span><br><span style=\"color:LightGray; font-size:1.2em\">\"It would be beneficial to include more visual aids from the lecture recordings in the learning materials\"</span><br><span style=\"color:LightGray; font-size:1.2em\">\"It would be beneficial if the subtitles for each video were made selectable for copying.\"</span><br><span style=\"color:LightGray; font-size:1.2em\">\"due to the course's heavy reliance on video content\"</span><br><span style=\"color:LightGray; font-size:1.2em\">\"Incorporate additional multimedia presentations regarding practical patient scenarios\"</span><br><span style=\"color:LightGray; font-size:1.2em\">\"The instructional videos in this course were notably brief\"</span><br><span style=\"color:LightGray; font-size:1.2em\">\"Perhaps include additional content on the creation of novel medications.\"</span><br><span style=\"color:LightSalmon; font-size:1.2em\">\"aligning the chapter assessments more closely with the content presented in the videos and lessons would enhance understanding\"</span><br><span style=\"color:LightSalmon; font-size:1.2em\">\"Consider reducing the duration of certain videos. A few appeared to be slightly prolonged.\"</span><br><span style=\"color:LightSalmon; font-size:1.2em\">\"Improving the clarity of the video lectures.\"</span><br><span style=\"color:Red; font-size:1.2em\">\"The pace of some lectures could be slowed down. At times, it's challenging to follow the lecturer's speech or decipher their handwriting.\"</span><br><span style=\"color:Red; font-size:1.2em\">\"The pace of the instructional videos was quite rapid, leading me to frequently stop and rewatch segments to fully grasp the lecturer's points.\"</span><br><span style=\"color:Red; font-size:1.2em\">\"The educational videos related to practical applications were excessively lengthy.\"</span><br><span style=\"color:Red; font-size:1.2em\">\"the segments on correlation were excessively lengthy\"</span><br>"
      ],
      "text/plain": [
       "<IPython.core.display.HTML object>"
      ]
     },
     "metadata": {},
     "output_type": "display_data"
    }
   ],
   "source": [
    "display(colorized_html_output(lec_vid_sentiment_pairs))"
   ]
  },
  {
   "cell_type": "markdown",
   "metadata": {},
   "source": [
    "Not bad...the overall sentiment distribution is pretty similar to the sentiment distribution of the \"how can the coures be improved?\" comments we looked at previously. The excerpts are sometimes brief and judging sentiment in a fine-grained way is not so easy. But you can imagine that if you had one thousand such excerpts, having some judgment of sentiment might help you prioritize."
   ]
  },
  {
   "cell_type": "markdown",
   "metadata": {},
   "source": [
    "## 5. How many comments were there about different aspects? (multilabel classification)\n",
    "\n",
    "Here we get into quantification of what comments were about. It would be helpful to have that kind of quantification, particularly if we're trying to use the data to help with decisions about whether it's worth it to devote resources (including time and energy) to make changes to the course based on the feedback.\n",
    "\n",
    "There are (at least) a couple of ways we can go about quantifying. One is to continue the bottom-up approach and use the themes derived from the comments themselves to classify the comments. The second way is what I would label top-down, which essentially means using a pre-defined set of tags or labels. These are based on major areas of interest that are applicable to many types of courses. Using a pre-defined set of tags also allows better comparison across cohorts as you act on feedback and make iterative changes to a course."
   ]
  },
  {
   "cell_type": "markdown",
   "metadata": {},
   "source": [
    "### Mult-label classification (bottom-up tags)\n",
    "\n",
    "Let's use the theme derivation results to quantify how many comments were about each theme. The themes weren't intended as category labels, but we can effectively use them that way and classify the comments using multilabel classification.  \n",
    "\n",
    "First we'll turn the themes derived from the 'best parts' comments into the format needed (a list of dictionaries). We could also load tags from a file, as we'll see when we do the top-down approach."
   ]
  },
  {
   "cell_type": "code",
   "execution_count": 34,
   "metadata": {},
   "outputs": [
    {
     "data": {
      "text/plain": [
       "[{'topic': 'Practical Applications',\n",
       "  'description': 'Students appreciated the practical application segments and real-world clinical scenarios, which helped deepen their understanding of complex concepts by relating them to real-world scenarios.'},\n",
       " {'topic': 'Visual and Multimedia Content',\n",
       "  'description': 'The use of visual aids, instructional videos, animations, and multimedia resources was highly valued for making complex topics more understandable and engaging.'},\n",
       " {'topic': 'Interactive and Hands-On Learning',\n",
       "  'description': 'Interactive modules and hands-on activities were particularly beneficial for students, enhancing their learning experience through active participation.'},\n",
       " {'topic': 'Comprehensive and Structured Content',\n",
       "  'description': 'Students appreciated the well-organized, clear, and structured content, which facilitated a clear understanding of complex topics and principles.'},\n",
       " {'topic': 'Flexibility and Self-Paced Learning',\n",
       "  'description': \"The flexibility to learn at one's own pace was highly valued, especially for those balancing other commitments.\"},\n",
       " {'topic': 'Quizzes and Assessments',\n",
       "  'description': 'Quizzes and assessments were appreciated for reinforcing key concepts and aiding in the consolidation of learning.'},\n",
       " {'topic': 'Expert and Engaging Instructors',\n",
       "  'description': 'Students valued the expertise and engagement of the instructors, finding them inspiring and effective in communicating complex concepts.'},\n",
       " {'topic': 'Additional Resources',\n",
       "  'description': 'Supplementary materials such as study guides, vocabulary lists, and additional resources were beneficial for independent revision and deeper understanding.'},\n",
       " {'topic': 'Fundamental Principles',\n",
       "  'description': 'The course effectively conveyed fundamental principles, providing a solid base for future studies and professional applications.'}]"
      ]
     },
     "execution_count": 34,
     "metadata": {},
     "output_type": "execute_result"
    }
   ],
   "source": [
    "best_parts_tags = [{'topic': theme.theme_title, 'description': theme.description}\n",
    "                  for theme in best_parts_themes.updated_themes]\n",
    "\n",
    "best_parts_tags"
   ]
  },
  {
   "cell_type": "markdown",
   "metadata": {},
   "source": [
    "Next we do the classification on the same comments that we derived the themes from."
   ]
  },
  {
   "cell_type": "code",
   "execution_count": 35,
   "metadata": {},
   "outputs": [
    {
     "name": "stdout",
     "output_type": "stream",
     "text": [
      "processing 100 inputs in batches of 100\n",
      "sleeping for 30 seconds between batches\n",
      "starting 0 to 100\n",
      "completed 0 to 100\n",
      "elapsed time: 5.481243133544922\n"
     ]
    }
   ],
   "source": [
    "mlc_best_parts_bottomup = await multilabel_classify(comments=best_parts_comments, \n",
    "                                                    tags_list=best_parts_tags)"
   ]
  },
  {
   "cell_type": "markdown",
   "metadata": {},
   "source": [
    "Let's look at the output classifications, along with the model's reasoning for each. Any categories that are selected have 1 as the value. We'll just look at the first five comments for brevity."
   ]
  },
  {
   "cell_type": "code",
   "execution_count": 37,
   "metadata": {},
   "outputs": [
    {
     "name": "stdout",
     "output_type": "stream",
     "text": [
      "('I valued the practical clinical aspects related to immune-related disorders '\n",
      " 'and their management.')\n",
      "{'categories': {'Additional_Resources': 0,\n",
      "                'Comprehensive_and_Structured_Content': 0,\n",
      "                'Expert_and_Engaging_Instructors': 0,\n",
      "                'Flexibility_and_Self-Paced_Learning': 0,\n",
      "                'Fundamental_Principles': 0,\n",
      "                'Interactive_and_Hands-On_Learning': 0,\n",
      "                'Practical_Applications': 1,\n",
      "                'Quizzes_and_Assessments': 0,\n",
      "                'Visual_and_Multimedia_Content': 0},\n",
      " 'reasoning': 'The comment specifically mentions the practical clinical '\n",
      "              'aspects related to immune-related disorders and their '\n",
      "              'management, which falls under the category of Practical '\n",
      "              'Applications.'}\n",
      "'The flexibility to learn at a self-determined speed'\n",
      "{'categories': {'Additional_Resources': 0,\n",
      "                'Comprehensive_and_Structured_Content': 0,\n",
      "                'Expert_and_Engaging_Instructors': 0,\n",
      "                'Flexibility_and_Self-Paced_Learning': 1,\n",
      "                'Fundamental_Principles': 0,\n",
      "                'Interactive_and_Hands-On_Learning': 0,\n",
      "                'Practical_Applications': 0,\n",
      "                'Quizzes_and_Assessments': 0,\n",
      "                'Visual_and_Multimedia_Content': 0},\n",
      " 'reasoning': \"The comment highlights the ability to learn at one's own pace, \"\n",
      "              'which directly relates to the flexibility and self-paced '\n",
      "              'learning category.'}\n",
      "('The educational content was extremely enriching and stimulating! The section '\n",
      " 'on oncology was the highlight.')\n",
      "{'categories': {'Additional_Resources': 0,\n",
      "                'Comprehensive_and_Structured_Content': 1,\n",
      "                'Expert_and_Engaging_Instructors': 0,\n",
      "                'Flexibility_and_Self-Paced_Learning': 0,\n",
      "                'Fundamental_Principles': 1,\n",
      "                'Interactive_and_Hands-On_Learning': 0,\n",
      "                'Practical_Applications': 0,\n",
      "                'Quizzes_and_Assessments': 0,\n",
      "                'Visual_and_Multimedia_Content': 0},\n",
      " 'reasoning': 'The comment praises the educational content as enriching and '\n",
      "              'stimulating, which suggests it is comprehensive and '\n",
      "              'well-structured. The mention of a specific section (oncology) '\n",
      "              'being a highlight indicates that the content is detailed and '\n",
      "              'possibly covers fundamental principles.'}\n",
      "'Professional growth within the medical sector'\n",
      "{'categories': {'Additional_Resources': 0,\n",
      "                'Comprehensive_and_Structured_Content': 0,\n",
      "                'Expert_and_Engaging_Instructors': 0,\n",
      "                'Flexibility_and_Self-Paced_Learning': 0,\n",
      "                'Fundamental_Principles': 0,\n",
      "                'Interactive_and_Hands-On_Learning': 0,\n",
      "                'Practical_Applications': 0,\n",
      "                'Quizzes_and_Assessments': 0,\n",
      "                'Visual_and_Multimedia_Content': 0},\n",
      " 'reasoning': \"The comment mentions 'professional growth within the medical \"\n",
      "              \"sector,' which does not directly align with any of the provided \"\n",
      "              'categories. It is more about career development rather than '\n",
      "              'specific aspects of the course content or delivery.'}\n",
      "('The highlights of the class included the practical demonstration clips that '\n",
      " 'made the complex biological principles more understandable by connecting '\n",
      " 'them to daily well-being and actions. This connection was incredibly '\n",
      " 'beneficial as I navigated the course content.')\n",
      "{'categories': {'Additional_Resources': 0,\n",
      "                'Comprehensive_and_Structured_Content': 0,\n",
      "                'Expert_and_Engaging_Instructors': 0,\n",
      "                'Flexibility_and_Self-Paced_Learning': 0,\n",
      "                'Fundamental_Principles': 0,\n",
      "                'Interactive_and_Hands-On_Learning': 0,\n",
      "                'Practical_Applications': 1,\n",
      "                'Quizzes_and_Assessments': 0,\n",
      "                'Visual_and_Multimedia_Content': 1},\n",
      " 'reasoning': 'The comment mentions practical demonstration clips that helped '\n",
      "              'in understanding complex biological principles by connecting '\n",
      "              'them to daily well-being and actions. This indicates the use of '\n",
      "              'practical applications and visual and multimedia content.'}\n"
     ]
    }
   ],
   "source": [
    "for comment, classification in list(zip(best_parts_comments, mlc_best_parts_bottomup))[:5]:\n",
    "    pprint(comment)\n",
    "    pprint(json.loads(classification.model_dump_json()))"
   ]
  },
  {
   "cell_type": "markdown",
   "metadata": {},
   "source": [
    "The above is not easy to look at efficiently. Let's turn the results into a dataframe...something you would typically do to download the results."
   ]
  },
  {
   "cell_type": "code",
   "execution_count": 39,
   "metadata": {},
   "outputs": [
    {
     "data": {
      "text/html": [
       "<div>\n",
       "<style scoped>\n",
       "    .dataframe tbody tr th:only-of-type {\n",
       "        vertical-align: middle;\n",
       "    }\n",
       "\n",
       "    .dataframe tbody tr th {\n",
       "        vertical-align: top;\n",
       "    }\n",
       "\n",
       "    .dataframe thead th {\n",
       "        text-align: right;\n",
       "    }\n",
       "</style>\n",
       "<table border=\"1\" class=\"dataframe\">\n",
       "  <thead>\n",
       "    <tr style=\"text-align: right;\">\n",
       "      <th></th>\n",
       "      <th>comment</th>\n",
       "      <th>reasoning</th>\n",
       "      <th>Practical_Applications</th>\n",
       "      <th>Visual_and_Multimedia_Content</th>\n",
       "      <th>Interactive_and_Hands-On_Learning</th>\n",
       "      <th>Comprehensive_and_Structured_Content</th>\n",
       "      <th>Flexibility_and_Self-Paced_Learning</th>\n",
       "      <th>Quizzes_and_Assessments</th>\n",
       "      <th>Expert_and_Engaging_Instructors</th>\n",
       "      <th>Additional_Resources</th>\n",
       "      <th>Fundamental_Principles</th>\n",
       "    </tr>\n",
       "  </thead>\n",
       "  <tbody>\n",
       "    <tr>\n",
       "      <th>0</th>\n",
       "      <td>I valued the practical clinical aspects related to immune-related disorders and their management.</td>\n",
       "      <td>The comment specifically mentions the practical clinical aspects related to immune-related disorders and their management, which falls under the category of Practical Applications.</td>\n",
       "      <td>1</td>\n",
       "      <td>0</td>\n",
       "      <td>0</td>\n",
       "      <td>0</td>\n",
       "      <td>0</td>\n",
       "      <td>0</td>\n",
       "      <td>0</td>\n",
       "      <td>0</td>\n",
       "      <td>0</td>\n",
       "    </tr>\n",
       "    <tr>\n",
       "      <th>1</th>\n",
       "      <td>The flexibility to learn at a self-determined speed</td>\n",
       "      <td>The comment highlights the ability to learn at one's own pace, which directly relates to the flexibility and self-paced learning category.</td>\n",
       "      <td>0</td>\n",
       "      <td>0</td>\n",
       "      <td>0</td>\n",
       "      <td>0</td>\n",
       "      <td>1</td>\n",
       "      <td>0</td>\n",
       "      <td>0</td>\n",
       "      <td>0</td>\n",
       "      <td>0</td>\n",
       "    </tr>\n",
       "    <tr>\n",
       "      <th>2</th>\n",
       "      <td>The educational content was extremely enriching and stimulating! The section on oncology was the highlight.</td>\n",
       "      <td>The comment praises the educational content as enriching and stimulating, which suggests it is comprehensive and well-structured. The mention of a specific section (oncology) being a highlight indicates that the content is detailed and possibly covers fundamental principles.</td>\n",
       "      <td>0</td>\n",
       "      <td>0</td>\n",
       "      <td>0</td>\n",
       "      <td>1</td>\n",
       "      <td>0</td>\n",
       "      <td>0</td>\n",
       "      <td>0</td>\n",
       "      <td>0</td>\n",
       "      <td>1</td>\n",
       "    </tr>\n",
       "    <tr>\n",
       "      <th>3</th>\n",
       "      <td>Professional growth within the medical sector</td>\n",
       "      <td>The comment mentions 'professional growth within the medical sector,' which does not directly align with any of the provided categories. It is more about career development rather than specific aspects of the course content or delivery.</td>\n",
       "      <td>0</td>\n",
       "      <td>0</td>\n",
       "      <td>0</td>\n",
       "      <td>0</td>\n",
       "      <td>0</td>\n",
       "      <td>0</td>\n",
       "      <td>0</td>\n",
       "      <td>0</td>\n",
       "      <td>0</td>\n",
       "    </tr>\n",
       "    <tr>\n",
       "      <th>4</th>\n",
       "      <td>The highlights of the class included the practical demonstration clips that made the complex biological principles more understandable by connecting them to daily well-being and actions. This connection was incredibly beneficial as I navigated the course content.</td>\n",
       "      <td>The comment mentions practical demonstration clips that helped in understanding complex biological principles by connecting them to daily well-being and actions. This indicates the use of practical applications and visual and multimedia content.</td>\n",
       "      <td>1</td>\n",
       "      <td>1</td>\n",
       "      <td>0</td>\n",
       "      <td>0</td>\n",
       "      <td>0</td>\n",
       "      <td>0</td>\n",
       "      <td>0</td>\n",
       "      <td>0</td>\n",
       "      <td>0</td>\n",
       "    </tr>\n",
       "  </tbody>\n",
       "</table>\n",
       "</div>"
      ],
      "text/plain": [
       "                                                                                                                                                                                                                                                                   comment  \\\n",
       "0                                                                                                                                                                        I valued the practical clinical aspects related to immune-related disorders and their management.   \n",
       "1                                                                                                                                                                                                                      The flexibility to learn at a self-determined speed   \n",
       "2                                                                                                                                                              The educational content was extremely enriching and stimulating! The section on oncology was the highlight.   \n",
       "3                                                                                                                                                                                                                            Professional growth within the medical sector   \n",
       "4  The highlights of the class included the practical demonstration clips that made the complex biological principles more understandable by connecting them to daily well-being and actions. This connection was incredibly beneficial as I navigated the course content.   \n",
       "\n",
       "                                                                                                                                                                                                                                                                             reasoning  \\\n",
       "0                                                                                                 The comment specifically mentions the practical clinical aspects related to immune-related disorders and their management, which falls under the category of Practical Applications.   \n",
       "1                                                                                                                                           The comment highlights the ability to learn at one's own pace, which directly relates to the flexibility and self-paced learning category.   \n",
       "2  The comment praises the educational content as enriching and stimulating, which suggests it is comprehensive and well-structured. The mention of a specific section (oncology) being a highlight indicates that the content is detailed and possibly covers fundamental principles.   \n",
       "3                                         The comment mentions 'professional growth within the medical sector,' which does not directly align with any of the provided categories. It is more about career development rather than specific aspects of the course content or delivery.   \n",
       "4                                The comment mentions practical demonstration clips that helped in understanding complex biological principles by connecting them to daily well-being and actions. This indicates the use of practical applications and visual and multimedia content.   \n",
       "\n",
       "   Practical_Applications  Visual_and_Multimedia_Content  \\\n",
       "0                       1                              0   \n",
       "1                       0                              0   \n",
       "2                       0                              0   \n",
       "3                       0                              0   \n",
       "4                       1                              1   \n",
       "\n",
       "   Interactive_and_Hands-On_Learning  Comprehensive_and_Structured_Content  \\\n",
       "0                                  0                                     0   \n",
       "1                                  0                                     0   \n",
       "2                                  0                                     1   \n",
       "3                                  0                                     0   \n",
       "4                                  0                                     0   \n",
       "\n",
       "   Flexibility_and_Self-Paced_Learning  Quizzes_and_Assessments  \\\n",
       "0                                    0                        0   \n",
       "1                                    1                        0   \n",
       "2                                    0                        0   \n",
       "3                                    0                        0   \n",
       "4                                    0                        0   \n",
       "\n",
       "   Expert_and_Engaging_Instructors  Additional_Resources  \\\n",
       "0                                0                     0   \n",
       "1                                0                     0   \n",
       "2                                0                     0   \n",
       "3                                0                     0   \n",
       "4                                0                     0   \n",
       "\n",
       "   Fundamental_Principles  \n",
       "0                       0  \n",
       "1                       0  \n",
       "2                       1  \n",
       "3                       0  \n",
       "4                       0  "
      ]
     },
     "metadata": {},
     "output_type": "display_data"
    }
   ],
   "source": [
    "# make a dataframe with comments in one column and the pivoted tag categories as the other columns\n",
    "results_df = pd.DataFrame({'comment': best_parts_comments})\n",
    "values_df = pd.json_normalize([classification.categories.model_dump() for classification in mlc_best_parts_bottomup]).map(lambda x: x.value)\n",
    "reasoning_df = pd.DataFrame({\"reasoning\": [classification.reasoning for classification in mlc_best_parts_bottomup]})\n",
    "\n",
    "bp_results_df = pd.concat([results_df, reasoning_df, values_df], axis=1)\n",
    "\n",
    "full_show(bp_results_df.head())"
   ]
  },
  {
   "cell_type": "markdown",
   "metadata": {},
   "source": [
    "Let's turn this into a plot to get an overall sense. (This requires you have matplotlib and seaborn installed. Instead of this, feel free to download the dataframe and plot it in your favorite program)."
   ]
  },
  {
   "cell_type": "code",
   "execution_count": 42,
   "metadata": {},
   "outputs": [
    {
     "data": {
      "image/png": "[encoded data removed]",
      "text/plain": [
       "<Figure size 2000x1000 with 1 Axes>"
      ]
     },
     "metadata": {},
     "output_type": "display_data"
    }
   ],
   "source": [
    "plt.figure(figsize=(20, 10))\n",
    "data = bp_results_df.iloc[:, 2:].sum().sort_values(ascending=False).reset_index()\n",
    "data.columns = ['index', 'Count']\n",
    "ax = sns.barplot(data=data, x='index', y='Count')\n",
    "ax.tick_params(axis='x', rotation=45)\n",
    "plt.ylabel(\"Count\")\n",
    "plt.xlabel(\"Tag Category\")\n",
    "sns.despine(top=True, right=True)\n",
    "plt.show()"
   ]
  },
  {
   "cell_type": "markdown",
   "metadata": {},
   "source": [
    "### Multi-label classification (top-down approach)\n",
    "\n",
    "Here we come in with a set of labels that we've developed and stress-tested that should apply to many types of courses and classify comments based on those categories.\n",
    "\n",
    "First let's take a look at the predefined tags."
   ]
  },
  {
   "cell_type": "code",
   "execution_count": 43,
   "metadata": {},
   "outputs": [
    {
     "data": {
      "text/plain": [
       "[{'topic': 'course logistics and fit',\n",
       "  'description': 'course delivery (policy, support), cost, difficulty, time commitment, grading, credit, schedule, user fit, access, background (e.g. prereqs and appropriateness of course level).'},\n",
       " {'topic': 'curriculum',\n",
       "  'description': 'course content, curriculum, specific topics, course structure.  This focuses on the content and the pedagogical structure of the content, including flow and organization.  This also includes applied material such as clinical cases and case studies. Includes references to pre-recorded discussions between experts or between a doctor and a patient. Includes specific suggestions for additional courses or content.'},\n",
       " {'topic': 'teaching modality',\n",
       "  'description': 'video, visual, interactive, animation, step-by-step, deep dive, background builder (the format rather than the content/topic).'},\n",
       " {'topic': 'teaching',\n",
       "  'description': 'instructors, quality of teaching and explanations'},\n",
       " {'topic': 'assessment', 'description': 'quizzes, exams'},\n",
       " {'topic': 'resources',\n",
       "  'description': 'note taking tools, study guides, notepads, readings.  Includes other potential static resources like downloadable video transcripts.'},\n",
       " {'topic': 'peer and teacher interaction',\n",
       "  'description': 'includes chances for the student to interact with another person in the course (teacher or student).  This includes discussion forums, teacher-student or student-student interactions.  Includes requests for live sessions with teachers or live office hours.'},\n",
       " {'topic': 'other',\n",
       "  'description': \"catch-all for the rarer aspects that we'll encounter and also the 'na', 'thank you', etc. comments that don't really belong in the above bins.  Also for sufficiently general comments like 'all the course was terrific' that can't be narrowed down to one of the other categories.\"}]"
      ]
     },
     "execution_count": 43,
     "metadata": {},
     "output_type": "execute_result"
    }
   ],
   "source": [
    "default_tags_list"
   ]
  },
  {
   "cell_type": "markdown",
   "metadata": {},
   "source": [
    "Next we do the classification and show a small number of comments from the output."
   ]
  },
  {
   "cell_type": "code",
   "execution_count": 45,
   "metadata": {},
   "outputs": [
    {
     "name": "stdout",
     "output_type": "stream",
     "text": [
      "processing 100 inputs in batches of 100\n",
      "sleeping for 30 seconds between batches\n",
      "starting 0 to 100\n",
      "completed 0 to 100\n",
      "elapsed time: 3.0846049785614014\n",
      "('I valued the practical clinical aspects related to immune-related disorders '\n",
      " 'and their management.')\n",
      "{'categories': {'assessment': 0,\n",
      "                'course_logistics_and_fit': 0,\n",
      "                'curriculum': 1,\n",
      "                'other': 0,\n",
      "                'peer_and_teacher_interaction': 0,\n",
      "                'resources': 0,\n",
      "                'teaching': 0,\n",
      "                'teaching_modality': 0},\n",
      " 'reasoning': 'The comment highlights the practical clinical aspects related '\n",
      "              'to immune-related disorders and their management, which '\n",
      "              'pertains to the curriculum of the course.'}\n",
      "\n",
      "\n",
      "'The flexibility to learn at a self-determined speed'\n",
      "{'categories': {'assessment': 0,\n",
      "                'course_logistics_and_fit': 0,\n",
      "                'curriculum': 0,\n",
      "                'other': 0,\n",
      "                'peer_and_teacher_interaction': 0,\n",
      "                'resources': 0,\n",
      "                'teaching': 0,\n",
      "                'teaching_modality': 1},\n",
      " 'reasoning': 'The comment mentions the flexibility to learn at a '\n",
      "              'self-determined speed, which relates to the teaching modality '\n",
      "              'of the course.'}\n",
      "\n",
      "\n",
      "('The educational content was extremely enriching and stimulating! The section '\n",
      " 'on oncology was the highlight.')\n",
      "{'categories': {'assessment': 0,\n",
      "                'course_logistics_and_fit': 0,\n",
      "                'curriculum': 1,\n",
      "                'other': 0,\n",
      "                'peer_and_teacher_interaction': 0,\n",
      "                'resources': 0,\n",
      "                'teaching': 0,\n",
      "                'teaching_modality': 0},\n",
      " 'reasoning': 'The comment praises the educational content, specifically '\n",
      "              'mentioning the section on oncology as a highlight. This '\n",
      "              'feedback is related to the curriculum of the course.'}\n",
      "\n",
      "\n",
      "'Professional growth within the medical sector'\n",
      "{'categories': {'assessment': 0,\n",
      "                'course_logistics_and_fit': 0,\n",
      "                'curriculum': 0,\n",
      "                'other': 1,\n",
      "                'peer_and_teacher_interaction': 0,\n",
      "                'resources': 0,\n",
      "                'teaching': 0,\n",
      "                'teaching_modality': 0},\n",
      " 'reasoning': 'The comment is about professional growth within the medical '\n",
      "              'sector, which does not directly relate to any of the provided '\n",
      "              'categories. It is more of a general statement.'}\n",
      "\n",
      "\n",
      "('The highlights of the class included the practical demonstration clips that '\n",
      " 'made the complex biological principles more understandable by connecting '\n",
      " 'them to daily well-being and actions. This connection was incredibly '\n",
      " 'beneficial as I navigated the course content.')\n",
      "{'categories': {'assessment': 0,\n",
      "                'course_logistics_and_fit': 0,\n",
      "                'curriculum': 1,\n",
      "                'other': 0,\n",
      "                'peer_and_teacher_interaction': 0,\n",
      "                'resources': 0,\n",
      "                'teaching': 0,\n",
      "                'teaching_modality': 1},\n",
      " 'reasoning': 'The comment praises the practical demonstration clips for '\n",
      "              'making complex biological principles more understandable and '\n",
      "              'connecting them to daily well-being and actions. This indicates '\n",
      "              'that the teaching modality (use of practical demonstration '\n",
      "              'clips) and curriculum (course content) were effective.'}\n",
      "\n",
      "\n"
     ]
    }
   ],
   "source": [
    "mlc_best_parts_topdown = await multilabel_classify(comments=best_parts_comments) \n",
    "\n",
    "for comment, classification in list(zip(best_parts_comments, mlc_best_parts_topdown))[:5]:\n",
    "    pprint(comment)\n",
    "    pprint(json.loads(classification.model_dump_json()))\n",
    "    print('\\n')"
   ]
  },
  {
   "cell_type": "markdown",
   "metadata": {},
   "source": [
    "Let's turn the results into a dataframe."
   ]
  },
  {
   "cell_type": "code",
   "execution_count": 47,
   "metadata": {},
   "outputs": [
    {
     "data": {
      "text/html": [
       "<div>\n",
       "<style scoped>\n",
       "    .dataframe tbody tr th:only-of-type {\n",
       "        vertical-align: middle;\n",
       "    }\n",
       "\n",
       "    .dataframe tbody tr th {\n",
       "        vertical-align: top;\n",
       "    }\n",
       "\n",
       "    .dataframe thead th {\n",
       "        text-align: right;\n",
       "    }\n",
       "</style>\n",
       "<table border=\"1\" class=\"dataframe\">\n",
       "  <thead>\n",
       "    <tr style=\"text-align: right;\">\n",
       "      <th></th>\n",
       "      <th>comment</th>\n",
       "      <th>reasoning</th>\n",
       "      <th>course_logistics_and_fit</th>\n",
       "      <th>curriculum</th>\n",
       "      <th>teaching_modality</th>\n",
       "      <th>teaching</th>\n",
       "      <th>assessment</th>\n",
       "      <th>resources</th>\n",
       "      <th>peer_and_teacher_interaction</th>\n",
       "      <th>other</th>\n",
       "    </tr>\n",
       "  </thead>\n",
       "  <tbody>\n",
       "    <tr>\n",
       "      <th>0</th>\n",
       "      <td>I valued the practical clinical aspects related to immune-related disorders and their management.</td>\n",
       "      <td>The comment highlights the practical clinical aspects related to immune-related disorders and their management, which pertains to the curriculum of the course.</td>\n",
       "      <td>0</td>\n",
       "      <td>1</td>\n",
       "      <td>0</td>\n",
       "      <td>0</td>\n",
       "      <td>0</td>\n",
       "      <td>0</td>\n",
       "      <td>0</td>\n",
       "      <td>0</td>\n",
       "    </tr>\n",
       "    <tr>\n",
       "      <th>1</th>\n",
       "      <td>The flexibility to learn at a self-determined speed</td>\n",
       "      <td>The comment mentions the flexibility to learn at a self-determined speed, which relates to the teaching modality of the course.</td>\n",
       "      <td>0</td>\n",
       "      <td>0</td>\n",
       "      <td>1</td>\n",
       "      <td>0</td>\n",
       "      <td>0</td>\n",
       "      <td>0</td>\n",
       "      <td>0</td>\n",
       "      <td>0</td>\n",
       "    </tr>\n",
       "    <tr>\n",
       "      <th>2</th>\n",
       "      <td>The educational content was extremely enriching and stimulating! The section on oncology was the highlight.</td>\n",
       "      <td>The comment praises the educational content, specifically mentioning the section on oncology as a highlight. This feedback is related to the curriculum of the course.</td>\n",
       "      <td>0</td>\n",
       "      <td>1</td>\n",
       "      <td>0</td>\n",
       "      <td>0</td>\n",
       "      <td>0</td>\n",
       "      <td>0</td>\n",
       "      <td>0</td>\n",
       "      <td>0</td>\n",
       "    </tr>\n",
       "    <tr>\n",
       "      <th>3</th>\n",
       "      <td>Professional growth within the medical sector</td>\n",
       "      <td>The comment is about professional growth within the medical sector, which does not directly relate to any of the provided categories. It is more of a general statement.</td>\n",
       "      <td>0</td>\n",
       "      <td>0</td>\n",
       "      <td>0</td>\n",
       "      <td>0</td>\n",
       "      <td>0</td>\n",
       "      <td>0</td>\n",
       "      <td>0</td>\n",
       "      <td>1</td>\n",
       "    </tr>\n",
       "    <tr>\n",
       "      <th>4</th>\n",
       "      <td>The highlights of the class included the practical demonstration clips that made the complex biological principles more understandable by connecting them to daily well-being and actions. This connection was incredibly beneficial as I navigated the course content.</td>\n",
       "      <td>The comment praises the practical demonstration clips for making complex biological principles more understandable and connecting them to daily well-being and actions. This indicates that the teaching modality (use of practical demonstration clips) and curriculum (course content) were effective.</td>\n",
       "      <td>0</td>\n",
       "      <td>1</td>\n",
       "      <td>1</td>\n",
       "      <td>0</td>\n",
       "      <td>0</td>\n",
       "      <td>0</td>\n",
       "      <td>0</td>\n",
       "      <td>0</td>\n",
       "    </tr>\n",
       "  </tbody>\n",
       "</table>\n",
       "</div>"
      ],
      "text/plain": [
       "                                                                                                                                                                                                                                                                   comment  \\\n",
       "0                                                                                                                                                                        I valued the practical clinical aspects related to immune-related disorders and their management.   \n",
       "1                                                                                                                                                                                                                      The flexibility to learn at a self-determined speed   \n",
       "2                                                                                                                                                              The educational content was extremely enriching and stimulating! The section on oncology was the highlight.   \n",
       "3                                                                                                                                                                                                                            Professional growth within the medical sector   \n",
       "4  The highlights of the class included the practical demonstration clips that made the complex biological principles more understandable by connecting them to daily well-being and actions. This connection was incredibly beneficial as I navigated the course content.   \n",
       "\n",
       "                                                                                                                                                                                                                                                                                                  reasoning  \\\n",
       "0                                                                                                                                           The comment highlights the practical clinical aspects related to immune-related disorders and their management, which pertains to the curriculum of the course.   \n",
       "1                                                                                                                                                                           The comment mentions the flexibility to learn at a self-determined speed, which relates to the teaching modality of the course.   \n",
       "2                                                                                                                                    The comment praises the educational content, specifically mentioning the section on oncology as a highlight. This feedback is related to the curriculum of the course.   \n",
       "3                                                                                                                                  The comment is about professional growth within the medical sector, which does not directly relate to any of the provided categories. It is more of a general statement.   \n",
       "4  The comment praises the practical demonstration clips for making complex biological principles more understandable and connecting them to daily well-being and actions. This indicates that the teaching modality (use of practical demonstration clips) and curriculum (course content) were effective.   \n",
       "\n",
       "   course_logistics_and_fit  curriculum  teaching_modality  teaching  \\\n",
       "0                         0           1                  0         0   \n",
       "1                         0           0                  1         0   \n",
       "2                         0           1                  0         0   \n",
       "3                         0           0                  0         0   \n",
       "4                         0           1                  1         0   \n",
       "\n",
       "   assessment  resources  peer_and_teacher_interaction  other  \n",
       "0           0          0                             0      0  \n",
       "1           0          0                             0      0  \n",
       "2           0          0                             0      0  \n",
       "3           0          0                             0      1  \n",
       "4           0          0                             0      0  "
      ]
     },
     "metadata": {},
     "output_type": "display_data"
    }
   ],
   "source": [
    "# make a dataframe with comments in one column and the pivoted tag categories as the other columns\n",
    "td_results_df = pd.DataFrame({'comment': best_parts_comments})\n",
    "td_values_df = pd.json_normalize([classification.categories.model_dump() for classification in mlc_best_parts_topdown]).map(lambda x: x.value)\n",
    "td_reasoning_df = pd.DataFrame({\"reasoning\": [classification.reasoning for classification in mlc_best_parts_topdown]})\n",
    "\n",
    "td_results_df = pd.concat([td_results_df, td_reasoning_df, td_values_df], axis=1)\n",
    "\n",
    "full_show(td_results_df.head())"
   ]
  },
  {
   "cell_type": "markdown",
   "metadata": {},
   "source": [
    "Now let's plot this one. (Again, this requires you have matplotlib and seaborn installed. Instead of this, feel free to download the dataframe and plot it in your favorite program)."
   ]
  },
  {
   "cell_type": "code",
   "execution_count": 50,
   "metadata": {},
   "outputs": [
    {
     "data": {
      "image/png": "[encoded data removed]",
      "text/plain": [
       "<Figure size 2000x1000 with 1 Axes>"
      ]
     },
     "metadata": {},
     "output_type": "display_data"
    }
   ],
   "source": [
    "plt.figure(figsize=(20, 10))\n",
    "data = td_results_df.iloc[:, 2:].sum().sort_values(ascending=False).reset_index()\n",
    "data.columns = ['index', 'Count']\n",
    "ax = sns.barplot(data=data, x='index', y='Count')\n",
    "ax.tick_params(axis='x', rotation=45)\n",
    "\n",
    "plt.ylabel(\"Count\")\n",
    "plt.xlabel(\"Tag Category\")\n",
    "sns.despine(top=True, right=True)\n",
    "plt.show()"
   ]
  },
  {
   "cell_type": "markdown",
   "metadata": {},
   "source": [
    "Just out of curiosity, let's see what was said in the course_logistics_and_fit category."
   ]
  },
  {
   "cell_type": "code",
   "execution_count": 51,
   "metadata": {},
   "outputs": [
    {
     "name": "stdout",
     "output_type": "stream",
     "text": [
      "\"Organization, progression, scholarly debates, and narratives of actual\n",
      "patients\"\n",
      "\n",
      "\n",
      "\"The course was structured clearly. Found every lecture to be engaging.\"\n",
      "\n",
      "\n",
      "\"The most advantageous aspects of the course included its digital format\n",
      "and the adaptability regarding the timing for completing various\n",
      "segments. This flexibility was particularly beneficial for me as a full-\n",
      "time employee, as it enabled consistent participation in the course that\n",
      "would have been challenging otherwise.\"\n",
      "\n",
      "\n",
      "\"The course was informative, though it required more time than\n",
      "anticipated for those without prior background. Balancing a full-time\n",
      "job with the additional hours needed for the course was quite demanding,\n",
      "particularly towards the conclusion when the workload intensified.\n",
      "Nevertheless, the knowledge gained was substantial, and the delivery by\n",
      "the educators was of high quality. However, I noticed that certain\n",
      "examination questions seemed to extend beyond the material covered in\n",
      "the course. For instance, the classification of certain pathogens and\n",
      "the specifics of donor-recipient compatibility in medical procedures\n",
      "were mentioned but not thoroughly explained.\"\n",
      "\n",
      "\n",
      "\"Explored an extensive range of topics pertinent to the field, providing\n",
      "a comprehensive educational experience. The schedule allowed ample time\n",
      "for completion, avoiding a hurried atmosphere, and the material\n",
      "presented was substantial.\"\n",
      "\n",
      "\n"
     ]
    }
   ],
   "source": [
    "for comment in td_results_df.loc[lambda x: x['course_logistics_and_fit'] == 1, 'comment'].to_list():\n",
    "    print_wrap(f'\"{comment}\"') # print helper defined under imports and setup\n",
    "    print('\\n')"
   ]
  },
  {
   "cell_type": "markdown",
   "metadata": {},
   "source": [
    "It's interesting to be able to zero in on comments like these. It's one thing when you have a small number of comments, but with hundreds or even thousands of feedback comments, having the ability to drill down into results is incredibly helpful."
   ]
  }
 ],
 "metadata": {
  "kernelspec": {
   "display_name": "ai1",
   "language": "python",
   "name": "python3"
  },
  "language_info": {
   "codemirror_mode": {
    "name": "ipython",
    "version": 3
   },
   "file_extension": ".py",
   "mimetype": "text/x-python",
   "name": "python",
   "nbconvert_exporter": "python",
   "pygments_lexer": "ipython3",
   "version": "3.11.9"
  }
 },
 "nbformat": 4,
 "nbformat_minor": 2
}
