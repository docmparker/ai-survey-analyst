{
 "cells": [
  {
   "cell_type": "markdown",
   "metadata": {},
   "source": [
    "# Multilabel Classification\n",
    "\n",
    "Here the goal is to use a set of tags (also called labels or classes) to classify student feedback comments. This lets us get a quantitative sense of the volume of feedback in each major category and also focus in on any particular category of interest by filtering down to just those comments and seeing what students said. \n",
    "\n",
    "We've come up with a set of predefined labels that can be used for any type of course, but you can also pass your own labels if you have specific categories in mind. _Multilabel classification_ means that each comment can have any number of labels assigned, which is important given that students often touch on multiple topics in a single comment."
   ]
  },
  {
   "cell_type": "markdown",
   "metadata": {},
   "source": [
    "## Imports and setup"
   ]
  },
  {
   "cell_type": "code",
   "execution_count": 1,
   "metadata": {},
   "outputs": [],
   "source": [
    "import pandas as pd\n",
    "import json\n",
    "from functools import partial\n",
    "from pprint import pprint\n",
    "from pathlib import Path\n",
    "from dotenv import load_dotenv, find_dotenv\n",
    "from survey_analysis.multilabel_classification import MultiLabelClassification, multilabel_classify, default_tags_list\n",
    "from survey_analysis.models_common import CommentModel, CommentBatch\n",
    "from survey_analysis.single_input_task import apply_task\n",
    "from survey_analysis.batch_runner import process_tasks"
   ]
  },
  {
   "cell_type": "code",
   "execution_count": 2,
   "metadata": {},
   "outputs": [],
   "source": [
    "# this makes it more robust to run async tasks inside an already async environment (jupyter notebooks)\n",
    "import nest_asyncio\n",
    "nest_asyncio.apply()"
   ]
  },
  {
   "cell_type": "markdown",
   "metadata": {},
   "source": [
    "Make sure to either set `OPENAI_API_KEY` as an environment variable or put it in a .env file and use the following cell to load the env var. The format in the .env file is:\n",
    "```\n",
    "OPENAI_API_KEY=yourKeyGoesHere\n",
    "```"
   ]
  },
  {
   "cell_type": "code",
   "execution_count": 3,
   "metadata": {},
   "outputs": [
    {
     "data": {
      "text/plain": [
       "True"
      ]
     },
     "execution_count": 3,
     "metadata": {},
     "output_type": "execute_result"
    }
   ],
   "source": [
    "load_dotenv(find_dotenv())"
   ]
  },
  {
   "cell_type": "code",
   "execution_count": 4,
   "metadata": {},
   "outputs": [],
   "source": [
    "%load_ext autoreload\n",
    "%autoreload 2"
   ]
  },
  {
   "cell_type": "markdown",
   "metadata": {},
   "source": [
    "This is a convenience function to make seeing Pandas dataframe values easier, especially when there are long strings like the student comments we will be using."
   ]
  },
  {
   "cell_type": "code",
   "execution_count": 5,
   "metadata": {},
   "outputs": [],
   "source": [
    "def full_show(df):\n",
    "    with pd.option_context('display.max_columns', None, 'display.max_rows', None, 'display.max_colwidth', None):\n",
    "        display(df)"
   ]
  },
  {
   "cell_type": "markdown",
   "metadata": {},
   "source": [
    "## Load the example data"
   ]
  },
  {
   "cell_type": "code",
   "execution_count": 6,
   "metadata": {},
   "outputs": [],
   "source": [
    "data_path = Path('../data/example_data')"
   ]
  },
  {
   "cell_type": "markdown",
   "metadata": {},
   "source": [
    "Let's load up some fake data. \n",
    "\n",
    "All of these comments are synthetic to avoid sharing any sensitive or PII information, but they should work great for illustration purposes. There are 100 rows, with just a few null/nan values here and there for realism. In most surveys I've seen, there are quite a number of null/None/blank etc values, and the functions are written to handle those."
   ]
  },
  {
   "cell_type": "code",
   "execution_count": 7,
   "metadata": {},
   "outputs": [
    {
     "data": {
      "text/html": [
       "<div>\n",
       "<style scoped>\n",
       "    .dataframe tbody tr th:only-of-type {\n",
       "        vertical-align: middle;\n",
       "    }\n",
       "\n",
       "    .dataframe tbody tr th {\n",
       "        vertical-align: top;\n",
       "    }\n",
       "\n",
       "    .dataframe thead th {\n",
       "        text-align: right;\n",
       "    }\n",
       "</style>\n",
       "<table border=\"1\" class=\"dataframe\">\n",
       "  <thead>\n",
       "    <tr style=\"text-align: right;\">\n",
       "      <th></th>\n",
       "      <th>best_parts</th>\n",
       "      <th>enhanced_learning</th>\n",
       "      <th>improve_course</th>\n",
       "    </tr>\n",
       "  </thead>\n",
       "  <tbody>\n",
       "    <tr>\n",
       "      <th>0</th>\n",
       "      <td>I valued the practical clinical aspects related to immune-related disorders and their management.</td>\n",
       "      <td>The illustrative visuals and straightforward explanatory clips.</td>\n",
       "      <td>Consider reducing the duration of certain videos. A few appeared to be slightly prolonged.</td>\n",
       "    </tr>\n",
       "    <tr>\n",
       "      <th>1</th>\n",
       "      <td>The flexibility to learn at a self-determined speed</td>\n",
       "      <td>The opportunity to review the lecture content</td>\n",
       "      <td>The pace of some lectures could be slowed down. At times, it's challenging to follow the lecturer's speech or decipher their handwriting.</td>\n",
       "    </tr>\n",
       "    <tr>\n",
       "      <th>2</th>\n",
       "      <td>The educational content was extremely enriching and stimulating! The section on oncology was the highlight.</td>\n",
       "      <td>the self-assessment activities.</td>\n",
       "      <td>Nothing specific comes to mind.</td>\n",
       "    </tr>\n",
       "    <tr>\n",
       "      <th>3</th>\n",
       "      <td>Professional growth within the medical sector</td>\n",
       "      <td>The practical integration workshops were highly beneficial, they significantly contributed to a deeper comprehension of the theories and their implementation in a healthcare environment.</td>\n",
       "      <td>Incorporating a few advanced projects as optional tasks could benefit learners who wish to delve deeper into the subject matter. These projects wouldn't need to influence exam scores.</td>\n",
       "    </tr>\n",
       "    <tr>\n",
       "      <th>4</th>\n",
       "      <td>The highlights of the class included the practical demonstration clips that made the complex biological principles more understandable by connecting them to daily well-being and actions. This connection was incredibly beneficial as I navigated the course content.</td>\n",
       "      <td>The aspect of the course that most facilitated my learning was the regular assessments provided at each segment, which helped confirm my grasp of the material presented. These checkpoints effectively guided me in the correct learning direction. It's evident that considerable effort was invested in designing these educational modules to enable students to gain a deep comprehension rather than just a superficial understanding of the subject matter.</td>\n",
       "      <td>Extend the duration of the concept videos for the more challenging topics, as they require a deeper dive to fully grasp the intricacies involved. Additionally, consider introducing an additional educator to the mix. The dynamic of having multiple voices in another subject area is quite engaging, and it would be beneficial to replicate that experience in this subject to prevent monotony from setting in with just one instructor.</td>\n",
       "    </tr>\n",
       "  </tbody>\n",
       "</table>\n",
       "</div>"
      ],
      "text/plain": [
       "                                                                                                                                                                                                                                                                best_parts  \\\n",
       "0                                                                                                                                                                        I valued the practical clinical aspects related to immune-related disorders and their management.   \n",
       "1                                                                                                                                                                                                                      The flexibility to learn at a self-determined speed   \n",
       "2                                                                                                                                                              The educational content was extremely enriching and stimulating! The section on oncology was the highlight.   \n",
       "3                                                                                                                                                                                                                            Professional growth within the medical sector   \n",
       "4  The highlights of the class included the practical demonstration clips that made the complex biological principles more understandable by connecting them to daily well-being and actions. This connection was incredibly beneficial as I navigated the course content.   \n",
       "\n",
       "                                                                                                                                                                                                                                                                                                                                                                                                                                                    enhanced_learning  \\\n",
       "0                                                                                                                                                                                                                                                                                                                                                                                                     The illustrative visuals and straightforward explanatory clips.   \n",
       "1                                                                                                                                                                                                                                                                                                                                                                                                                       The opportunity to review the lecture content   \n",
       "2                                                                                                                                                                                                                                                                                                                                                                                                                                     the self-assessment activities.   \n",
       "3                                                                                                                                                                                                                                                                          The practical integration workshops were highly beneficial, they significantly contributed to a deeper comprehension of the theories and their implementation in a healthcare environment.   \n",
       "4  The aspect of the course that most facilitated my learning was the regular assessments provided at each segment, which helped confirm my grasp of the material presented. These checkpoints effectively guided me in the correct learning direction. It's evident that considerable effort was invested in designing these educational modules to enable students to gain a deep comprehension rather than just a superficial understanding of the subject matter.   \n",
       "\n",
       "                                                                                                                                                                                                                                                                                                                                                                                                                                   improve_course  \n",
       "0                                                                                                                                                                                                                                                                                                                                                      Consider reducing the duration of certain videos. A few appeared to be slightly prolonged.  \n",
       "1                                                                                                                                                                                                                                                                                                       The pace of some lectures could be slowed down. At times, it's challenging to follow the lecturer's speech or decipher their handwriting.  \n",
       "2                                                                                                                                                                                                                                                                                                                                                                                                                 Nothing specific comes to mind.  \n",
       "3                                                                                                                                                                                                                                                         Incorporating a few advanced projects as optional tasks could benefit learners who wish to delve deeper into the subject matter. These projects wouldn't need to influence exam scores.  \n",
       "4  Extend the duration of the concept videos for the more challenging topics, as they require a deeper dive to fully grasp the intricacies involved. Additionally, consider introducing an additional educator to the mix. The dynamic of having multiple voices in another subject area is quite engaging, and it would be beneficial to replicate that experience in this subject to prevent monotony from setting in with just one instructor.  "
      ]
     },
     "metadata": {},
     "output_type": "display_data"
    }
   ],
   "source": [
    "example_survey = pd.read_csv(data_path / 'example_survey_data_synthetic.csv')\n",
    "full_show(example_survey.head())"
   ]
  },
  {
   "cell_type": "markdown",
   "metadata": {},
   "source": [
    "We'll also load up some Coursera comments (source is from [this Kaggle notebook](https://www.kaggle.com/datasets/imuhammad/course-reviews-on-coursera), just using the first 100 as an example. The included example dataset is just the first 200 rows of the full 1.45 million rows. I didn't include the full set so as not to blimp up the size of this repo."
   ]
  },
  {
   "cell_type": "code",
   "execution_count": 8,
   "metadata": {},
   "outputs": [
    {
     "data": {
      "text/html": [
       "<div>\n",
       "<style scoped>\n",
       "    .dataframe tbody tr th:only-of-type {\n",
       "        vertical-align: middle;\n",
       "    }\n",
       "\n",
       "    .dataframe tbody tr th {\n",
       "        vertical-align: top;\n",
       "    }\n",
       "\n",
       "    .dataframe thead th {\n",
       "        text-align: right;\n",
       "    }\n",
       "</style>\n",
       "<table border=\"1\" class=\"dataframe\">\n",
       "  <thead>\n",
       "    <tr style=\"text-align: right;\">\n",
       "      <th></th>\n",
       "      <th>reviews</th>\n",
       "      <th>reviewers</th>\n",
       "      <th>date_reviews</th>\n",
       "      <th>rating</th>\n",
       "      <th>course_id</th>\n",
       "    </tr>\n",
       "  </thead>\n",
       "  <tbody>\n",
       "    <tr>\n",
       "      <th>0</th>\n",
       "      <td>Pretty dry, but I was able to pass with just two complete watches so I'm happy about that.  As usual there were some questions on the final exam that were NO WHERE in the course, which is annoying but far better than many microsoft tests I have taken.  Never found the suplimental material that the course references... but who cares... i passed!</td>\n",
       "      <td>By Robert S</td>\n",
       "      <td>Feb 12, 2020</td>\n",
       "      <td>4</td>\n",
       "      <td>google-cbrs-cpi-training</td>\n",
       "    </tr>\n",
       "    <tr>\n",
       "      <th>1</th>\n",
       "      <td>would be a better experience if the video and screen shots would sho on the side of the text that the instructor is going thru so that user does not have to go all the way to beginning of text to be able to view any slides instructor is showing.</td>\n",
       "      <td>By Gabriel E R</td>\n",
       "      <td>Sep 28, 2020</td>\n",
       "      <td>4</td>\n",
       "      <td>google-cbrs-cpi-training</td>\n",
       "    </tr>\n",
       "    <tr>\n",
       "      <th>2</th>\n",
       "      <td>Information was perfect! The program itself was a little annoying. I had to wait 30 to 45 minutes after watching the videos to to take the quiz. Other than that the information was perfect and passed the test with no issues!</td>\n",
       "      <td>By Jacob D</td>\n",
       "      <td>Apr 08, 2020</td>\n",
       "      <td>4</td>\n",
       "      <td>google-cbrs-cpi-training</td>\n",
       "    </tr>\n",
       "    <tr>\n",
       "      <th>3</th>\n",
       "      <td>A few grammatical mistakes on test made me do a double take but all in all not bad.</td>\n",
       "      <td>By Dale B</td>\n",
       "      <td>Feb 24, 2020</td>\n",
       "      <td>4</td>\n",
       "      <td>google-cbrs-cpi-training</td>\n",
       "    </tr>\n",
       "    <tr>\n",
       "      <th>4</th>\n",
       "      <td>Excellent course and the training provided was very detailed and easy to follow.</td>\n",
       "      <td>By Sean G</td>\n",
       "      <td>Jun 18, 2020</td>\n",
       "      <td>4</td>\n",
       "      <td>google-cbrs-cpi-training</td>\n",
       "    </tr>\n",
       "  </tbody>\n",
       "</table>\n",
       "</div>"
      ],
      "text/plain": [
       "                                                                                                                                                                                                                                                                                                                                                      reviews  \\\n",
       "0  Pretty dry, but I was able to pass with just two complete watches so I'm happy about that.  As usual there were some questions on the final exam that were NO WHERE in the course, which is annoying but far better than many microsoft tests I have taken.  Never found the suplimental material that the course references... but who cares... i passed!   \n",
       "1                                                                                                       would be a better experience if the video and screen shots would sho on the side of the text that the instructor is going thru so that user does not have to go all the way to beginning of text to be able to view any slides instructor is showing.   \n",
       "2                                                                                                                            Information was perfect! The program itself was a little annoying. I had to wait 30 to 45 minutes after watching the videos to to take the quiz. Other than that the information was perfect and passed the test with no issues!   \n",
       "3                                                                                                                                                                                                                                                                         A few grammatical mistakes on test made me do a double take but all in all not bad.   \n",
       "4                                                                                                                                                                                                                                                                            Excellent course and the training provided was very detailed and easy to follow.   \n",
       "\n",
       "        reviewers  date_reviews  rating                 course_id  \n",
       "0     By Robert S  Feb 12, 2020       4  google-cbrs-cpi-training  \n",
       "1  By Gabriel E R  Sep 28, 2020       4  google-cbrs-cpi-training  \n",
       "2      By Jacob D  Apr 08, 2020       4  google-cbrs-cpi-training  \n",
       "3       By Dale B  Feb 24, 2020       4  google-cbrs-cpi-training  \n",
       "4       By Sean G  Jun 18, 2020       4  google-cbrs-cpi-training  "
      ]
     },
     "metadata": {},
     "output_type": "display_data"
    }
   ],
   "source": [
    "coursera_survey = pd.read_csv(data_path / 'coursera_survey_200rows.csv', nrows=100)\n",
    "full_show(coursera_survey.head())"
   ]
  },
  {
   "cell_type": "markdown",
   "metadata": {},
   "source": [
    "## Multilabel classification using predefined tags"
   ]
  },
  {
   "cell_type": "markdown",
   "metadata": {},
   "source": [
    "Let's first take a look at the predefined tags and their descriptions. You can change these in any way you want or use a completely different set. The 'topic' is the tag itself (the program will replace spaces with underscores if needed, so no need to worry about spaces). The 'description' gives you a bit of information about the types of things that would fall under this label. We've included a catch-all 'other' tag, but you could also let the model just not choose any label if none apply if you're using custom tags."
   ]
  },
  {
   "cell_type": "code",
   "execution_count": 9,
   "metadata": {},
   "outputs": [
    {
     "name": "stdout",
     "output_type": "stream",
     "text": [
      "[{'description': 'course delivery (policy, support), cost, difficulty, time '\n",
      "                 'commitment, grading, credit, schedule, user fit, access, '\n",
      "                 'background (e.g. prereqs and appropriateness of course '\n",
      "                 'level).',\n",
      "  'topic': 'course logistics and fit'},\n",
      " {'description': 'course content, curriculum, specific topics, course '\n",
      "                 'structure.  This focuses on the content and the pedagogical '\n",
      "                 'structure of the content, including flow and organization.  '\n",
      "                 'This also includes applied material such as clinical cases '\n",
      "                 'and case studies. Includes references to pre-recorded '\n",
      "                 'discussions between experts or between a doctor and a '\n",
      "                 'patient. Includes specific suggestions for additional '\n",
      "                 'courses or content.',\n",
      "  'topic': 'curriculum'},\n",
      " {'description': 'video, visual, interactive, animation, step-by-step, deep '\n",
      "                 'dive, background builder (the format rather than the '\n",
      "                 'content/topic).',\n",
      "  'topic': 'teaching modality'},\n",
      " {'description': 'instructors, quality of teaching and explanations',\n",
      "  'topic': 'teaching'},\n",
      " {'description': 'quizzes, exams', 'topic': 'assessment'},\n",
      " {'description': 'note taking tools, study guides, notepads, readings.  '\n",
      "                 'Includes other potential static resources like downloadable '\n",
      "                 'video transcripts.',\n",
      "  'topic': 'resources'},\n",
      " {'description': 'includes chances for the student to interact with another '\n",
      "                 'person in the course (teacher or student).  This includes '\n",
      "                 'discussion forums, teacher-student or student-student '\n",
      "                 'interactions.  Includes requests for live sessions with '\n",
      "                 'teachers or live office hours.',\n",
      "  'topic': 'peer and teacher interaction'},\n",
      " {'description': \"catch-all for the rarer aspects that we'll encounter and \"\n",
      "                 \"also the 'na', 'thank you', etc. comments that don't really \"\n",
      "                 'belong in the above bins.  Also for sufficiently general '\n",
      "                 \"comments like 'all the course was terrific' that can't be \"\n",
      "                 'narrowed down to one of the other categories.',\n",
      "  'topic': 'other'}]\n"
     ]
    }
   ],
   "source": [
    "# this was imported from the multilabel_classification module\n",
    "pprint(default_tags_list)"
   ]
  },
  {
   "cell_type": "markdown",
   "metadata": {},
   "source": [
    "### Test the multilabel classification on a single comment\n",
    "\n",
    "Let's dip our toe in the water by seeing what happens for a single comment."
   ]
  },
  {
   "cell_type": "code",
   "execution_count": 10,
   "metadata": {},
   "outputs": [
    {
     "name": "stdout",
     "output_type": "stream",
     "text": [
      "{'comment': 'I valued the practical clinical aspects related to immune-related '\n",
      "            'disorders and their management.'}\n",
      "{'categories': {'assessment': 0,\n",
      "                'course logistics and fit': 0,\n",
      "                'curriculum': 1,\n",
      "                'other': 0,\n",
      "                'peer and teacher interaction': 0,\n",
      "                'resources': 0,\n",
      "                'teaching': 0,\n",
      "                'teaching modality': 0},\n",
      " 'reasoning': 'The comment specifically mentions the practical clinical '\n",
      "              'aspects related to immune-related disorders and their '\n",
      "              \"management, which falls under the 'curriculum' category as it \"\n",
      "              'pertains to the content and structure of the course.'}\n"
     ]
    }
   ],
   "source": [
    "survey_task = MultiLabelClassification(tags_list=default_tags_list)\n",
    "task_input = CommentModel(comment=example_survey.iloc[0]['best_parts'])\n",
    "sample_classification = await apply_task(task_input=task_input,\n",
    "                                         get_prompt=survey_task.prompt_messages,\n",
    "                                         result_class=survey_task.result_class)\n",
    "\n",
    "pprint(task_input.model_dump())\n",
    "# dumping by alias here allows showing output with original tag names, even if they had spaces in them\n",
    "pprint(json.loads(sample_classification.model_dump_json(by_alias=True)))"
   ]
  },
  {
   "cell_type": "markdown",
   "metadata": {},
   "source": [
    "Looks good. We get back the classification (in this case, there is only one tag, 'curriculum', but other comments might have multiple tags). It makes sense given the comment, and we can inspect the reasoning if we want. In this case, it looks pretty logical."
   ]
  },
  {
   "cell_type": "markdown",
   "metadata": {},
   "source": [
    "### Test multilabel classification on the first 10 comments.\n",
    "\n",
    "The models for task results (result_class in the code below) have defaults to account for comment with no content. The individual task processing routine uses the default if a comment has no content so as not to incur any model costs and save latency.\n",
    "\n",
    "In this case, we are creating a partially applied function (`apply_task` with some arguments filled in) that we then pass to the `process_tasks` code that will run the comment classifications asynchonrously. If we didn't run them this way, it would take **much** longer. We'll just show the first 3 comments' output to save space."
   ]
  },
  {
   "cell_type": "code",
   "execution_count": 11,
   "metadata": {},
   "outputs": [
    {
     "name": "stdout",
     "output_type": "stream",
     "text": [
      "processing 10 inputs in batches of 100\n",
      "sleeping for 30 seconds between batches\n",
      "starting 0 to 100\n",
      "completed 0 to 100\n",
      "elapsed time: 1.6428489685058594\n",
      "{'comment': 'I valued the practical clinical aspects related to immune-related '\n",
      "            'disorders and their management.'}\n",
      "{'categories': {'assessment': 0,\n",
      "                'course_logistics_and_fit': 0,\n",
      "                'curriculum': 1,\n",
      "                'other': 0,\n",
      "                'peer_and_teacher_interaction': 0,\n",
      "                'resources': 0,\n",
      "                'teaching': 0,\n",
      "                'teaching_modality': 0},\n",
      " 'reasoning': 'The comment highlights the practical clinical aspects related '\n",
      "              'to immune-related disorders and their management, which '\n",
      "              'pertains to the curriculum of the course.'}\n",
      "\n",
      "\n",
      "{'comment': 'The flexibility to learn at a self-determined speed'}\n",
      "{'categories': {'assessment': 0,\n",
      "                'course_logistics_and_fit': 0,\n",
      "                'curriculum': 0,\n",
      "                'other': 0,\n",
      "                'peer_and_teacher_interaction': 0,\n",
      "                'resources': 0,\n",
      "                'teaching': 0,\n",
      "                'teaching_modality': 1},\n",
      " 'reasoning': 'The comment mentions the flexibility to learn at a '\n",
      "              'self-determined speed, which relates to the teaching modality '\n",
      "              'of the course.'}\n",
      "\n",
      "\n",
      "{'comment': 'The educational content was extremely enriching and stimulating! '\n",
      "            'The section on oncology was the highlight.'}\n",
      "{'categories': {'assessment': 0,\n",
      "                'course_logistics_and_fit': 0,\n",
      "                'curriculum': 1,\n",
      "                'other': 0,\n",
      "                'peer_and_teacher_interaction': 0,\n",
      "                'resources': 0,\n",
      "                'teaching': 0,\n",
      "                'teaching_modality': 0},\n",
      " 'reasoning': 'The comment praises the educational content, specifically '\n",
      "              'mentioning the section on oncology as a highlight. This '\n",
      "              'feedback is related to the curriculum of the course.'}\n",
      "\n",
      "\n"
     ]
    }
   ],
   "source": [
    "# we could re-use the survey_task object from cells above, but we'll create a new one for clarity\n",
    "survey_task = MultiLabelClassification(tags_list=default_tags_list)\n",
    "comments_to_test = [CommentModel(comment=comment) for comment in example_survey['best_parts'].tolist()[:10]]\n",
    "mlc_task = partial(apply_task, \n",
    "                   get_prompt=survey_task.prompt_messages, \n",
    "                   result_class=survey_task.result_class)\n",
    "classifications = await process_tasks(comments_to_test, mlc_task)\n",
    "\n",
    "for comment, classification in list(zip(comments_to_test, classifications))[:3]:\n",
    "    pprint(comment.model_dump())\n",
    "    pprint(json.loads(classification.model_dump_json()))\n",
    "    print('\\n')"
   ]
  },
  {
   "cell_type": "markdown",
   "metadata": {},
   "source": [
    "This is a simpler way of doing the same thing, using a provided alternate convenience method for multilabel classification of comments. In this case, you don't really need to know anything about the models that wrap comments or the survey task...you just give it a list of comments as strings and off it goes."
   ]
  },
  {
   "cell_type": "code",
   "execution_count": 12,
   "metadata": {},
   "outputs": [
    {
     "name": "stdout",
     "output_type": "stream",
     "text": [
      "processing 10 inputs in batches of 100\n",
      "sleeping for 30 seconds between batches\n",
      "starting 0 to 100\n",
      "completed 0 to 100\n",
      "elapsed time: 1.4627618789672852\n",
      "('Consider reducing the duration of certain videos. A few appeared to be '\n",
      " 'slightly prolonged.')\n",
      "{'categories': {'assessment': 0,\n",
      "                'course_logistics_and_fit': 0,\n",
      "                'curriculum': 0,\n",
      "                'other': 0,\n",
      "                'peer_and_teacher_interaction': 0,\n",
      "                'resources': 0,\n",
      "                'teaching': 0,\n",
      "                'teaching_modality': 1},\n",
      " 'reasoning': 'The comment suggests a change in the duration of videos, which '\n",
      "              'relates to the teaching modality of the course.'}\n",
      "\n",
      "\n",
      "(\"The pace of some lectures could be slowed down. At times, it's challenging \"\n",
      " \"to follow the lecturer's speech or decipher their handwriting.\")\n",
      "{'categories': {'assessment': 0,\n",
      "                'course_logistics_and_fit': 0,\n",
      "                'curriculum': 0,\n",
      "                'other': 0,\n",
      "                'peer_and_teacher_interaction': 0,\n",
      "                'resources': 0,\n",
      "                'teaching': 1,\n",
      "                'teaching_modality': 0},\n",
      " 'reasoning': 'The comment addresses the speed of the lectures, which relates '\n",
      "              'to teaching. It also mentions difficulty in following the '\n",
      "              \"lecturer's speech and handwriting, which are aspects of \"\n",
      "              'teaching quality.'}\n",
      "\n",
      "\n",
      "'Nothing specific comes to mind.'\n",
      "{'categories': {'assessment': 0,\n",
      "                'course_logistics_and_fit': 0,\n",
      "                'curriculum': 0,\n",
      "                'other': 0,\n",
      "                'peer_and_teacher_interaction': 0,\n",
      "                'resources': 0,\n",
      "                'teaching': 0,\n",
      "                'teaching_modality': 0},\n",
      " 'reasoning': 'The comment does not provide any specific feedback or mention '\n",
      "              'any particular aspect of the course.'}\n",
      "\n",
      "\n"
     ]
    }
   ],
   "source": [
    "comments = example_survey['improve_course'].tolist()[:10]\n",
    "# this uses the default tags list by default but you can supply your own (see the tags_8.yaml file for an example)\n",
    "results = await multilabel_classify(comments=comments) \n",
    "\n",
    "for comment, classification in list(zip(comments, results))[:3]:\n",
    "    pprint(comment)\n",
    "    pprint(json.loads(classification.model_dump_json()))\n",
    "    print('\\n')"
   ]
  },
  {
   "cell_type": "markdown",
   "metadata": {},
   "source": [
    "We can also turn this into a dataframe for downloading or easier viewing."
   ]
  },
  {
   "cell_type": "code",
   "execution_count": 14,
   "metadata": {},
   "outputs": [
    {
     "data": {
      "text/html": [
       "<div>\n",
       "<style scoped>\n",
       "    .dataframe tbody tr th:only-of-type {\n",
       "        vertical-align: middle;\n",
       "    }\n",
       "\n",
       "    .dataframe tbody tr th {\n",
       "        vertical-align: top;\n",
       "    }\n",
       "\n",
       "    .dataframe thead th {\n",
       "        text-align: right;\n",
       "    }\n",
       "</style>\n",
       "<table border=\"1\" class=\"dataframe\">\n",
       "  <thead>\n",
       "    <tr style=\"text-align: right;\">\n",
       "      <th></th>\n",
       "      <th>comment</th>\n",
       "      <th>reasoning</th>\n",
       "      <th>course_logistics_and_fit</th>\n",
       "      <th>curriculum</th>\n",
       "      <th>teaching_modality</th>\n",
       "      <th>teaching</th>\n",
       "      <th>assessment</th>\n",
       "      <th>resources</th>\n",
       "      <th>peer_and_teacher_interaction</th>\n",
       "      <th>other</th>\n",
       "    </tr>\n",
       "  </thead>\n",
       "  <tbody>\n",
       "    <tr>\n",
       "      <th>0</th>\n",
       "      <td>Consider reducing the duration of certain videos. A few appeared to be slightly prolonged.</td>\n",
       "      <td>The comment suggests a change in the duration of videos, which relates to the teaching modality of the course.</td>\n",
       "      <td>0</td>\n",
       "      <td>0</td>\n",
       "      <td>1</td>\n",
       "      <td>0</td>\n",
       "      <td>0</td>\n",
       "      <td>0</td>\n",
       "      <td>0</td>\n",
       "      <td>0</td>\n",
       "    </tr>\n",
       "    <tr>\n",
       "      <th>1</th>\n",
       "      <td>The pace of some lectures could be slowed down. At times, it's challenging to follow the lecturer's speech or decipher their handwriting.</td>\n",
       "      <td>The comment addresses the speed of the lectures, which relates to teaching. It also mentions difficulty in following the lecturer's speech and handwriting, which are aspects of teaching quality.</td>\n",
       "      <td>0</td>\n",
       "      <td>0</td>\n",
       "      <td>0</td>\n",
       "      <td>1</td>\n",
       "      <td>0</td>\n",
       "      <td>0</td>\n",
       "      <td>0</td>\n",
       "      <td>0</td>\n",
       "    </tr>\n",
       "    <tr>\n",
       "      <th>2</th>\n",
       "      <td>Nothing specific comes to mind.</td>\n",
       "      <td>The comment does not provide any specific feedback or mention any particular aspect of the course.</td>\n",
       "      <td>0</td>\n",
       "      <td>0</td>\n",
       "      <td>0</td>\n",
       "      <td>0</td>\n",
       "      <td>0</td>\n",
       "      <td>0</td>\n",
       "      <td>0</td>\n",
       "      <td>0</td>\n",
       "    </tr>\n",
       "    <tr>\n",
       "      <th>3</th>\n",
       "      <td>Incorporating a few advanced projects as optional tasks could benefit learners who wish to delve deeper into the subject matter. These projects wouldn't need to influence exam scores.</td>\n",
       "      <td>The comment suggests incorporating advanced projects as optional tasks, which relates to the curriculum. It also mentions that these projects should not influence exam scores, which pertains to assessment.</td>\n",
       "      <td>0</td>\n",
       "      <td>1</td>\n",
       "      <td>0</td>\n",
       "      <td>0</td>\n",
       "      <td>1</td>\n",
       "      <td>0</td>\n",
       "      <td>0</td>\n",
       "      <td>0</td>\n",
       "    </tr>\n",
       "    <tr>\n",
       "      <th>4</th>\n",
       "      <td>Extend the duration of the concept videos for the more challenging topics, as they require a deeper dive to fully grasp the intricacies involved. Additionally, consider introducing an additional educator to the mix. The dynamic of having multiple voices in another subject area is quite engaging, and it would be beneficial to replicate that experience in this subject to prevent monotony from setting in with just one instructor.</td>\n",
       "      <td>The comment addresses the need for longer concept videos for challenging topics, which falls under 'resources'. It also suggests introducing an additional educator to make the teaching more engaging, which falls under 'teaching'.</td>\n",
       "      <td>0</td>\n",
       "      <td>0</td>\n",
       "      <td>0</td>\n",
       "      <td>1</td>\n",
       "      <td>0</td>\n",
       "      <td>1</td>\n",
       "      <td>0</td>\n",
       "      <td>0</td>\n",
       "    </tr>\n",
       "    <tr>\n",
       "      <th>5</th>\n",
       "      <td>Educationally, I found the course to be of exceptional quality; the resources provided were excellent and the course was well organized. It would be beneficial to include more comprehensive discussions on a wider variety of treatments for cancer. Topics like circulating tumor DNA and the progression of tumors were addressed somewhat superficially. Expanding on the practical consequences and real-life instances of therapeutic approaches and patient scenarios would be a valuable enhancement.</td>\n",
       "      <td>The comment touches on several aspects: the overall quality and organization of the course (course logistics and fit), the quality of resources (resources), and the need for more comprehensive discussions on specific topics (curriculum).</td>\n",
       "      <td>1</td>\n",
       "      <td>1</td>\n",
       "      <td>0</td>\n",
       "      <td>0</td>\n",
       "      <td>0</td>\n",
       "      <td>1</td>\n",
       "      <td>0</td>\n",
       "      <td>0</td>\n",
       "    </tr>\n",
       "    <tr>\n",
       "      <th>6</th>\n",
       "      <td>Everything is ideal as it stands.</td>\n",
       "      <td>The comment is positive but does not provide specific details about any particular aspect of the course.</td>\n",
       "      <td>0</td>\n",
       "      <td>0</td>\n",
       "      <td>0</td>\n",
       "      <td>0</td>\n",
       "      <td>0</td>\n",
       "      <td>0</td>\n",
       "      <td>0</td>\n",
       "      <td>1</td>\n",
       "    </tr>\n",
       "    <tr>\n",
       "      <th>7</th>\n",
       "      <td>OUTSTANDING</td>\n",
       "      <td>The comment 'OUTSTANDING' is a general positive remark and does not provide specific details about any particular aspect of the course.</td>\n",
       "      <td>0</td>\n",
       "      <td>0</td>\n",
       "      <td>0</td>\n",
       "      <td>0</td>\n",
       "      <td>0</td>\n",
       "      <td>0</td>\n",
       "      <td>0</td>\n",
       "      <td>1</td>\n",
       "    </tr>\n",
       "    <tr>\n",
       "      <th>8</th>\n",
       "      <td>Extend the duration! The course felt too brief with just a three-week timeframe; I was eager to delve deeper into the subject matter.</td>\n",
       "      <td>The comment suggests that the student felt the course duration was too short and wanted more time to explore the subject matter. This feedback pertains to the logistics and fit of the course.</td>\n",
       "      <td>1</td>\n",
       "      <td>0</td>\n",
       "      <td>0</td>\n",
       "      <td>0</td>\n",
       "      <td>0</td>\n",
       "      <td>0</td>\n",
       "      <td>0</td>\n",
       "      <td>0</td>\n",
       "    </tr>\n",
       "    <tr>\n",
       "      <th>9</th>\n",
       "      <td>It's excellent.</td>\n",
       "      <td>The comment is very brief and positive but does not provide specific details about any aspect of the course.</td>\n",
       "      <td>0</td>\n",
       "      <td>0</td>\n",
       "      <td>0</td>\n",
       "      <td>0</td>\n",
       "      <td>0</td>\n",
       "      <td>0</td>\n",
       "      <td>0</td>\n",
       "      <td>1</td>\n",
       "    </tr>\n",
       "  </tbody>\n",
       "</table>\n",
       "</div>"
      ],
      "text/plain": [
       "                                                                                                                                                                                                                                                                                                                                                                                                                                                                                                          comment  \\\n",
       "0                                                                                                                                                                                                                                                                                                                                                                                                                      Consider reducing the duration of certain videos. A few appeared to be slightly prolonged.   \n",
       "1                                                                                                                                                                                                                                                                                                                                                                       The pace of some lectures could be slowed down. At times, it's challenging to follow the lecturer's speech or decipher their handwriting.   \n",
       "2                                                                                                                                                                                                                                                                                                                                                                                                                                                                                 Nothing specific comes to mind.   \n",
       "3                                                                                                                                                                                                                                                                                                                         Incorporating a few advanced projects as optional tasks could benefit learners who wish to delve deeper into the subject matter. These projects wouldn't need to influence exam scores.   \n",
       "4                                                                  Extend the duration of the concept videos for the more challenging topics, as they require a deeper dive to fully grasp the intricacies involved. Additionally, consider introducing an additional educator to the mix. The dynamic of having multiple voices in another subject area is quite engaging, and it would be beneficial to replicate that experience in this subject to prevent monotony from setting in with just one instructor.   \n",
       "5  Educationally, I found the course to be of exceptional quality; the resources provided were excellent and the course was well organized. It would be beneficial to include more comprehensive discussions on a wider variety of treatments for cancer. Topics like circulating tumor DNA and the progression of tumors were addressed somewhat superficially. Expanding on the practical consequences and real-life instances of therapeutic approaches and patient scenarios would be a valuable enhancement.   \n",
       "6                                                                                                                                                                                                                                                                                                                                                                                                                                                                               Everything is ideal as it stands.   \n",
       "7                                                                                                                                                                                                                                                                                                                                                                                                                                                                                                     OUTSTANDING   \n",
       "8                                                                                                                                                                                                                                                                                                                                                                           Extend the duration! The course felt too brief with just a three-week timeframe; I was eager to delve deeper into the subject matter.   \n",
       "9                                                                                                                                                                                                                                                                                                                                                                                                                                                                                                 It's excellent.   \n",
       "\n",
       "                                                                                                                                                                                                                                       reasoning  \\\n",
       "0                                                                                                                                 The comment suggests a change in the duration of videos, which relates to the teaching modality of the course.   \n",
       "1                                             The comment addresses the speed of the lectures, which relates to teaching. It also mentions difficulty in following the lecturer's speech and handwriting, which are aspects of teaching quality.   \n",
       "2                                                                                                                                             The comment does not provide any specific feedback or mention any particular aspect of the course.   \n",
       "3                                  The comment suggests incorporating advanced projects as optional tasks, which relates to the curriculum. It also mentions that these projects should not influence exam scores, which pertains to assessment.   \n",
       "4          The comment addresses the need for longer concept videos for challenging topics, which falls under 'resources'. It also suggests introducing an additional educator to make the teaching more engaging, which falls under 'teaching'.   \n",
       "5  The comment touches on several aspects: the overall quality and organization of the course (course logistics and fit), the quality of resources (resources), and the need for more comprehensive discussions on specific topics (curriculum).   \n",
       "6                                                                                                                                       The comment is positive but does not provide specific details about any particular aspect of the course.   \n",
       "7                                                                                                        The comment 'OUTSTANDING' is a general positive remark and does not provide specific details about any particular aspect of the course.   \n",
       "8                                                The comment suggests that the student felt the course duration was too short and wanted more time to explore the subject matter. This feedback pertains to the logistics and fit of the course.   \n",
       "9                                                                                                                                   The comment is very brief and positive but does not provide specific details about any aspect of the course.   \n",
       "\n",
       "   course_logistics_and_fit  curriculum  teaching_modality  teaching  \\\n",
       "0                         0           0                  1         0   \n",
       "1                         0           0                  0         1   \n",
       "2                         0           0                  0         0   \n",
       "3                         0           1                  0         0   \n",
       "4                         0           0                  0         1   \n",
       "5                         1           1                  0         0   \n",
       "6                         0           0                  0         0   \n",
       "7                         0           0                  0         0   \n",
       "8                         1           0                  0         0   \n",
       "9                         0           0                  0         0   \n",
       "\n",
       "   assessment  resources  peer_and_teacher_interaction  other  \n",
       "0           0          0                             0      0  \n",
       "1           0          0                             0      0  \n",
       "2           0          0                             0      0  \n",
       "3           1          0                             0      0  \n",
       "4           0          1                             0      0  \n",
       "5           0          1                             0      0  \n",
       "6           0          0                             0      1  \n",
       "7           0          0                             0      1  \n",
       "8           0          0                             0      0  \n",
       "9           0          0                             0      1  "
      ]
     },
     "metadata": {},
     "output_type": "display_data"
    }
   ],
   "source": [
    "# make a dataframe with comments in one column and the pivoted tag categories as the other columns\n",
    "results_df = pd.DataFrame({'comment': comments})\n",
    "values_df = pd.json_normalize([classification.categories.model_dump() for classification in results]).map(lambda x: x.value)\n",
    "reasoning_df = pd.DataFrame({\"reasoning\": [classification.reasoning for classification in results]})\n",
    "results_df = pd.concat([results_df, reasoning_df, values_df], axis=1)\n",
    "\n",
    "full_show(results_df)"
   ]
  },
  {
   "cell_type": "markdown",
   "metadata": {},
   "source": [
    "## Multilabel classification using your own custom tags"
   ]
  },
  {
   "cell_type": "markdown",
   "metadata": {},
   "source": [
    "Here we'll use some tags that were generated by theme derivation (another task with a separate example notebook). These might not be what you would classically think of as tags/labels, but it's nice in that it shows the diversity of what can be used. Also note that these themes were derived from comments in the 'what were the best parts of the course?' column but can still be applied to other columns like we do here with the 'what could we improve about the course?'."
   ]
  },
  {
   "cell_type": "code",
   "execution_count": 15,
   "metadata": {},
   "outputs": [],
   "source": [
    "custom_tags = [\n",
    "    {\n",
    "        'topic': 'Practical Learning',\n",
    "        'description': 'This theme encompasses the appreciation for the practical application of theoretical knowledge through clinical scenarios, laboratory exercises, and real-world case studies, highlighting how these applications deepen understanding of complex concepts and demonstrate the relevance of the material.'\n",
    "    },\n",
    "    {\n",
    "        'topic': 'Visual Learning',\n",
    "        'description': 'This theme combines the effectiveness of visual aids such as videos, animations, and detailed illustrations in simplifying complex topics, making the course content more accessible and engaging, and enhancing the integration of theoretical concepts with practical applications.'\n",
    "    },\n",
    "    {\n",
    "        'topic': 'Comprehensive Course Content',\n",
    "        'description': \"This theme highlights the course's wide range of topics, including immunological principles, oncological pathways, and the latest treatments in immune-based cancer therapies, providing a comprehensive educational experience and a solid foundation in the subject matter.\"\n",
    "    },\n",
    "    {\n",
    "        'topic': 'Flexible Learning Experience',\n",
    "        'description': \"This theme focuses on the course's flexibility and digital format, accommodating different schedules and allowing learning at one's own pace, particularly beneficial for those balancing the course with full-time employment or other commitments.\"\n",
    "    },\n",
    "    {\n",
    "        'topic': 'Interactive and Engaging',\n",
    "        'description': \"This theme emphasizes the course's engaging nature, with interactive content, online activities, and participatory elements that make learning more dynamic and enjoyable.\"\n",
    "    },\n",
    "    {\n",
    "        'topic': 'Assessment and Quiz Questions',\n",
    "        'description': 'Practical exercises, including laboratory work and case studies, were recognized for their effectiveness in conveying fundamental principles and providing a detailed understanding of scientific concepts.'\n",
    "    },\n",
    "    {\n",
    "        'topic': 'Clinical Relevance',\n",
    "        'description': \"The course's focus on clinical relevance, including discussions about clinical settings, real-world clinical scenarios, and clinical procedures, was highly valued. This aspect helped students understand the practical implications of their learning.\"\n",
    "    },\n",
    "    {\n",
    "        'topic': 'Instructor Clarity',\n",
    "        'description': 'The clarity and effectiveness of the instructors in presenting the material were frequently mentioned. Students appreciated the concise and lucid explanations, which facilitated understanding and retention of complex concepts.'\n",
    "    }\n",
    "]\n"
   ]
  },
  {
   "cell_type": "code",
   "execution_count": 16,
   "metadata": {},
   "outputs": [
    {
     "name": "stdout",
     "output_type": "stream",
     "text": [
      "processing 10 inputs in batches of 100\n",
      "sleeping for 30 seconds between batches\n",
      "starting 0 to 100\n",
      "completed 0 to 100\n",
      "elapsed time: 2.1920082569122314\n",
      "('Consider reducing the duration of certain videos. A few appeared to be '\n",
      " 'slightly prolonged.')\n",
      "{'categories': {'Assessment_and_Quiz_Questions': 0,\n",
      "                'Clinical_Relevance': 0,\n",
      "                'Comprehensive_Course_Content': 0,\n",
      "                'Flexible_Learning_Experience': 1,\n",
      "                'Instructor_Clarity': 0,\n",
      "                'Interactive_and_Engaging': 1,\n",
      "                'Practical_Learning': 0,\n",
      "                'Visual_Learning': 0},\n",
      " 'reasoning': 'The comment suggests reducing the duration of certain videos, '\n",
      "              \"indicating a concern with the course's flexibility and possibly \"\n",
      "              'its engagement level.'}\n",
      "\n",
      "\n",
      "(\"The pace of some lectures could be slowed down. At times, it's challenging \"\n",
      " \"to follow the lecturer's speech or decipher their handwriting.\")\n",
      "{'categories': {'Assessment_and_Quiz_Questions': 0,\n",
      "                'Clinical_Relevance': 0,\n",
      "                'Comprehensive_Course_Content': 0,\n",
      "                'Flexible_Learning_Experience': 0,\n",
      "                'Instructor_Clarity': 1,\n",
      "                'Interactive_and_Engaging': 0,\n",
      "                'Practical_Learning': 0,\n",
      "                'Visual_Learning': 0},\n",
      " 'reasoning': 'The comment mentions the pace of lectures and difficulty in '\n",
      "              \"following the lecturer's speech and handwriting. This relates \"\n",
      "              \"to the clarity of the instructor's delivery.\"}\n",
      "\n",
      "\n",
      "'Nothing specific comes to mind.'\n",
      "{'categories': {'Assessment_and_Quiz_Questions': 0,\n",
      "                'Clinical_Relevance': 0,\n",
      "                'Comprehensive_Course_Content': 0,\n",
      "                'Flexible_Learning_Experience': 0,\n",
      "                'Instructor_Clarity': 0,\n",
      "                'Interactive_and_Engaging': 0,\n",
      "                'Practical_Learning': 0,\n",
      "                'Visual_Learning': 0},\n",
      " 'reasoning': 'The comment does not provide any specific feedback or mention '\n",
      "              'any aspect of the course.'}\n",
      "\n",
      "\n"
     ]
    }
   ],
   "source": [
    "comments = example_survey['improve_course'].tolist()[:10]\n",
    "\n",
    "# the only difference here is that we're supplying custom tags\n",
    "results = await multilabel_classify(comments=comments, tags_list=custom_tags) \n",
    "\n",
    "# we're just showing the first few comments' output here for space\n",
    "for comment, classification in list(zip(comments, results))[:3]:\n",
    "    pprint(comment)\n",
    "    pprint(json.loads(classification.model_dump_json()))\n",
    "    print('\\n')"
   ]
  },
  {
   "cell_type": "markdown",
   "metadata": {},
   "source": [
    "## Try it yourself"
   ]
  },
  {
   "cell_type": "markdown",
   "metadata": {},
   "source": [
    "Your turn...as an exercise for the reader, use the `coursera_survey` comments that we loaded and run `multilabel_classify` on those."
   ]
  }
 ],
 "metadata": {
  "kernelspec": {
   "display_name": "ai1",
   "language": "python",
   "name": "python3"
  },
  "language_info": {
   "codemirror_mode": {
    "name": "ipython",
    "version": 3
   },
   "file_extension": ".py",
   "mimetype": "text/x-python",
   "name": "python",
   "nbconvert_exporter": "python",
   "pygments_lexer": "ipython3",
   "version": "3.11.9"
  }
 },
 "nbformat": 4,
 "nbformat_minor": 2
}
