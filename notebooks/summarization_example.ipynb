{
 "cells": [
  {
   "cell_type": "markdown",
   "metadata": {},
   "source": [
    "# Summarization\n",
    "\n",
    "This is a very high-level task that summarizes the major themes of a set of feedback comments."
   ]
  },
  {
   "cell_type": "markdown",
   "metadata": {},
   "source": [
    "## Imports and setup"
   ]
  },
  {
   "cell_type": "code",
   "execution_count": 10,
   "metadata": {},
   "outputs": [],
   "source": [
    "import pandas as pd\n",
    "from IPython.display import Markdown, display\n",
    "from pathlib import Path\n",
    "from dotenv import load_dotenv, find_dotenv\n",
    "from survey_analysis.summarization import summarize_comments"
   ]
  },
  {
   "cell_type": "code",
   "execution_count": 2,
   "metadata": {},
   "outputs": [],
   "source": [
    "# this makes it more robust to run async tasks inside an already async environment (jupyter notebooks)\n",
    "import nest_asyncio\n",
    "nest_asyncio.apply()"
   ]
  },
  {
   "cell_type": "markdown",
   "metadata": {},
   "source": [
    "Make sure to either set `OPENAI_API_KEY` as an environment variable or put it in a .env file and use the following cell to load the env var. The format in the .env file is:\n",
    "```\n",
    "OPENAI_API_KEY=yourKeyGoesHere\n",
    "```"
   ]
  },
  {
   "cell_type": "code",
   "execution_count": 3,
   "metadata": {},
   "outputs": [
    {
     "data": {
      "text/plain": [
       "True"
      ]
     },
     "execution_count": 3,
     "metadata": {},
     "output_type": "execute_result"
    }
   ],
   "source": [
    "load_dotenv(find_dotenv())"
   ]
  },
  {
   "cell_type": "code",
   "execution_count": 4,
   "metadata": {},
   "outputs": [],
   "source": [
    "%load_ext autoreload\n",
    "%autoreload 2"
   ]
  },
  {
   "cell_type": "markdown",
   "metadata": {},
   "source": [
    "This is a convenience function to make seeing Pandas dataframe values easier, especially when there are long strings like the student comments we will be using."
   ]
  },
  {
   "cell_type": "code",
   "execution_count": 5,
   "metadata": {},
   "outputs": [],
   "source": [
    "def full_show(df):\n",
    "    with pd.option_context('display.max_columns', None, 'display.max_rows', None, 'display.max_colwidth', None):\n",
    "        display(df)"
   ]
  },
  {
   "cell_type": "markdown",
   "metadata": {},
   "source": [
    "This is a convenience function for pretty-printing long student comments."
   ]
  },
  {
   "cell_type": "code",
   "execution_count": 6,
   "metadata": {},
   "outputs": [],
   "source": [
    "def print_wrap(text: str, width: int = 72) -> str:\n",
    "    print(textwrap.fill(text, width=width))"
   ]
  },
  {
   "cell_type": "markdown",
   "metadata": {},
   "source": [
    "## Load the example data"
   ]
  },
  {
   "cell_type": "code",
   "execution_count": 7,
   "metadata": {},
   "outputs": [],
   "source": [
    "data_path = Path('../data/example_data')"
   ]
  },
  {
   "cell_type": "markdown",
   "metadata": {},
   "source": [
    "Let's load up some fake data. \n",
    "\n",
    "All of these comments are synthetic to avoid sharing any sensitive or PII information, but they should work great for illustration purposes. There are 100 rows, with just a few null/nan values here and there for realism. In most surveys I've seen, there are quite a number of null/None/blank etc values, and the functions are written to handle those."
   ]
  },
  {
   "cell_type": "code",
   "execution_count": 8,
   "metadata": {},
   "outputs": [
    {
     "data": {
      "text/html": [
       "<div>\n",
       "<style scoped>\n",
       "    .dataframe tbody tr th:only-of-type {\n",
       "        vertical-align: middle;\n",
       "    }\n",
       "\n",
       "    .dataframe tbody tr th {\n",
       "        vertical-align: top;\n",
       "    }\n",
       "\n",
       "    .dataframe thead th {\n",
       "        text-align: right;\n",
       "    }\n",
       "</style>\n",
       "<table border=\"1\" class=\"dataframe\">\n",
       "  <thead>\n",
       "    <tr style=\"text-align: right;\">\n",
       "      <th></th>\n",
       "      <th>best_parts</th>\n",
       "      <th>enhanced_learning</th>\n",
       "      <th>improve_course</th>\n",
       "    </tr>\n",
       "  </thead>\n",
       "  <tbody>\n",
       "    <tr>\n",
       "      <th>0</th>\n",
       "      <td>I valued the practical clinical aspects related to immune-related disorders and their management.</td>\n",
       "      <td>The illustrative visuals and straightforward explanatory clips.</td>\n",
       "      <td>Consider reducing the duration of certain videos. A few appeared to be slightly prolonged.</td>\n",
       "    </tr>\n",
       "    <tr>\n",
       "      <th>1</th>\n",
       "      <td>The flexibility to learn at a self-determined speed</td>\n",
       "      <td>The opportunity to review the lecture content</td>\n",
       "      <td>The pace of some lectures could be slowed down. At times, it's challenging to follow the lecturer's speech or decipher their handwriting.</td>\n",
       "    </tr>\n",
       "    <tr>\n",
       "      <th>2</th>\n",
       "      <td>The educational content was extremely enriching and stimulating! The section on oncology was the highlight.</td>\n",
       "      <td>the self-assessment activities.</td>\n",
       "      <td>Nothing specific comes to mind.</td>\n",
       "    </tr>\n",
       "    <tr>\n",
       "      <th>3</th>\n",
       "      <td>Professional growth within the medical sector</td>\n",
       "      <td>The practical integration workshops were highly beneficial, they significantly contributed to a deeper comprehension of the theories and their implementation in a healthcare environment.</td>\n",
       "      <td>Incorporating a few advanced projects as optional tasks could benefit learners who wish to delve deeper into the subject matter. These projects wouldn't need to influence exam scores.</td>\n",
       "    </tr>\n",
       "    <tr>\n",
       "      <th>4</th>\n",
       "      <td>The highlights of the class included the practical demonstration clips that made the complex biological principles more understandable by connecting them to daily well-being and actions. This connection was incredibly beneficial as I navigated the course content.</td>\n",
       "      <td>The aspect of the course that most facilitated my learning was the regular assessments provided at each segment, which helped confirm my grasp of the material presented. These checkpoints effectively guided me in the correct learning direction. It's evident that considerable effort was invested in designing these educational modules to enable students to gain a deep comprehension rather than just a superficial understanding of the subject matter.</td>\n",
       "      <td>Extend the duration of the concept videos for the more challenging topics, as they require a deeper dive to fully grasp the intricacies involved. Additionally, consider introducing an additional educator to the mix. The dynamic of having multiple voices in another subject area is quite engaging, and it would be beneficial to replicate that experience in this subject to prevent monotony from setting in with just one instructor.</td>\n",
       "    </tr>\n",
       "  </tbody>\n",
       "</table>\n",
       "</div>"
      ],
      "text/plain": [
       "                                                                                                                                                                                                                                                                best_parts   \n",
       "0                                                                                                                                                                        I valued the practical clinical aspects related to immune-related disorders and their management.  \\\n",
       "1                                                                                                                                                                                                                      The flexibility to learn at a self-determined speed   \n",
       "2                                                                                                                                                              The educational content was extremely enriching and stimulating! The section on oncology was the highlight.   \n",
       "3                                                                                                                                                                                                                            Professional growth within the medical sector   \n",
       "4  The highlights of the class included the practical demonstration clips that made the complex biological principles more understandable by connecting them to daily well-being and actions. This connection was incredibly beneficial as I navigated the course content.   \n",
       "\n",
       "                                                                                                                                                                                                                                                                                                                                                                                                                                                    enhanced_learning   \n",
       "0                                                                                                                                                                                                                                                                                                                                                                                                     The illustrative visuals and straightforward explanatory clips.  \\\n",
       "1                                                                                                                                                                                                                                                                                                                                                                                                                       The opportunity to review the lecture content   \n",
       "2                                                                                                                                                                                                                                                                                                                                                                                                                                     the self-assessment activities.   \n",
       "3                                                                                                                                                                                                                                                                          The practical integration workshops were highly beneficial, they significantly contributed to a deeper comprehension of the theories and their implementation in a healthcare environment.   \n",
       "4  The aspect of the course that most facilitated my learning was the regular assessments provided at each segment, which helped confirm my grasp of the material presented. These checkpoints effectively guided me in the correct learning direction. It's evident that considerable effort was invested in designing these educational modules to enable students to gain a deep comprehension rather than just a superficial understanding of the subject matter.   \n",
       "\n",
       "                                                                                                                                                                                                                                                                                                                                                                                                                                   improve_course  \n",
       "0                                                                                                                                                                                                                                                                                                                                                      Consider reducing the duration of certain videos. A few appeared to be slightly prolonged.  \n",
       "1                                                                                                                                                                                                                                                                                                       The pace of some lectures could be slowed down. At times, it's challenging to follow the lecturer's speech or decipher their handwriting.  \n",
       "2                                                                                                                                                                                                                                                                                                                                                                                                                 Nothing specific comes to mind.  \n",
       "3                                                                                                                                                                                                                                                         Incorporating a few advanced projects as optional tasks could benefit learners who wish to delve deeper into the subject matter. These projects wouldn't need to influence exam scores.  \n",
       "4  Extend the duration of the concept videos for the more challenging topics, as they require a deeper dive to fully grasp the intricacies involved. Additionally, consider introducing an additional educator to the mix. The dynamic of having multiple voices in another subject area is quite engaging, and it would be beneficial to replicate that experience in this subject to prevent monotony from setting in with just one instructor.  "
      ]
     },
     "metadata": {},
     "output_type": "display_data"
    }
   ],
   "source": [
    "example_survey = pd.read_csv(data_path / 'example_survey_data_synthetic.csv')\n",
    "full_show(example_survey.head())"
   ]
  },
  {
   "cell_type": "markdown",
   "metadata": {},
   "source": [
    "## Summarization"
   ]
  },
  {
   "cell_type": "code",
   "execution_count": 11,
   "metadata": {},
   "outputs": [
    {
     "data": {
      "text/markdown": [
       "The feedback highlights several areas for improvement across different aspects of the course:\n",
       "\n",
       "1. **Pacing and Content Delivery**: There's a consensus on adjusting the pace of lectures and videos. Some students find certain videos too long or too fast-paced, making it hard to follow along. Suggestions include slowing down the pace of some lectures, shortening overly lengthy videos, and providing more comprehensive notes or outlines.\n",
       "\n",
       "2. **Depth and Variety of Content**: Students expressed a desire for more in-depth exploration of topics, including advanced projects, more case studies, and expanding on subjects like cancer treatments, immunotherapy, and practical clinical demonstrations. Incorporating more advanced and varied content could enrich the learning experience.\n",
       "\n",
       "3. **Engagement and Interactivity**: Enhancing the course with more interactive elements, such as simulations, practical exercises, and engaging activities, was frequently mentioned. Suggestions also include incorporating more visual aids and multimedia presentations to better illustrate concepts.\n",
       "\n",
       "4. **Assessment and Feedback Mechanisms**: There's feedback on aligning assessments more closely with course content, increasing the number of tries for final assessments, and improving the clarity and relevance of quiz questions. Incorporating a mid-term assessment and providing more mock tests were also suggested.\n",
       "\n",
       "5. **Accessibility and Clarity**: Improving the clarity of video lectures, ensuring consistency in language across presentations, and making subtitles selectable for copying were mentioned. Adding subtitles in other languages could also help non-English speakers.\n",
       "\n",
       "6. **Resource Availability**: Students would appreciate more comprehensive learning materials, including downloadable PDFs, additional study resources, and ongoing access to course content for future reference.\n",
       "\n",
       "7. **Curriculum Expansion**: Expanding the curriculum to cover more topics and incorporating additional content on current and innovative treatments were suggested to broaden the learning experience.\n",
       "\n",
       "Overall, while many students found the course satisfactory or even outstanding, these areas of improvement could enhance the educational quality and student engagement."
      ],
      "text/plain": [
       "<IPython.core.display.Markdown object>"
      ]
     },
     "metadata": {},
     "output_type": "display_data"
    }
   ],
   "source": [
    "improve_course_question = \"What could be improved about the course?\"\n",
    "comments = example_survey['improve_course'].tolist()\n",
    "summarization_result = await summarize_comments(comments=comments, question=improve_course_question)\n",
    "\n",
    "display(Markdown((summarization_result.summary)))"
   ]
  },
  {
   "cell_type": "markdown",
   "metadata": {},
   "source": [
    "When I ran this for the example, the model happened to format the output in Markdown, so that's the way I'm displaying it above. This summary gives a pretty reasonable sense at a high level of what students said for this survey question. But if you're looking for more structured output (something you could use as categories in a bar graph, for example), then check out the example notebook on theme derivation, or the (much longer) notebook with the end-to-end example."
   ]
  }
 ],
 "metadata": {
  "kernelspec": {
   "display_name": "ai1",
   "language": "python",
   "name": "python3"
  },
  "language_info": {
   "codemirror_mode": {
    "name": "ipython",
    "version": 3
   },
   "file_extension": ".py",
   "mimetype": "text/x-python",
   "name": "python",
   "nbconvert_exporter": "python",
   "pygments_lexer": "ipython3",
   "version": "3.10.8"
  }
 },
 "nbformat": 4,
 "nbformat_minor": 2
}
