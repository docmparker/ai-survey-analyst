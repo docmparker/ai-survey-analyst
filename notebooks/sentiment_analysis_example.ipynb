{
 "cells": [
  {
   "cell_type": "markdown",
   "metadata": {},
   "source": [
    "# Sentiment Analysis\n",
    "\n",
    "Here we demonstrate sentiment analysis on a group of student feedback comments. This involves classifying the comments as 'positive', 'negative', or 'neutral'. We'll also show an even finer-grained sorting from most positive to most negative, along with some nice color-coded output. \n",
    "\n",
    "Behind the scenes, if you are interested, we're using the model's logprobs (what were its first, second, third, etc. choices for the sentiment output token, and how confident was it in each of those possible choices) to get a sense of how confident the model was in its prediction and what else it considered. gpt-4 (post-RLHF, what we have access to) is somewhat well calibrated (it knows what it knows...kind of like metacognition for a model) and using the logprobs relies on this type of confidence."
   ]
  },
  {
   "cell_type": "markdown",
   "metadata": {},
   "source": [
    "## Imports and setup"
   ]
  },
  {
   "cell_type": "code",
   "execution_count": 1,
   "metadata": {},
   "outputs": [],
   "source": [
    "import pandas as pd\n",
    "import json\n",
    "from typing import Any\n",
    "from IPython.display import HTML\n",
    "from functools import partial\n",
    "from pprint import pprint\n",
    "from pathlib import Path\n",
    "from dotenv import load_dotenv, find_dotenv\n",
    "from survey_analysis.sentiment_analysis import (\n",
    "    SentimentAnalysis, \n",
    "    SentimentAnalysisResult, \n",
    "    classify_sentiment,\n",
    "    sort_by_confidence,\n",
    ")\n",
    "from survey_analysis.models_common import CommentModel, LLMConfig\n",
    "from survey_analysis.single_input_task import apply_task_with_logprobs\n",
    "from survey_analysis.batch_runner import process_tasks"
   ]
  },
  {
   "cell_type": "code",
   "execution_count": 2,
   "metadata": {},
   "outputs": [],
   "source": [
    "# this makes it more robust to run async tasks inside an already async environment (jupyter notebooks)\n",
    "import nest_asyncio\n",
    "nest_asyncio.apply()"
   ]
  },
  {
   "cell_type": "markdown",
   "metadata": {},
   "source": [
    "Make sure to either set `OPENAI_API_KEY` as an environment variable or put it in a .env file and use the following cell to load the env var. The format in the .env file is:\n",
    "```\n",
    "OPENAI_API_KEY=yourKeyGoesHere\n",
    "```"
   ]
  },
  {
   "cell_type": "code",
   "execution_count": 3,
   "metadata": {},
   "outputs": [
    {
     "data": {
      "text/plain": [
       "True"
      ]
     },
     "execution_count": 3,
     "metadata": {},
     "output_type": "execute_result"
    }
   ],
   "source": [
    "load_dotenv(find_dotenv())"
   ]
  },
  {
   "cell_type": "code",
   "execution_count": 4,
   "metadata": {},
   "outputs": [],
   "source": [
    "%load_ext autoreload\n",
    "%autoreload 2"
   ]
  },
  {
   "cell_type": "markdown",
   "metadata": {},
   "source": [
    "This is a convenience function to make seeing Pandas dataframe values easier, especially when there are long strings like the student comments we will be using."
   ]
  },
  {
   "cell_type": "code",
   "execution_count": 5,
   "metadata": {},
   "outputs": [],
   "source": [
    "def full_show(df):\n",
    "    with pd.option_context('display.max_columns', None, 'display.max_rows', None, 'display.max_colwidth', None):\n",
    "        display(df)"
   ]
  },
  {
   "cell_type": "markdown",
   "metadata": {},
   "source": [
    "## Load the example data"
   ]
  },
  {
   "cell_type": "code",
   "execution_count": 6,
   "metadata": {},
   "outputs": [],
   "source": [
    "data_path = Path('../data/example_data')"
   ]
  },
  {
   "cell_type": "markdown",
   "metadata": {},
   "source": [
    "Let's load up some fake data. \n",
    "\n",
    "All of these comments are synthetic to avoid sharing any sensitive or PII information, but they should work great for illustration purposes. There are 100 rows, with just a few null/nan values here and there for realism. In most surveys I've seen, there are quite a number of null/None/blank etc values, and the functions are written to handle those."
   ]
  },
  {
   "cell_type": "code",
   "execution_count": 7,
   "metadata": {},
   "outputs": [
    {
     "data": {
      "text/html": [
       "<div>\n",
       "<style scoped>\n",
       "    .dataframe tbody tr th:only-of-type {\n",
       "        vertical-align: middle;\n",
       "    }\n",
       "\n",
       "    .dataframe tbody tr th {\n",
       "        vertical-align: top;\n",
       "    }\n",
       "\n",
       "    .dataframe thead th {\n",
       "        text-align: right;\n",
       "    }\n",
       "</style>\n",
       "<table border=\"1\" class=\"dataframe\">\n",
       "  <thead>\n",
       "    <tr style=\"text-align: right;\">\n",
       "      <th></th>\n",
       "      <th>best_parts</th>\n",
       "      <th>enhanced_learning</th>\n",
       "      <th>improve_course</th>\n",
       "    </tr>\n",
       "  </thead>\n",
       "  <tbody>\n",
       "    <tr>\n",
       "      <th>0</th>\n",
       "      <td>I valued the practical clinical aspects related to immune-related disorders and their management.</td>\n",
       "      <td>The illustrative visuals and straightforward explanatory clips.</td>\n",
       "      <td>Consider reducing the duration of certain videos. A few appeared to be slightly prolonged.</td>\n",
       "    </tr>\n",
       "    <tr>\n",
       "      <th>1</th>\n",
       "      <td>The flexibility to learn at a self-determined speed</td>\n",
       "      <td>The opportunity to review the lecture content</td>\n",
       "      <td>The pace of some lectures could be slowed down. At times, it's challenging to follow the lecturer's speech or decipher their handwriting.</td>\n",
       "    </tr>\n",
       "    <tr>\n",
       "      <th>2</th>\n",
       "      <td>The educational content was extremely enriching and stimulating! The section on oncology was the highlight.</td>\n",
       "      <td>the self-assessment activities.</td>\n",
       "      <td>Nothing specific comes to mind.</td>\n",
       "    </tr>\n",
       "    <tr>\n",
       "      <th>3</th>\n",
       "      <td>Professional growth within the medical sector</td>\n",
       "      <td>The practical integration workshops were highly beneficial, they significantly contributed to a deeper comprehension of the theories and their implementation in a healthcare environment.</td>\n",
       "      <td>Incorporating a few advanced projects as optional tasks could benefit learners who wish to delve deeper into the subject matter. These projects wouldn't need to influence exam scores.</td>\n",
       "    </tr>\n",
       "    <tr>\n",
       "      <th>4</th>\n",
       "      <td>The highlights of the class included the practical demonstration clips that made the complex biological principles more understandable by connecting them to daily well-being and actions. This connection was incredibly beneficial as I navigated the course content.</td>\n",
       "      <td>The aspect of the course that most facilitated my learning was the regular assessments provided at each segment, which helped confirm my grasp of the material presented. These checkpoints effectively guided me in the correct learning direction. It's evident that considerable effort was invested in designing these educational modules to enable students to gain a deep comprehension rather than just a superficial understanding of the subject matter.</td>\n",
       "      <td>Extend the duration of the concept videos for the more challenging topics, as they require a deeper dive to fully grasp the intricacies involved. Additionally, consider introducing an additional educator to the mix. The dynamic of having multiple voices in another subject area is quite engaging, and it would be beneficial to replicate that experience in this subject to prevent monotony from setting in with just one instructor.</td>\n",
       "    </tr>\n",
       "  </tbody>\n",
       "</table>\n",
       "</div>"
      ],
      "text/plain": [
       "                                                                                                                                                                                                                                                                best_parts  \\\n",
       "0                                                                                                                                                                        I valued the practical clinical aspects related to immune-related disorders and their management.   \n",
       "1                                                                                                                                                                                                                      The flexibility to learn at a self-determined speed   \n",
       "2                                                                                                                                                              The educational content was extremely enriching and stimulating! The section on oncology was the highlight.   \n",
       "3                                                                                                                                                                                                                            Professional growth within the medical sector   \n",
       "4  The highlights of the class included the practical demonstration clips that made the complex biological principles more understandable by connecting them to daily well-being and actions. This connection was incredibly beneficial as I navigated the course content.   \n",
       "\n",
       "                                                                                                                                                                                                                                                                                                                                                                                                                                                    enhanced_learning  \\\n",
       "0                                                                                                                                                                                                                                                                                                                                                                                                     The illustrative visuals and straightforward explanatory clips.   \n",
       "1                                                                                                                                                                                                                                                                                                                                                                                                                       The opportunity to review the lecture content   \n",
       "2                                                                                                                                                                                                                                                                                                                                                                                                                                     the self-assessment activities.   \n",
       "3                                                                                                                                                                                                                                                                          The practical integration workshops were highly beneficial, they significantly contributed to a deeper comprehension of the theories and their implementation in a healthcare environment.   \n",
       "4  The aspect of the course that most facilitated my learning was the regular assessments provided at each segment, which helped confirm my grasp of the material presented. These checkpoints effectively guided me in the correct learning direction. It's evident that considerable effort was invested in designing these educational modules to enable students to gain a deep comprehension rather than just a superficial understanding of the subject matter.   \n",
       "\n",
       "                                                                                                                                                                                                                                                                                                                                                                                                                                   improve_course  \n",
       "0                                                                                                                                                                                                                                                                                                                                                      Consider reducing the duration of certain videos. A few appeared to be slightly prolonged.  \n",
       "1                                                                                                                                                                                                                                                                                                       The pace of some lectures could be slowed down. At times, it's challenging to follow the lecturer's speech or decipher their handwriting.  \n",
       "2                                                                                                                                                                                                                                                                                                                                                                                                                 Nothing specific comes to mind.  \n",
       "3                                                                                                                                                                                                                                                         Incorporating a few advanced projects as optional tasks could benefit learners who wish to delve deeper into the subject matter. These projects wouldn't need to influence exam scores.  \n",
       "4  Extend the duration of the concept videos for the more challenging topics, as they require a deeper dive to fully grasp the intricacies involved. Additionally, consider introducing an additional educator to the mix. The dynamic of having multiple voices in another subject area is quite engaging, and it would be beneficial to replicate that experience in this subject to prevent monotony from setting in with just one instructor.  "
      ]
     },
     "metadata": {},
     "output_type": "display_data"
    }
   ],
   "source": [
    "example_survey = pd.read_csv(data_path / 'example_survey_data_synthetic.csv')\n",
    "full_show(example_survey.head())"
   ]
  },
  {
   "cell_type": "markdown",
   "metadata": {},
   "source": [
    "We'll also load up some Coursera comments (source is from [this Kaggle notebook](https://www.kaggle.com/datasets/imuhammad/course-reviews-on-coursera), just using the first 200 as an example. The included example dataset is just the first 200 rows of the full 1.45 million rows. I didn't include the full set so as not to blimp up the size of this repo."
   ]
  },
  {
   "cell_type": "code",
   "execution_count": 8,
   "metadata": {},
   "outputs": [
    {
     "data": {
      "text/html": [
       "<div>\n",
       "<style scoped>\n",
       "    .dataframe tbody tr th:only-of-type {\n",
       "        vertical-align: middle;\n",
       "    }\n",
       "\n",
       "    .dataframe tbody tr th {\n",
       "        vertical-align: top;\n",
       "    }\n",
       "\n",
       "    .dataframe thead th {\n",
       "        text-align: right;\n",
       "    }\n",
       "</style>\n",
       "<table border=\"1\" class=\"dataframe\">\n",
       "  <thead>\n",
       "    <tr style=\"text-align: right;\">\n",
       "      <th></th>\n",
       "      <th>reviews</th>\n",
       "      <th>reviewers</th>\n",
       "      <th>date_reviews</th>\n",
       "      <th>rating</th>\n",
       "      <th>course_id</th>\n",
       "    </tr>\n",
       "  </thead>\n",
       "  <tbody>\n",
       "    <tr>\n",
       "      <th>0</th>\n",
       "      <td>Pretty dry, but I was able to pass with just two complete watches so I'm happy about that.  As usual there were some questions on the final exam that were NO WHERE in the course, which is annoying but far better than many microsoft tests I have taken.  Never found the suplimental material that the course references... but who cares... i passed!</td>\n",
       "      <td>By Robert S</td>\n",
       "      <td>Feb 12, 2020</td>\n",
       "      <td>4</td>\n",
       "      <td>google-cbrs-cpi-training</td>\n",
       "    </tr>\n",
       "    <tr>\n",
       "      <th>1</th>\n",
       "      <td>would be a better experience if the video and screen shots would sho on the side of the text that the instructor is going thru so that user does not have to go all the way to beginning of text to be able to view any slides instructor is showing.</td>\n",
       "      <td>By Gabriel E R</td>\n",
       "      <td>Sep 28, 2020</td>\n",
       "      <td>4</td>\n",
       "      <td>google-cbrs-cpi-training</td>\n",
       "    </tr>\n",
       "    <tr>\n",
       "      <th>2</th>\n",
       "      <td>Information was perfect! The program itself was a little annoying. I had to wait 30 to 45 minutes after watching the videos to to take the quiz. Other than that the information was perfect and passed the test with no issues!</td>\n",
       "      <td>By Jacob D</td>\n",
       "      <td>Apr 08, 2020</td>\n",
       "      <td>4</td>\n",
       "      <td>google-cbrs-cpi-training</td>\n",
       "    </tr>\n",
       "    <tr>\n",
       "      <th>3</th>\n",
       "      <td>A few grammatical mistakes on test made me do a double take but all in all not bad.</td>\n",
       "      <td>By Dale B</td>\n",
       "      <td>Feb 24, 2020</td>\n",
       "      <td>4</td>\n",
       "      <td>google-cbrs-cpi-training</td>\n",
       "    </tr>\n",
       "    <tr>\n",
       "      <th>4</th>\n",
       "      <td>Excellent course and the training provided was very detailed and easy to follow.</td>\n",
       "      <td>By Sean G</td>\n",
       "      <td>Jun 18, 2020</td>\n",
       "      <td>4</td>\n",
       "      <td>google-cbrs-cpi-training</td>\n",
       "    </tr>\n",
       "  </tbody>\n",
       "</table>\n",
       "</div>"
      ],
      "text/plain": [
       "                                                                                                                                                                                                                                                                                                                                                      reviews  \\\n",
       "0  Pretty dry, but I was able to pass with just two complete watches so I'm happy about that.  As usual there were some questions on the final exam that were NO WHERE in the course, which is annoying but far better than many microsoft tests I have taken.  Never found the suplimental material that the course references... but who cares... i passed!   \n",
       "1                                                                                                       would be a better experience if the video and screen shots would sho on the side of the text that the instructor is going thru so that user does not have to go all the way to beginning of text to be able to view any slides instructor is showing.   \n",
       "2                                                                                                                            Information was perfect! The program itself was a little annoying. I had to wait 30 to 45 minutes after watching the videos to to take the quiz. Other than that the information was perfect and passed the test with no issues!   \n",
       "3                                                                                                                                                                                                                                                                         A few grammatical mistakes on test made me do a double take but all in all not bad.   \n",
       "4                                                                                                                                                                                                                                                                            Excellent course and the training provided was very detailed and easy to follow.   \n",
       "\n",
       "        reviewers  date_reviews  rating                 course_id  \n",
       "0     By Robert S  Feb 12, 2020       4  google-cbrs-cpi-training  \n",
       "1  By Gabriel E R  Sep 28, 2020       4  google-cbrs-cpi-training  \n",
       "2      By Jacob D  Apr 08, 2020       4  google-cbrs-cpi-training  \n",
       "3       By Dale B  Feb 24, 2020       4  google-cbrs-cpi-training  \n",
       "4       By Sean G  Jun 18, 2020       4  google-cbrs-cpi-training  "
      ]
     },
     "metadata": {},
     "output_type": "display_data"
    }
   ],
   "source": [
    "coursera_survey = pd.read_csv(data_path / 'coursera_survey_200rows.csv', nrows=200)\n",
    "full_show(coursera_survey.head())"
   ]
  },
  {
   "cell_type": "markdown",
   "metadata": {},
   "source": [
    "## Sentiment analysis"
   ]
  },
  {
   "cell_type": "markdown",
   "metadata": {},
   "source": [
    "### Running"
   ]
  },
  {
   "cell_type": "markdown",
   "metadata": {},
   "source": [
    "Let's run sentiment analysis on a single comment to see how it works. Notice that we record the model's reasoning as well to get a sense of how the results were arrived at."
   ]
  },
  {
   "cell_type": "code",
   "execution_count": 9,
   "metadata": {},
   "outputs": [
    {
     "name": "stdout",
     "output_type": "stream",
     "text": [
      "Student comment: \"Consider reducing the duration of certain videos. A few appeared to be slightly prolonged.\"\n",
      "{'reasoning': 'The comment suggests a specific improvement (reducing the '\n",
      "              'duration of certain videos) and mentions that some videos '\n",
      "              'appeared to be slightly prolonged. The tone is constructive and '\n",
      "              'not overly critical, indicating a neutral sentiment.',\n",
      " 'sentiment': 'neutral'}\n"
     ]
    }
   ],
   "source": [
    "survey_task = SentimentAnalysis(question=\"What could be improved about the course?\")\n",
    "task_input = CommentModel(comment=example_survey.iloc[0]['improve_course'])\n",
    "llm_config = LLMConfig(logprobs=True, top_logprobs=3)\n",
    "\n",
    "sample_sentiment = await apply_task_with_logprobs(task_input=task_input,\n",
    "                                                  get_prompt=survey_task.prompt_messages,\n",
    "                                                  result_class=survey_task.result_class,\n",
    "                                                  llm_config=llm_config)\n",
    "\n",
    "print(f'Student comment: \"{task_input.comment}\"')\n",
    "pprint(json.loads(sample_sentiment.model_dump_json(include={'sentiment', 'reasoning'})))"
   ]
  },
  {
   "cell_type": "markdown",
   "metadata": {},
   "source": [
    "You can get a lot more detail from the result, but it's entirely optional - you can also just get the sentiment as above. Just for curiosity, here's some more of the detail. We can see that the top-ranked choice for the model was 'neutral' but next on its list was 'negative', hence we can do some finer-grained classification to call this comment 'neutral-negative', meaning that it's neutral but potentially negative-leaning."
   ]
  },
  {
   "cell_type": "code",
   "execution_count": 10,
   "metadata": {},
   "outputs": [
    {
     "name": "stdout",
     "output_type": "stream",
     "text": [
      "logprobs for sentiment token:\n",
      "[{'linear_prob': 100.0, 'logprob': 0.0, 'token': 'neutral'},\n",
      " {'linear_prob': 0.0, 'logprob': -20.0, 'token': 'negative'},\n",
      " {'linear_prob': 0.0, 'logprob': -20.75, 'token': 'ne'}]\n",
      "fine-grained sentiment category: neutral-negative\n"
     ]
    }
   ],
   "source": [
    "print('logprobs for sentiment token:')\n",
    "pprint(sample_sentiment.sentiment_logprobs)\n",
    "print(f'fine-grained sentiment category: {sample_sentiment.fine_grained_sentiment_category}')"
   ]
  },
  {
   "cell_type": "markdown",
   "metadata": {},
   "source": [
    "### Sorting/ranking"
   ]
  },
  {
   "cell_type": "markdown",
   "metadata": {},
   "source": [
    "Next let's run this on a small set of comments and look at sorting/ranking. We'll take 50 comments from the survey question related to 'what were the best parts of the course?'"
   ]
  },
  {
   "cell_type": "code",
   "execution_count": 11,
   "metadata": {},
   "outputs": [
    {
     "name": "stdout",
     "output_type": "stream",
     "text": [
      "processing 50 inputs in batches of 100\n",
      "sleeping for 30 seconds between batches\n",
      "starting 0 to 100\n",
      "completed 0 to 100\n",
      "elapsed time: 2.6933209896087646\n"
     ]
    }
   ],
   "source": [
    "best_parts_question = \"What were the best parts of the course?\"\n",
    "comments = example_survey['best_parts'].tolist()[:50]\n",
    "sentiment_results = await classify_sentiment(comments=comments, question=best_parts_question)"
   ]
  },
  {
   "cell_type": "markdown",
   "metadata": {},
   "source": [
    "We'll sort by the finer-grained sentiment. (For those interested, this is the difference in confidence between the top logprob sentiment and the next different sentiment/token, considering the top three only.) We'll only show the top 2 and bottom 2 comments output for brevity."
   ]
  },
  {
   "cell_type": "code",
   "execution_count": 12,
   "metadata": {},
   "outputs": [
    {
     "name": "stdout",
     "output_type": "stream",
     "text": [
      "Student comment: \"The flexibility to learn at a self-determined speed\"\n",
      "{'classification_confidence': {'difference': 'Infinity',\n",
      "                               'next_token': None,\n",
      "                               'top_token': 'positive'},\n",
      " 'fine_grained_sentiment_category': 'positive',\n",
      " 'reasoning': 'The comment highlights a positive aspect of the course, '\n",
      "              \"specifically the flexibility to learn at one's own pace. This \"\n",
      "              'indicates satisfaction and appreciation for this feature.',\n",
      " 'sentiment': 'positive',\n",
      " 'sentiment_logprobs': [{'linear_prob': 100.0,\n",
      "                         'logprob': 0.0,\n",
      "                         'token': 'positive'},\n",
      "                        {'linear_prob': 0.0,\n",
      "                         'logprob': -22.625,\n",
      "                         'token': 'posit'},\n",
      "                        {'linear_prob': 0.0,\n",
      "                         'logprob': -24.375,\n",
      "                         'token': 'Positive'}]}\n",
      "\n",
      "\n",
      "Student comment: \"Professional growth within the medical sector\"\n",
      "{'classification_confidence': {'difference': 'Infinity',\n",
      "                               'next_token': None,\n",
      "                               'top_token': 'positive'},\n",
      " 'fine_grained_sentiment_category': 'positive',\n",
      " 'reasoning': 'The comment highlights a positive aspect of the course, '\n",
      "              \"specifically mentioning 'professional growth within the medical \"\n",
      "              \"sector'. This indicates that the student found the course \"\n",
      "              'beneficial for their career development in the medical field.',\n",
      " 'sentiment': 'positive',\n",
      " 'sentiment_logprobs': [{'linear_prob': 100.0,\n",
      "                         'logprob': 0.0,\n",
      "                         'token': 'positive'},\n",
      "                        {'linear_prob': 0.0,\n",
      "                         'logprob': -21.875,\n",
      "                         'token': 'posit'},\n",
      "                        {'linear_prob': 0.0,\n",
      "                         'logprob': -22.25,\n",
      "                         'token': 'Positive'}]}\n",
      "\n",
      "\n",
      "Student comment: \"Sensitivities\"\n",
      "{'classification_confidence': {'difference': 20.5,\n",
      "                               'next_token': 'negative',\n",
      "                               'top_token': 'neutral'},\n",
      " 'fine_grained_sentiment_category': 'neutral-negative',\n",
      " 'reasoning': \"The comment 'Sensitivities' is very brief and lacks context or \"\n",
      "              'detail. It does not provide any clear indication of positive or '\n",
      "              'negative sentiment towards the course. It is ambiguous and does '\n",
      "              'not convey any specific emotion or opinion.',\n",
      " 'sentiment': 'neutral',\n",
      " 'sentiment_logprobs': [{'linear_prob': 100.0,\n",
      "                         'logprob': 0.0,\n",
      "                         'token': 'neutral'},\n",
      "                        {'linear_prob': 0.0,\n",
      "                         'logprob': -20.5,\n",
      "                         'token': 'negative'},\n",
      "                        {'linear_prob': 0.0, 'logprob': -21.0, 'token': 'ne'}]}\n",
      "\n",
      "\n",
      "Student comment: \"-\"\n",
      "{'classification_confidence': {'difference': 16.62499980638735,\n",
      "                               'next_token': 'negative',\n",
      "                               'top_token': 'neutral'},\n",
      " 'fine_grained_sentiment_category': 'neutral-negative',\n",
      " 'reasoning': 'The comment is empty, so there is no information to analyze for '\n",
      "              'sentiment.',\n",
      " 'sentiment': 'neutral',\n",
      " 'sentiment_logprobs': [{'linear_prob': 100.0,\n",
      "                         'logprob': -1.9361265e-07,\n",
      "                         'token': 'neutral'},\n",
      "                        {'linear_prob': 0.0,\n",
      "                         'logprob': -16.625,\n",
      "                         'token': 'negative'},\n",
      "                        {'linear_prob': 0.0,\n",
      "                         'logprob': -18.25,\n",
      "                         'token': ' neutral'}]}\n",
      "\n",
      "\n"
     ]
    }
   ],
   "source": [
    "pairs = sort_by_confidence(comments, sentiment_results)\n",
    "for comment, result in [*pairs[:2], *pairs[-2:]]:\n",
    "    print(f'Student comment: \"{comment}\"')\n",
    "    pprint(json.loads(result.model_dump_json(exclude={'logprobs'})))\n",
    "    print('\\n')"
   ]
  },
  {
   "cell_type": "markdown",
   "metadata": {},
   "source": [
    "### Displaying results"
   ]
  },
  {
   "cell_type": "markdown",
   "metadata": {},
   "source": [
    "Create a display helper function for pretty output ranked by sentiment from most positive to most negative"
   ]
  },
  {
   "cell_type": "code",
   "execution_count": 13,
   "metadata": {},
   "outputs": [],
   "source": [
    "color_map = {'positive': 'MediumSlateBlue', \n",
    "            'neutral-positive': 'LightSkyBlue',\n",
    "            'neutral': 'LightGray',\n",
    "            'neutral-negative': 'LightSalmon',\n",
    "            'negative': 'Red'}\n",
    "# this one is a diverging rdbu color map\n",
    "# color_map = {'positive': '#0571b0', \n",
    "#             'neutral-positive': '#92c5de',\n",
    "#             'neutral': '#f7f7f7',\n",
    "#             'neutral-negative': '#f4a582',\n",
    "#             'negative': '#ca0020'}\n",
    "\n",
    "def colorized_html_output(pairs: tuple[str, SentimentAnalysisResult]) -> Any:\n",
    "    html_output = \"\"\n",
    "    for comment, result in pairs:\n",
    "        color = color_map[result.fine_grained_sentiment_category]\n",
    "        html_output += f'<span style=\"color:{color}; font-size:1.2em\">\"{comment}\"</span><br>'\n",
    "\n",
    "    return HTML(html_output)\n",
    "\n",
    "def reference_colors():\n",
    "    \"\"\"This is kind of like a legend for the colorized_html_output\"\"\"\n",
    "    html_output = \"\"\n",
    "    for category, color in color_map.items():\n",
    "        html_output += f'<span style=\"color:{color}; font-size:1.2em\">{category}</span><br>'\n",
    "\n",
    "    return HTML(html_output)"
   ]
  },
  {
   "cell_type": "code",
   "execution_count": 14,
   "metadata": {},
   "outputs": [
    {
     "data": {
      "text/html": [
       "<span style=\"color:MediumSlateBlue; font-size:1.2em\">positive</span><br><span style=\"color:LightSkyBlue; font-size:1.2em\">neutral-positive</span><br><span style=\"color:LightGray; font-size:1.2em\">neutral</span><br><span style=\"color:LightSalmon; font-size:1.2em\">neutral-negative</span><br><span style=\"color:Red; font-size:1.2em\">negative</span><br>"
      ],
      "text/plain": [
       "<IPython.core.display.HTML object>"
      ]
     },
     "metadata": {},
     "output_type": "display_data"
    }
   ],
   "source": [
    "display(reference_colors())"
   ]
  },
  {
   "cell_type": "markdown",
   "metadata": {},
   "source": [
    "Now let's take a look at the comments in a prettier format sorted from most positive (bluest in this scheme) to most negative (red in this scheme). Given that we are using the 'best parts' responses, one would expect that the vast majority would show up as positive sentiment."
   ]
  },
  {
   "cell_type": "code",
   "execution_count": 15,
   "metadata": {},
   "outputs": [
    {
     "data": {
      "text/html": [
       "<span style=\"color:MediumSlateBlue; font-size:1.2em\">\"The flexibility to learn at a self-determined speed\"</span><br><span style=\"color:MediumSlateBlue; font-size:1.2em\">\"Professional growth within the medical sector\"</span><br><span style=\"color:MediumSlateBlue; font-size:1.2em\">\"Educational recordings featuring actual medical scenarios.\"</span><br><span style=\"color:MediumSlateBlue; font-size:1.2em\">\"Organization, progression, scholarly debates, and narratives of actual patients\"</span><br><span style=\"color:MediumSlateBlue; font-size:1.2em\">\"the instructor's clear summaries of ideas\"</span><br><span style=\"color:MediumSlateBlue; font-size:1.2em\">\"Gaining knowledge from specialists in the industry.\"</span><br><span style=\"color:MediumSlateBlue; font-size:1.2em\">\"the course is engaging and includes numerous simulations\"</span><br><span style=\"color:MediumSlateBlue; font-size:1.2em\">\"I appreciated gaining knowledge about the roles of both B and T cells in the functioning of our immune defense.\"</span><br><span style=\"color:MediumSlateBlue; font-size:1.2em\">\"The graphical presentations and interactive dialogues about emerging innovations in the field of precision medicine, as well as the kinds of studies being conducted in educational institutions, were quite engaging.\"</span><br><span style=\"color:MediumSlateBlue; font-size:1.2em\">\"The visual lectures\"</span><br><span style=\"color:MediumSlateBlue; font-size:1.2em\">\"The instructional videos on clinical procedures were beneficial.\"</span><br><span style=\"color:MediumSlateBlue; font-size:1.2em\">\"The practical application segments of the lessons were beneficial. They aided in deepening comprehension of the molecular processes.\"</span><br><span style=\"color:MediumSlateBlue; font-size:1.2em\">\"Every session was enlightening. Initially, the assessments appeared quite demanding, especially since my background is in a distinct field. The questions in the assessments demanded not just familiarity with the session content, but also a more profound comprehension. Despite the initial difficulty, it was beneficial to delve into additional resources and witness my comprehension evolve. The assessments were truly insightful.\"</span><br><span style=\"color:MediumSlateBlue; font-size:1.2em\">\"The additional resources provided, such as study guides and vocabulary lists, were extremely beneficial for independent revision. It's advantageous to have an abundance of these materials.\"</span><br><span style=\"color:MediumSlateBlue; font-size:1.2em\">\"diversity of instructional materials utilized, including video depictions of actual events\"</span><br><span style=\"color:MediumSlateBlue; font-size:1.2em\">\"the engaging online activities\"</span><br><span style=\"color:MediumSlateBlue; font-size:1.2em\">\"The course content on cutting-edge treatments within the field of immune-based cancer therapies was outstanding.\"</span><br><span style=\"color:MediumSlateBlue; font-size:1.2em\">\"Engaging and informative visual content that integrates theoretical concepts with practical clinical applications.\"</span><br><span style=\"color:MediumSlateBlue; font-size:1.2em\">\"I valued the practical clinical aspects related to immune-related disorders and their management.\"</span><br><span style=\"color:MediumSlateBlue; font-size:1.2em\">\"The highlights of the class included the practical demonstration clips that made the complex biological principles more understandable by connecting them to daily well-being and actions. This connection was incredibly beneficial as I navigated the course content.\"</span><br><span style=\"color:MediumSlateBlue; font-size:1.2em\">\"The practical exercises in the laboratory and their relevance to real-world health conditions or metabolic processes in organisms.\"</span><br><span style=\"color:MediumSlateBlue; font-size:1.2em\">\"The hands-on interactive modules related to fluid dynamics were particularly beneficial, as I absorbed more knowledge by actively adjusting the parameters than through passive listening or reading. Equally informative were the visual aids that clarified the application of certain medical treatments.\"</span><br><span style=\"color:MediumSlateBlue; font-size:1.2em\">\"The practical applications were quite engaging and aided in grasping the ideas and their significance within the realm of medical practice.\"</span><br><span style=\"color:MediumSlateBlue; font-size:1.2em\">\"comprehensive summary, encompassing emerging treatments currently under research\"</span><br><span style=\"color:MediumSlateBlue; font-size:1.2em\">\"The course excelled in breaking down complex topics into digestible parts that were straightforward to grasp.\"</span><br><span style=\"color:MediumSlateBlue; font-size:1.2em\">\"The substance and delivery of the material were excellent.\"</span><br><span style=\"color:MediumSlateBlue; font-size:1.2em\">\"The instructional animations and the variety of engaging multimedia resources were excellent, making the material straightforward and comprehensible.\"</span><br><span style=\"color:MediumSlateBlue; font-size:1.2em\">\"I genuinely appreciated the succinctness of the curriculum. The fundamental principles taught are crucial for making important decisions in the future. I believe the instructor was outstanding and had a calming demeanor, which in turn made me feel at ease. The incorporation of various healthcare settings and interactions with patients significantly contributed to the thought process and highlighted the competencies necessary for precise diagnoses.\"</span><br><span style=\"color:MediumSlateBlue; font-size:1.2em\">\"Superb elucidation. The video content was lucid. I gained considerable knowledge from this class.\"</span><br><span style=\"color:MediumSlateBlue; font-size:1.2em\">\"I appreciate the comprehensive examination of the primary oncological pathways. It provided a structured recapitulation that was beneficial.\"</span><br><span style=\"color:MediumSlateBlue; font-size:1.2em\">\"The course was structured clearly. Found every lecture to be engaging.\"</span><br><span style=\"color:MediumSlateBlue; font-size:1.2em\">\"I found the instructional videos to be exceptionally clear, and the quizzes were well-aligned with the educational goals. Additionally, the practical application in a clinical setting was valuable, as it demonstrated real-world interactions.\"</span><br><span style=\"color:MediumSlateBlue; font-size:1.2em\">\"The program offered outstanding visual aids and additional resources that enhanced comprehension of the principles, surpassing mere textbook learning.\"</span><br><span style=\"color:MediumSlateBlue; font-size:1.2em\">\"The ability to consolidate learning across various assessments and the inclusion of review questions that emphasize key concepts was highly beneficial.\"</span><br><span style=\"color:MediumSlateBlue; font-size:1.2em\">\"The content was highly captivating, with quiz items that were appropriately difficult yet manageable. The assessments focused on key principles, and I believe I have thoroughly grasped the fundamental concepts of the subject matter following this class.\"</span><br><span style=\"color:MediumSlateBlue; font-size:1.2em\">\"The highlight of this educational experience was undoubtedly the clarity with which the material was presented, facilitating the retention of key points. The structured progression of the topics and the emphasis on core concepts were particularly appreciated. Additionally, commendations are due to the entire teaching team for their ability to inspire and evoke a sense of wonder about the subject matter, even through the digital medium of a screen.\"</span><br><span style=\"color:MediumSlateBlue; font-size:1.2em\">\"I found the practical exercises to be particularly beneficial. The fundamental principles were effectively conveyed, providing a solid base. The intensive sessions were successful in presenting a more detailed understanding of the underlying scientific concepts.\"</span><br><span style=\"color:MediumSlateBlue; font-size:1.2em\">\"The most beneficial aspect of the class was the application of biochemical concepts to practical scenarios, such as metabolic disorders and inflammatory conditions. These illustrations significantly enhanced my comprehension of the material.\"</span><br><span style=\"color:MediumSlateBlue; font-size:1.2em\">\"The educational content was extremely enriching and stimulating! The section on oncology was the highlight.\"</span><br><span style=\"color:MediumSlateBlue; font-size:1.2em\">\"The hands-on components\"</span><br><span style=\"color:MediumSlateBlue; font-size:1.2em\">\"good\"</span><br><span style=\"color:MediumSlateBlue; font-size:1.2em\">\"The visual summaries provided at the end of each session were highly beneficial. It would be advantageous if these could be compiled into a document for future reference.\"</span><br><span style=\"color:MediumSlateBlue; font-size:1.2em\">\"illustrations\"</span><br><span style=\"color:LightGray; font-size:1.2em\">\"Practice Questions\"</span><br><span style=\"color:LightGray; font-size:1.2em\">\"The sections on natural immune responses, the role of supportive immune cells, the mechanisms and roles of immune proteins, hypersensitivity reactions, the connections between various health conditions, and the processes of pathogen detection and immune response enhancement.\"</span><br><span style=\"color:LightSalmon; font-size:1.2em\">\"Review of basic immunological principles\"</span><br><span style=\"color:LightSalmon; font-size:1.2em\">\"The instructor\"</span><br><span style=\"color:LightSalmon; font-size:1.2em\">\"Sensitivities\"</span><br><span style=\"color:LightSalmon; font-size:1.2em\">\"-\"</span><br>"
      ],
      "text/plain": [
       "<IPython.core.display.HTML object>"
      ]
     },
     "metadata": {},
     "output_type": "display_data"
    }
   ],
   "source": [
    "display(colorized_html_output(pairs))"
   ]
  },
  {
   "cell_type": "markdown",
   "metadata": {},
   "source": [
    "The color-coded version makes it pretty clear that most of the comments came across as positive, given that we were asking 'what were the best parts of the course?'"
   ]
  },
  {
   "cell_type": "markdown",
   "metadata": {},
   "source": [
    "### Comparing to another survey question\n",
    "\n",
    "Now let's take a look at the answers to \"What could we improve about the course?\". We might expect that there would be more comments that skew toward negative sentiment. Let's find out."
   ]
  },
  {
   "cell_type": "code",
   "execution_count": 16,
   "metadata": {},
   "outputs": [
    {
     "name": "stdout",
     "output_type": "stream",
     "text": [
      "processing 50 inputs in batches of 100\n",
      "sleeping for 30 seconds between batches\n",
      "starting 0 to 100\n",
      "completed 0 to 100\n",
      "elapsed time: 3.2410290241241455\n"
     ]
    }
   ],
   "source": [
    "improve_course_question = 'What could be improved about the course?'\n",
    "comments_improve = example_survey['improve_course'].tolist()[:50]\n",
    "sentiment_results_improve = await classify_sentiment(comments=comments_improve, question=improve_course_question)\n"
   ]
  },
  {
   "cell_type": "markdown",
   "metadata": {},
   "source": [
    "Rank the comments using the confidence difference scores within each top sentiment. Again, we'll only show the top 2 and bottom 2 comments for brevity."
   ]
  },
  {
   "cell_type": "code",
   "execution_count": 18,
   "metadata": {},
   "outputs": [
    {
     "name": "stdout",
     "output_type": "stream",
     "text": [
      "Student comment: \"Its perfect this way\"\n",
      "{'classification_confidence': {'difference': 18.75,\n",
      "                               'next_token': 'neutral',\n",
      "                               'top_token': 'positive'},\n",
      " 'fine_grained_sentiment_category': 'positive',\n",
      " 'reasoning': 'The comment expresses satisfaction with the current state of '\n",
      "              'the course, indicating no need for improvement. This suggests a '\n",
      "              'positive sentiment.',\n",
      " 'sentiment': 'positive',\n",
      " 'sentiment_logprobs': [{'linear_prob': 100.0,\n",
      "                         'logprob': 0.0,\n",
      "                         'token': 'positive'},\n",
      "                        {'linear_prob': 0.0,\n",
      "                         'logprob': -18.75,\n",
      "                         'token': 'neutral'},\n",
      "                        {'linear_prob': 0.0,\n",
      "                         'logprob': -19.0,\n",
      "                         'token': 'negative'}]}\n",
      "\n",
      "\n",
      "Student comment: \"Everything is ideal as it stands.\"\n",
      "{'classification_confidence': {'difference': 17.0,\n",
      "                               'next_token': 'neutral',\n",
      "                               'top_token': 'positive'},\n",
      " 'fine_grained_sentiment_category': 'positive',\n",
      " 'reasoning': 'The comment indicates that the student is satisfied with the '\n",
      "              'course and does not see any need for improvement. This suggests '\n",
      "              'a positive sentiment.',\n",
      " 'sentiment': 'positive',\n",
      " 'sentiment_logprobs': [{'linear_prob': 100.0,\n",
      "                         'logprob': 0.0,\n",
      "                         'token': 'positive'},\n",
      "                        {'linear_prob': 0.0,\n",
      "                         'logprob': -17.0,\n",
      "                         'token': 'neutral'},\n",
      "                        {'linear_prob': 0.0,\n",
      "                         'logprob': -17.875,\n",
      "                         'token': 'negative'}]}\n",
      "\n",
      "\n",
      "Student comment: \"The educational videos related to practical applications were excessively lengthy.\"\n",
      "{'classification_confidence': {'difference': 20.0,\n",
      "                               'next_token': 'neutral',\n",
      "                               'top_token': 'negative'},\n",
      " 'fine_grained_sentiment_category': 'negative',\n",
      " 'reasoning': 'The comment expresses a concern about the length of the '\n",
      "              'educational videos, indicating that they were excessively '\n",
      "              'lengthy. This suggests a negative sentiment as the student is '\n",
      "              'pointing out an aspect of the course that they found '\n",
      "              'problematic.',\n",
      " 'sentiment': 'negative',\n",
      " 'sentiment_logprobs': [{'linear_prob': 100.0,\n",
      "                         'logprob': 0.0,\n",
      "                         'token': 'negative'},\n",
      "                        {'linear_prob': 0.0,\n",
      "                         'logprob': -18.5,\n",
      "                         'token': 'Negative'},\n",
      "                        {'linear_prob': 0.0,\n",
      "                         'logprob': -20.0,\n",
      "                         'token': 'neutral'}]}\n",
      "\n",
      "\n",
      "Student comment: \"The pace of some lectures could be slowed down. At times, it's challenging to follow the lecturer's speech or decipher their handwriting.\"\n",
      "{'classification_confidence': {'difference': 20.6875,\n",
      "                               'next_token': 'neutral',\n",
      "                               'top_token': 'negative'},\n",
      " 'fine_grained_sentiment_category': 'negative',\n",
      " 'reasoning': 'The comment highlights specific issues with the course, such as '\n",
      "              'the pace of lectures being too fast and difficulties in '\n",
      "              \"understanding the lecturer's speech and handwriting. These are \"\n",
      "              'criticisms and suggest areas for improvement, indicating a '\n",
      "              'negative sentiment.',\n",
      " 'sentiment': 'negative',\n",
      " 'sentiment_logprobs': [{'linear_prob': 100.0,\n",
      "                         'logprob': 0.0,\n",
      "                         'token': 'negative'},\n",
      "                        {'linear_prob': 0.0,\n",
      "                         'logprob': -18.25,\n",
      "                         'token': 'Negative'},\n",
      "                        {'linear_prob': 0.0,\n",
      "                         'logprob': -20.6875,\n",
      "                         'token': 'neutral'}]}\n",
      "\n",
      "\n"
     ]
    }
   ],
   "source": [
    "pairs_improve = sort_by_confidence(comments_improve, sentiment_results_improve)\n",
    "for comment, result in [*pairs_improve[:2], *pairs_improve[-2:]]:\n",
    "    print(f'Student comment: \"{comment}\"')\n",
    "    pprint(json.loads(result.model_dump_json(exclude={'logprobs'})))\n",
    "    print('\\n')"
   ]
  },
  {
   "cell_type": "code",
   "execution_count": 19,
   "metadata": {},
   "outputs": [
    {
     "data": {
      "text/html": [
       "<span style=\"color:MediumSlateBlue; font-size:1.2em\">positive</span><br><span style=\"color:LightSkyBlue; font-size:1.2em\">neutral-positive</span><br><span style=\"color:LightGray; font-size:1.2em\">neutral</span><br><span style=\"color:LightSalmon; font-size:1.2em\">neutral-negative</span><br><span style=\"color:Red; font-size:1.2em\">negative</span><br>"
      ],
      "text/plain": [
       "<IPython.core.display.HTML object>"
      ]
     },
     "metadata": {},
     "output_type": "display_data"
    }
   ],
   "source": [
    "display(reference_colors())"
   ]
  },
  {
   "cell_type": "code",
   "execution_count": 20,
   "metadata": {},
   "outputs": [
    {
     "data": {
      "text/html": [
       "<span style=\"color:MediumSlateBlue; font-size:1.2em\">\"Its perfect this way\"</span><br><span style=\"color:MediumSlateBlue; font-size:1.2em\">\"Everything is ideal as it stands.\"</span><br><span style=\"color:MediumSlateBlue; font-size:1.2em\">\"good\"</span><br><span style=\"color:MediumSlateBlue; font-size:1.2em\">\"This course is already excellent and does not require enhancements. I feel that it successfully conveyed all the intended educational objectives.\"</span><br><span style=\"color:MediumSlateBlue; font-size:1.2em\">\"It's excellent.\"</span><br><span style=\"color:MediumSlateBlue; font-size:1.2em\">\"Overall, the course was quite satisfactory.\"</span><br><span style=\"color:MediumSlateBlue; font-size:1.2em\">\"The course is generally well-executed despite the limitations of the online setting.\"</span><br><span style=\"color:MediumSlateBlue; font-size:1.2em\">\"I'm satisfied with the current format.\"</span><br><span style=\"color:MediumSlateBlue; font-size:1.2em\">\"OUTSTANDING\"</span><br><span style=\"color:MediumSlateBlue; font-size:1.2em\">\"nothing more\"</span><br><span style=\"color:MediumSlateBlue; font-size:1.2em\">\"Incorporating a few advanced projects as optional tasks could benefit learners who wish to delve deeper into the subject matter. These projects wouldn't need to influence exam scores.\"</span><br><span style=\"color:MediumSlateBlue; font-size:1.2em\">\"Enhance the complexity and substance of the material. It would be beneficial to include more practical exercises. Perhaps a small-scale project that requires us to utilize what we've learned in a real-world scenario.\"</span><br><span style=\"color:MediumSlateBlue; font-size:1.2em\">\"Educationally, I found the course to be of exceptional quality; the resources provided were excellent and the course was well organized. It would be beneficial to include more comprehensive discussions on a wider variety of treatments for cancer. Topics like circulating tumor DNA and the progression of tumors were addressed somewhat superficially. Expanding on the practical consequences and real-life instances of therapeutic approaches and patient scenarios would be a valuable enhancement.\"</span><br><span style=\"color:LightSkyBlue; font-size:1.2em\">\"Incorporating a mid-term assessment could be beneficial for identifying which topics require further study to ensure a comprehensive understanding of all concepts.\"</span><br><span style=\"color:LightSkyBlue; font-size:1.2em\">\"Incorporating additional visual aids could enhance and solidify the understanding of the material.\"</span><br><span style=\"color:LightSkyBlue; font-size:1.2em\">\"Extend the duration of the concept videos for the more challenging topics, as they require a deeper dive to fully grasp the intricacies involved. Additionally, consider introducing an additional educator to the mix. The dynamic of having multiple voices in another subject area is quite engaging, and it would be beneficial to replicate that experience in this subject to prevent monotony from setting in with just one instructor.\"</span><br><span style=\"color:LightSkyBlue; font-size:1.2em\">\"The sole improvement I'd suggest is to emphasize the requirement to choose two responses by making it bold.\"</span><br><span style=\"color:LightSkyBlue; font-size:1.2em\">\"It would be beneficial to include more content on the typical challenges encountered when introducing these beneficial innovations to patients and lesser-known regions.\"</span><br><span style=\"color:LightSkyBlue; font-size:1.2em\">\"Incorporate additional engaging activities that involve student participation.\"</span><br><span style=\"color:LightSkyBlue; font-size:1.2em\">\"Perhaps incorporating a more engaging element in the practical sessions, such as a simulation tool where learners can engage with patient cases, propose therapeutic strategies, and monitor the outcomes or side effects, would enhance the learning experience.\"</span><br><span style=\"color:LightSkyBlue; font-size:1.2em\">\"It would be beneficial to include additional case studies, particularly those involving uncommon situations.\"</span><br><span style=\"color:LightSkyBlue; font-size:1.2em\">\"Perhaps include additional content on the creation of novel medications.\"</span><br><span style=\"color:LightSkyBlue; font-size:1.2em\">\"Satisfactory program\"</span><br><span style=\"color:LightSkyBlue; font-size:1.2em\">\"It would be beneficial to include additional video content covering more detailed subjects, as previously suggested.\"</span><br><span style=\"color:LightGray; font-size:1.2em\">\"Delve deeper into the subject matter! It would be engaging to explore additional intricacies.\"</span><br><span style=\"color:LightGray; font-size:1.2em\">\"Increase the number of tries for the final assessment.\"</span><br><span style=\"color:LightGray; font-size:1.2em\">\"Increase the number of practical clinical demonstrations.\"</span><br><span style=\"color:LightGray; font-size:1.2em\">\"It would be beneficial to have additional mock tests available for the concluding assessment.\"</span><br><span style=\"color:LightGray; font-size:1.2em\">\"It would be beneficial to include additional hands-on activities.\"</span><br><span style=\"color:LightGray; font-size:1.2em\">\"It would be beneficial to clarify earlier on that the quizzes are designed not just to evaluate the material covered in lectures and readings, but also to facilitate deeper comprehension and encourage active problem-solving.\"</span><br><span style=\"color:LightSalmon; font-size:1.2em\">\"Nothing specific comes to mind.\"</span><br><span style=\"color:LightSalmon; font-size:1.2em\">\"No feedback provided.\"</span><br><span style=\"color:LightSalmon; font-size:1.2em\">\"Condensed recapitulations could be more brief and incorporate additional practical examples.\"</span><br><span style=\"color:LightSalmon; font-size:1.2em\">\"-\"</span><br><span style=\"color:LightSalmon; font-size:1.2em\">\"Consider reducing the duration of certain videos. A few appeared to be slightly prolonged.\"</span><br><span style=\"color:Red; font-size:1.2em\">\"Extend the duration! The course felt too brief with just a three-week timeframe; I was eager to delve deeper into the subject matter.\"</span><br><span style=\"color:Red; font-size:1.2em\">\"The topics of pathology and immune treatments could be elaborated upon more thoroughly.\"</span><br><span style=\"color:Red; font-size:1.2em\">\"One area for enhancement would be the practical component. It would be beneficial to observe a greater variety of cases and delve deeper into the practical applications. For instance, exploring a range of treatments for various medical conditions (which were only briefly mentioned) and strategies for monitoring treatment effectiveness, including the appropriate duration to wait before considering an alternative treatment.\"</span><br><span style=\"color:Red; font-size:1.2em\">\"Simpler topics\"</span><br><span style=\"color:Red; font-size:1.2em\">\"Improving the clarity of the video lectures.\"</span><br><span style=\"color:Red; font-size:1.2em\">\"The phrasing of the questions is quite convoluted and lengthy. It would be beneficial to make them more straightforward and easier to understand.\"</span><br><span style=\"color:Red; font-size:1.2em\">\"It would be beneficial if the course content was more aligned with the foundational topics. Additionally, aligning the chapter assessments more closely with the content presented in the videos and lessons would enhance understanding. At times, the questions in the review seemed unrelated to the material covered.\"</span><br><span style=\"color:Red; font-size:1.2em\">\"The section involving microscopic imagery, where indicators were used to highlight specific cellular structures, progressed too quickly for those with limited experience.\"</span><br><span style=\"color:Red; font-size:1.2em\">\"the segments on correlation were excessively lengthy\"</span><br><span style=\"color:Red; font-size:1.2em\">\"The educational videos related to practical applications were excessively lengthy.\"</span><br><span style=\"color:Red; font-size:1.2em\">\"The pace of some lectures could be slowed down. At times, it's challenging to follow the lecturer's speech or decipher their handwriting.\"</span><br>"
      ],
      "text/plain": [
       "<IPython.core.display.HTML object>"
      ]
     },
     "metadata": {},
     "output_type": "display_data"
    }
   ],
   "source": [
    "display(colorized_html_output(pairs_improve))"
   ]
  },
  {
   "cell_type": "markdown",
   "metadata": {},
   "source": [
    "Sure enough - there are more comments that could be construed as negative, given that's what the \"What could be improved about the course?\" survey question is prompting for."
   ]
  },
  {
   "cell_type": "markdown",
   "metadata": {},
   "source": [
    "## Sentiment analysis for some Coursera comments"
   ]
  },
  {
   "cell_type": "markdown",
   "metadata": {},
   "source": [
    "These are comments all from one course. There are a lot of duplicate rows in the dataset, for some reason, hence the drop_duplicates."
   ]
  },
  {
   "cell_type": "code",
   "execution_count": 21,
   "metadata": {},
   "outputs": [
    {
     "name": "stdout",
     "output_type": "stream",
     "text": [
      "processing 54 inputs in batches of 100\n",
      "sleeping for 30 seconds between batches\n",
      "starting 0 to 100\n",
      "completed 0 to 100\n",
      "elapsed time: 3.676455020904541\n"
     ]
    }
   ],
   "source": [
    "coursera_review_question = 'What did you think of the course?'\n",
    "comments_coursera = coursera_survey.iloc[100:200].drop_duplicates()['reviews'].tolist()\n",
    "sentiment_results_coursera = await classify_sentiment(comments=comments_coursera, question=coursera_review_question)"
   ]
  },
  {
   "cell_type": "markdown",
   "metadata": {},
   "source": [
    "Again, we'll sort by the finer-grained sentiment. We'll only show the top 2 and bottom 2 comments output for brevity."
   ]
  },
  {
   "cell_type": "code",
   "execution_count": 22,
   "metadata": {},
   "outputs": [
    {
     "name": "stdout",
     "output_type": "stream",
     "text": [
      "Student comment: \"Good\"\n",
      "Sentiment: positive\n",
      "Fine-grained sentiment: positive\n",
      "{'classification_confidence': {'difference': 'Infinity',\n",
      "                               'next_token': None,\n",
      "                               'top_token': 'positive'},\n",
      " 'reasoning': \"The comment 'Good' is brief but indicates a positive experience \"\n",
      "              \"with the course. The word 'Good' generally conveys satisfaction \"\n",
      "              'and approval.',\n",
      " 'sentiment_logprobs': [{'linear_prob': 100.0,\n",
      "                         'logprob': 0.0,\n",
      "                         'token': 'positive'},\n",
      "                        {'linear_prob': 0.0,\n",
      "                         'logprob': -20.5,\n",
      "                         'token': 'Positive'},\n",
      "                        {'linear_prob': 0.0,\n",
      "                         'logprob': -20.75,\n",
      "                         'token': 'posit'}]}\n",
      "\n",
      "\n",
      "Student comment: \"pretty good\"\n",
      "Sentiment: positive\n",
      "Fine-grained sentiment: positive\n",
      "{'classification_confidence': {'difference': 17.375,\n",
      "                               'next_token': 'neutral',\n",
      "                               'top_token': 'positive'},\n",
      " 'reasoning': \"The comment 'pretty good' indicates a generally favorable \"\n",
      "              \"opinion of the course. The use of 'pretty' suggests that the \"\n",
      "              'student found the course to be more than just acceptable but '\n",
      "              'not necessarily outstanding.',\n",
      " 'sentiment_logprobs': [{'linear_prob': 100.0,\n",
      "                         'logprob': 0.0,\n",
      "                         'token': 'positive'},\n",
      "                        {'linear_prob': 0.0,\n",
      "                         'logprob': -17.375,\n",
      "                         'token': 'neutral'},\n",
      "                        {'linear_prob': 0.0,\n",
      "                         'logprob': -19.25,\n",
      "                         'token': 'posit'}]}\n",
      "\n",
      "\n",
      "Student comment: \"Terrible lecturer. Maybe he should retire. He can't stay on point. Lectures are unwatchable - except for the beautiful auditorium stage.\"\n",
      "Sentiment: negative\n",
      "Fine-grained sentiment: negative\n",
      "{'classification_confidence': {'difference': 24.875,\n",
      "                               'next_token': 'neg',\n",
      "                               'top_token': 'negative'},\n",
      " 'reasoning': 'The comment is highly critical of the lecturer, describing them '\n",
      "              \"as 'terrible' and suggesting they should retire. The student \"\n",
      "              'also mentions that the lecturer cannot stay on point and that '\n",
      "              'the lectures are unwatchable. The only positive remark is about '\n",
      "              'the auditorium stage, which is unrelated to the course content '\n",
      "              'or teaching quality.',\n",
      " 'sentiment_logprobs': [{'linear_prob': 100.0,\n",
      "                         'logprob': 0.0,\n",
      "                         'token': 'negative'},\n",
      "                        {'linear_prob': 0.0,\n",
      "                         'logprob': -24.875,\n",
      "                         'token': 'neg'},\n",
      "                        {'linear_prob': 0.0,\n",
      "                         'logprob': -24.875,\n",
      "                         'token': 'Negative'}]}\n",
      "\n",
      "\n",
      "Student comment: \"I find the professor is hard to understand because he is so slow in making a point.  I have listened to a few lectures and have given up.  I am going to look for another course.\"\n",
      "Sentiment: negative\n",
      "Fine-grained sentiment: negative\n",
      "{'classification_confidence': {'difference': 'Infinity',\n",
      "                               'next_token': None,\n",
      "                               'top_token': 'negative'},\n",
      " 'reasoning': \"The comment expresses dissatisfaction with the professor's \"\n",
      "              'teaching style, specifically mentioning that the professor is '\n",
      "              'slow in making a point. The student has given up on the course '\n",
      "              'and plans to look for another one, indicating a negative '\n",
      "              'experience overall.',\n",
      " 'sentiment_logprobs': [{'linear_prob': 100.0,\n",
      "                         'logprob': 0.0,\n",
      "                         'token': 'negative'},\n",
      "                        {'linear_prob': 0.0,\n",
      "                         'logprob': -23.25,\n",
      "                         'token': 'Negative'},\n",
      "                        {'linear_prob': 0.0,\n",
      "                         'logprob': -25.0,\n",
      "                         'token': ' negative'}]}\n",
      "\n",
      "\n"
     ]
    }
   ],
   "source": [
    "pairs_coursera = sort_by_confidence(comments_coursera, sentiment_results_coursera)\n",
    "for comment, result in [*pairs_coursera[:2], *pairs_coursera[-2:]]:\n",
    "    print(f'Student comment: \"{comment}\"')\n",
    "    print(f'Sentiment: {result.sentiment}')\n",
    "    print(f'Fine-grained sentiment: {result.fine_grained_sentiment_category}')\n",
    "    pprint(json.loads(result.model_dump_json(exclude={'logprobs', 'sentiment', 'fine_grained_sentiment_category'})))\n",
    "    print('\\n')"
   ]
  },
  {
   "cell_type": "code",
   "execution_count": 23,
   "metadata": {},
   "outputs": [
    {
     "data": {
      "text/html": [
       "<span style=\"color:MediumSlateBlue; font-size:1.2em\">positive</span><br><span style=\"color:LightSkyBlue; font-size:1.2em\">neutral-positive</span><br><span style=\"color:LightGray; font-size:1.2em\">neutral</span><br><span style=\"color:LightSalmon; font-size:1.2em\">neutral-negative</span><br><span style=\"color:Red; font-size:1.2em\">negative</span><br>"
      ],
      "text/plain": [
       "<IPython.core.display.HTML object>"
      ]
     },
     "metadata": {},
     "output_type": "display_data"
    }
   ],
   "source": [
    "display(reference_colors())"
   ]
  },
  {
   "cell_type": "code",
   "execution_count": 24,
   "metadata": {},
   "outputs": [
    {
     "data": {
      "text/html": [
       "<span style=\"color:MediumSlateBlue; font-size:1.2em\">\"Good\"</span><br><span style=\"color:MediumSlateBlue; font-size:1.2em\">\"pretty good\"</span><br><span style=\"color:MediumSlateBlue; font-size:1.2em\">\"It was very useful course. This course is very time taking but the best and worth fullBut I'm not getting course certificate\"</span><br><span style=\"color:LightGray; font-size:1.2em\">\"High level\"</span><br><span style=\"color:LightSalmon; font-size:1.2em\">\"-\"</span><br><span style=\"color:LightSalmon; font-size:1.2em\">\".\"</span><br><span style=\"color:LightSalmon; font-size:1.2em\">\"CHANGE MY NAME\"</span><br><span style=\"color:Red; font-size:1.2em\">\"Good content but Presentation is quite rambling\"</span><br><span style=\"color:Red; font-size:1.2em\">\"Overall great for wanting to understand more about the basics of the financial markets. However, the course content focused way too much on history and very little practical use. There are some videos where the lesson gets cuts over to the students having a conversation with he lecturer. That does not seemed to be a very smooth transition.\"</span><br><span style=\"color:Red; font-size:1.2em\">\"I can't access the quiz 5 and beyond. I'd really like to continue, and to complete the quizzes. I'm finding it difficult to troubleshoot. It says that \"the session will be unlocked when the session begins\". When I click on the quiz it asks me to \"reset my deadlines\". (The deadline for the quiz is 7 Sep so I have time.) When I click on \"reset my deadlines\" the message is \"Something went wrong. Please try again.\" That's been happening for over a week. I'm losing time. arrghghghgh . Any help would be greatly appreciated.Kerry McGovern\"</span><br><span style=\"color:Red; font-size:1.2em\">\"I give the course a 2-2.5. I've graduated with a Bachelor's in Finance and wanted to try a coursera course to expand, or reaffirm, my knowledge of various topics. I did relearn a handful of concepts and learn more about other topics. But, it makes more sense as an intro class. As others were saying, I guess the course is taken from a full course, so the videos are snippets and do not provide a full understanding of all the topics.The slides can be put together better (too wordy and/or provide a reference guide on what was covered in the entire lecture). I had the videos on 1.5x-2.0x speed as the prof spoke slow so I can see why people were annoyed by that. If anyone has taken a course on Investopedia, they do it better. They provide exercises frequently, notes, and make the content engaging and easy to follow. Maybe check out Investopedia for a small range of courses.But to answer who this is for.. Someone just starting in Finance. If you had years of Financial markets in college, you do not need this. Or if you take it for free, look at the various videos and watch those as there are some informative videos on areas I haven't learned in college. But overall, not really engaging, kind of thrown together, no resources/notes just slides and closed captions as text. Would be better if topics were broken down, slides were more appealing, notes/guides provided, and different exercises throughout each lecture (the aggregate of all the individual videos).\"</span><br><span style=\"color:Red; font-size:1.2em\">\"I prefer a course that teaches the fundamentals of financial markets in an Objective manner.  Just watching the first few videos seems like you are pushing some type of personal ideology or agenda.  Though it may have good intentions, I personally would rather a course without alluding to your views of morality and how everyone should give away their money.On the contrary, I would argue that if wealth is created / preserved/ grown And kept within a family for many generations rather than fully donated to philanthropy, that family will likely not just sit on it under a mattress but it will \"circulate\" through the economy again anyway.  For example, if a family wealth portfolio is kept or managed at any one of the big banks or investment houses, it is essentially recirculating since it is not in a box but getting re-invested and so on.  Essentially just numbers in a spreadsheet at that point.. but numbers that may end up financing a poor family's mortgage, business loan, and of course the tax revenue to the state via tax on capital gains and dividends.Best regards.\"</span><br><span style=\"color:Red; font-size:1.2em\">\"Only US oriented \"</span><br><span style=\"color:Red; font-size:1.2em\">\"By all my due respect, it was hard to follow the instructor. The vital and important pieces of information were lost during the lectures due to confused and spontaneously mixed speeches. The lectures was not constructed properly to go from stating a theory, then presenting arguments and then coming to a conclusion.Nevertheless, I completed this course with a higher grade thanks to my previous university education.Sorry, if I may seem to be tough.\"</span><br><span style=\"color:Red; font-size:1.2em\">\"very tough to understand ...use simple language to explain\"</span><br><span style=\"color:Red; font-size:1.2em\">\"I have paid amount but the certificate was not got can please respond fast.\"</span><br><span style=\"color:Red; font-size:1.2em\">\"Cuts up lectures and feels very disjointed, bounces from concept too concept too quickly. \"</span><br><span style=\"color:Red; font-size:1.2em\">\"Honestly, this course could have been a lot better but it was very vaguely put together. Definitely not an introductory course.The structure was pretty much all over the place.I later enrolled in for ISBs course on financial markets and it yielded way better results for me.STRUCTURE BAD. CONCEPTS RANDOM. TOPICS NOT ADDRESSED IN DETAIL.\"</span><br><span style=\"color:Red; font-size:1.2em\">\"As per my opinion this is course is not much effective\"</span><br><span style=\"color:Red; font-size:1.2em\">\"Lots of content seems to be cut out from the original lectures. There are cases where the questions in a certain quiz are related to lessons a few weeks in the future. The quiz questions are not very well designed compared to other courses on Coursera. \"</span><br><span style=\"color:Red; font-size:1.2em\">\"The guy can't teach\"</span><br><span style=\"color:Red; font-size:1.2em\">\"Not relevant with name.\"</span><br><span style=\"color:Red; font-size:1.2em\">\"too short videos\"</span><br><span style=\"color:Red; font-size:1.2em\">\"I didn't get any certificate after my court were completed.i complete 2 of the courses in Coursera but I didn't receive any certificate \"</span><br><span style=\"color:Red; font-size:1.2em\">\"The videos are part of a real university course but are only snippets of lectures. The arrangement is bad. The instructor is very knowledgeable but often hard to follow. I reached week four but dropped out. I have learned quite a lot but I don’t think my knowledge is going to stay for long because I only understand small  individual parts of lessons enough to pass the normal quizzes and have a ~50% on the honors quiz... Everything is quite a mess. :(Professor Shiller has won a Nobel prize and I look up to him for that, but this course was just not planned well at all.\"</span><br><span style=\"color:Red; font-size:1.2em\">\"Not at all legitimate course. The concepts and principles of the course, instructor are not clear. I'm a stock market trader and in one of his quiz the answer of one his question was stop loss at 50% value down. According to this very soon you will find yourself at the footpark. More over he's find out to be staying in the history all the time.\"</span><br><span style=\"color:Red; font-size:1.2em\">\"As it was highlighted as free course with certification for MOOC.I haven't received course completion certificate though my course has been fully completed. This issue needs to be addressed as why Coursera is not issuing course completion certification as promised  during COVID 19..Such a cheating to all the candidate to enroll for any course.This is not acceptable at all.\"</span><br><span style=\"color:Red; font-size:1.2em\">\"To many discussions... not really a financial course\"</span><br><span style=\"color:Red; font-size:1.2em\">\"waste of time, I could not understand properly the concepts, as he is not going straight to the point. so I unenrolled after watching few videos\"</span><br><span style=\"color:Red; font-size:1.2em\">\"This course is virtually worthless. I couldn't follow the lectures, and I have a PhD and have been a tenured professor for almost two decades. The online course is based on snippets taken from face-to-face lectures and breakout sessions, and the result is utter incoherence. The instructor frequently refers to concepts that have not yet been encountered in the online version of the course; makes extensive use of mathematical notations and formulas whose variables are never properly explained; and generally does a poor job of explaining the material. This online version of the Yale course was obviously slapped together with very little thought and production value; it's one of those unsuccessful attempts to bring in revenue on the cheap, creating an online version out of existing face-to-face material, rather than building a real online course from scratch. This was wasted money and time. This attempt to capitalize on the Yale brand is pathetic.    \"</span><br><span style=\"color:Red; font-size:1.2em\">\"very bad\"</span><br><span style=\"color:Red; font-size:1.2em\">\"I was expecting more from the course. It is very unstrucuted and even misses a complete table of contents. Having paid for this course I would also have expected some manuscripts or at least a copy of the (rather unusable) slides.However the course gives a broad overview of financial topics and probably also mentions most of the concepts of key words. Unfortunately, Prof. Shiller fails to give adequate and precise definitions most of the time. They could have been included in the slides to help the students to learn in a more strucured manner. Probably the best thing about the course (for me) was that he recommended to read Nassim Taleb's works, which I did, and his books (in combination with reading up on definitions on wikipedia) really offer a lot more understanding than this course.I would recommended to consult anyone to consult a standard text-book on finance and the works of Nassim Taleb to spice things up, rather than to take this course.\"</span><br><span style=\"color:Red; font-size:1.2em\">\"there is no translate to Arabic \"</span><br><span style=\"color:Red; font-size:1.2em\">\"NOT INTERESTING.COURSE CONTENTS AND NAME OF THE COURSE ENTIRELY DIFFERENT. CONTENTS ARE TOO WIDE.\"</span><br><span style=\"color:Red; font-size:1.2em\">\"The course is horrible. There are no proper explanations. Seriously horrible. \"</span><br><span style=\"color:Red; font-size:1.2em\">\"Useless\"</span><br><span style=\"color:Red; font-size:1.2em\">\"Poorly structured and clearly not thought through or designed for the online format \"</span><br><span style=\"color:Red; font-size:1.2em\">\"Don't waste your time! It's unstructured pile of videos recorded from face-to-face teaching. No explanations, no order, no structure, nothing.\"</span><br><span style=\"color:Red; font-size:1.2em\">\"Though the course is provided by one of the most esteemed university and professor, the \"Beginner Level\" tag on the course is highly misleading. I wanted a systematic introduction to financial linguistic and subsequent up-gradation of difficulty level, but what I experienced was a highly intellectualized lecture from the very beginning.This course is best suited for individuals who have a prior knowledge and understanding of the subject, otherwise the entire lecture will sound alien and unorganized to the beginners.I urge the Yale management to revise the misleading \"Beginner Level\" in this course. \"</span><br><span style=\"color:Red; font-size:1.2em\">\"very confusing and doesn't seem connected or flow\"</span><br><span style=\"color:Red; font-size:1.2em\">\"This couse seems to completely deviate from the main topic. it should include how to read the financial market closely, technical part of it like changes, how to assess multiple companies and track there movement. Instead of giving some stories of the Amercan area. I am deeply disappointed and it is not at all up to my expectation. The previous course that i did was remararkably informative and relevant.How to I unenroll without wasting my money! Please help.thank You!\"</span><br><span style=\"color:Red; font-size:1.2em\">\"This course was aweful! I feel like I didnt learn anything useful. The information is very superficial. The math that is applied at some points is not well explained. The overall course lacks structure and substance. The quizes were just terrible. Please dont waste your time with this.\"</span><br><span style=\"color:Red; font-size:1.2em\">\"the pace is extremely monotonous and it makes the course really mundane. i want to drop this one and take another one instead, but i just cant!\"</span><br><span style=\"color:Red; font-size:1.2em\">\"It was not very interesting. The course needs to be more self-explanatory, with real world examples, and not dull\"</span><br><span style=\"color:Red; font-size:1.2em\">\"This was a terrible course. \"</span><br><span style=\"color:Red; font-size:1.2em\">\"Poorly produced. \"</span><br><span style=\"color:Red; font-size:1.2em\">\"This course doesn't provide the fundamental element and the basis of financial markets. It is a collection of novels about financial markets and istitution\"</span><br><span style=\"color:Red; font-size:1.2em\">\"Professor seems to skip a lot of essential information and he is pretty hard to follow. Definitely an academic and not a instructor.\"</span><br><span style=\"color:Red; font-size:1.2em\">\"I am shocked that the course gets such high reviews. This is my third course with Coursera, but I don't think I will finish it (the other two I completed and gave five stars). The instructor often fails to introduce new or challenging concepts. When he does so he fails to explain them with the care and precision necessary for the learner to operationalize the idea. For a beginner course, this one really misses the mark. My sibling was also taking the course and we agreed on the course's shortcomings. It's a shame, because Professor Shiller obviously has a lot of knowledge.\"</span><br><span style=\"color:Red; font-size:1.2em\">\"This course was horrible! The Content was very disoriented and unclear. Videos were distorted, and jumping from one topic to another. There was no sense of continuity. One can not say this was a course from Yale...\"</span><br><span style=\"color:Red; font-size:1.2em\">\"Mr. Shiller is a nice professor, but this course has many flaws so I did not complete it. First of all, it's almost entirely focused on the U.S. situation, so it's not really suitable for worldwide users.Then, it's quite disorganized. Lectures don't follow a logical thread and are put in a confused order. Quizzes have even some questions completely unrelated to the material of the previous lectures. I think Yale should provide better courses. Moreover, it's quite old (2016) so it's not updated to current events. \"</span><br><span style=\"color:Red; font-size:1.2em\">\"Not a good course. Please don't recommend to anyone.\"</span><br><span style=\"color:Red; font-size:1.2em\">\"Terrible lecturer. Maybe he should retire. He can't stay on point. Lectures are unwatchable - except for the beautiful auditorium stage.\"</span><br><span style=\"color:Red; font-size:1.2em\">\"I find the professor is hard to understand because he is so slow in making a point.  I have listened to a few lectures and have given up.  I am going to look for another course.\"</span><br>"
      ],
      "text/plain": [
       "<IPython.core.display.HTML object>"
      ]
     },
     "metadata": {},
     "output_type": "display_data"
    }
   ],
   "source": [
    "display(colorized_html_output(pairs_coursera))"
   ]
  },
  {
   "cell_type": "markdown",
   "metadata": {},
   "source": [
    "^^ Pretty negative sentiment overall. On a practical level, we can see that the model has classified the comments well."
   ]
  },
  {
   "cell_type": "markdown",
   "metadata": {},
   "source": [
    "Let's try it for a different course."
   ]
  },
  {
   "cell_type": "code",
   "execution_count": 25,
   "metadata": {},
   "outputs": [
    {
     "name": "stdout",
     "output_type": "stream",
     "text": [
      "processing 33 inputs in batches of 100\n",
      "sleeping for 30 seconds between batches\n",
      "starting 0 to 100\n",
      "completed 0 to 100\n",
      "elapsed time: 3.0723140239715576\n"
     ]
    }
   ],
   "source": [
    "coursera_review_question = 'What did you think of the course?'\n",
    "comments_coursera2 = coursera_survey.iloc[:86].drop_duplicates()['reviews'].tolist()\n",
    "sentiment_results_coursera2 = await classify_sentiment(comments=comments_coursera2, question=coursera_review_question)"
   ]
  },
  {
   "cell_type": "code",
   "execution_count": 26,
   "metadata": {},
   "outputs": [
    {
     "data": {
      "text/html": [
       "<span style=\"color:MediumSlateBlue; font-size:1.2em\">positive</span><br><span style=\"color:LightSkyBlue; font-size:1.2em\">neutral-positive</span><br><span style=\"color:LightGray; font-size:1.2em\">neutral</span><br><span style=\"color:LightSalmon; font-size:1.2em\">neutral-negative</span><br><span style=\"color:Red; font-size:1.2em\">negative</span><br>"
      ],
      "text/plain": [
       "<IPython.core.display.HTML object>"
      ]
     },
     "metadata": {},
     "output_type": "display_data"
    }
   ],
   "source": [
    "display(reference_colors())"
   ]
  },
  {
   "cell_type": "code",
   "execution_count": 27,
   "metadata": {},
   "outputs": [
    {
     "data": {
      "text/html": [
       "<span style=\"color:MediumSlateBlue; font-size:1.2em\">\"very helpful informative course to get CPI certificate\"</span><br><span style=\"color:MediumSlateBlue; font-size:1.2em\">\"Excellent course!\"</span><br><span style=\"color:MediumSlateBlue; font-size:1.2em\">\"online learning was great\"</span><br><span style=\"color:MediumSlateBlue; font-size:1.2em\">\"Material covered well, and easy to use application.\"</span><br><span style=\"color:MediumSlateBlue; font-size:1.2em\">\"Solid presentation all the way through. I really appreciated the intermittent questions that popped up to check on learning as well the regular (but not needless) quizzing. There was visuals such as charts / .ppt for those of us more visually inclined as well as a transcript below the video that followed along with the presentation!\"</span><br><span style=\"color:MediumSlateBlue; font-size:1.2em\">\"Was able to knock it out in a day very good info.\"</span><br><span style=\"color:MediumSlateBlue; font-size:1.2em\">\"Great course.\"</span><br><span style=\"color:MediumSlateBlue; font-size:1.2em\">\"The course was straight forward and prepared me for the CPI exam. The course provided everything I needed to pass the exam. Thanks Google... thanks Coursera.\"</span><br><span style=\"color:MediumSlateBlue; font-size:1.2em\">\"Great course\"</span><br><span style=\"color:MediumSlateBlue; font-size:1.2em\">\"Great course \"</span><br><span style=\"color:MediumSlateBlue; font-size:1.2em\">\"The instructions were clear and concise. I enjoyed the learning process.\"</span><br><span style=\"color:MediumSlateBlue; font-size:1.2em\">\"Great Job!\"</span><br><span style=\"color:MediumSlateBlue; font-size:1.2em\">\"Excellent course and the training provided was very detailed and easy to follow.\"</span><br><span style=\"color:MediumSlateBlue; font-size:1.2em\">\"Very well explained.\"</span><br><span style=\"color:MediumSlateBlue; font-size:1.2em\">\"Excellent Training, More than enough to pass the test.\"</span><br><span style=\"color:MediumSlateBlue; font-size:1.2em\">\"Covered all of the required information in an easy to understand way and WITH VIDEO! Great, easy way to learn. The exam process was a bit drawn out and more extensive then it needed to be, but over all a great experience\"</span><br><span style=\"color:MediumSlateBlue; font-size:1.2em\">\"Well presented course material that takes you step by step through the required learning. \"</span><br><span style=\"color:MediumSlateBlue; font-size:1.2em\">\"WOOOO\"</span><br><span style=\"color:MediumSlateBlue; font-size:1.2em\">\"Great course\"</span><br><span style=\"color:MediumSlateBlue; font-size:1.2em\">\"Easy to follow. Did a good job at teaching me the material. \"</span><br><span style=\"color:MediumSlateBlue; font-size:1.2em\">\"Great course, lectures were straight forward and easy to follow along.  The course provided all the information necessary to pass the CPI examination for certification.\"</span><br><span style=\"color:MediumSlateBlue; font-size:1.2em\">\"easy to follow along with and understand\"</span><br><span style=\"color:MediumSlateBlue; font-size:1.2em\">\"Probably the best certification course I've taken in this respect. The course is planned out carefully, and I believe gave me everything I needed to ace my exam the first time around. The trainer for the majority of the course was awesome. She delivered the material in a great, professional mannor, but was never boring or monotoned. \"</span><br><span style=\"color:MediumSlateBlue; font-size:1.2em\">\"Great course, i have feedback about one question and learning item id like to give feedback on. related to OMNI antennas\"</span><br><span style=\"color:MediumSlateBlue; font-size:1.2em\">\"Information was perfect! The program itself was a little annoying. I had to wait 30 to 45 minutes after watching the videos to to take the quiz. Other than that the information was perfect and passed the test with no issues!\"</span><br><span style=\"color:MediumSlateBlue; font-size:1.2em\">\"Pretty well designed course. Few things on the test werent covered, but if you read the provided resources you should be fine. \"</span><br><span style=\"color:LightSkyBlue; font-size:1.2em\">\"A few grammatical mistakes on test made me do a double take but all in all not bad.\"</span><br><span style=\"color:LightGray; font-size:1.2em\">\"Course is easy enough if you have a basic background of installing wireless equipment.\"</span><br><span style=\"color:LightGray; font-size:1.2em\">\"The course was fine but I never received an email to download mt certificate, I have the password. Please contact me.\"</span><br><span style=\"color:LightGray; font-size:1.2em\">\"Pretty dry, but I was able to pass with just two complete watches so I'm happy about that.  As usual there were some questions on the final exam that were NO WHERE in the course, which is annoying but far better than many microsoft tests I have taken.  Never found the suplimental material that the course references... but who cares... i passed!\"</span><br><span style=\"color:Red; font-size:1.2em\">\"Some of the quizzes contained material not explicitly covered in the course. \"</span><br><span style=\"color:Red; font-size:1.2em\">\"would be a better experience if the video and screen shots would sho on the side of the text that the instructor is going thru so that user does not have to go all the way to beginning of text to be able to view any slides instructor is showing.\"</span><br><span style=\"color:Red; font-size:1.2em\">\"The ProctorU.com system took 2 times the amount of time spent on this course over 3 days to complete.  It is the worse production user system I have used in 20+ years of my IT career.    You should switch to another vendor.\"</span><br>"
      ],
      "text/plain": [
       "<IPython.core.display.HTML object>"
      ]
     },
     "metadata": {},
     "output_type": "display_data"
    }
   ],
   "source": [
    "pairs_coursera2 = sort_by_confidence(comments_coursera2, sentiment_results_coursera2)\n",
    "display(colorized_html_output(pairs_coursera2))"
   ]
  },
  {
   "cell_type": "markdown",
   "metadata": {},
   "source": [
    "The comments' sentiment for this course seems much more positive."
   ]
  },
  {
   "cell_type": "markdown",
   "metadata": {},
   "source": [
    "We can also turn this into a dataframe for downloading or easier viewing. This is in the same order as the original dataframe, but you can use the sorted pairs and turn those into a dataframe if you want to keep the sort order shown above."
   ]
  },
  {
   "cell_type": "code",
   "execution_count": 28,
   "metadata": {},
   "outputs": [
    {
     "data": {
      "text/html": [
       "<div>\n",
       "<style scoped>\n",
       "    .dataframe tbody tr th:only-of-type {\n",
       "        vertical-align: middle;\n",
       "    }\n",
       "\n",
       "    .dataframe tbody tr th {\n",
       "        vertical-align: top;\n",
       "    }\n",
       "\n",
       "    .dataframe thead th {\n",
       "        text-align: right;\n",
       "    }\n",
       "</style>\n",
       "<table border=\"1\" class=\"dataframe\">\n",
       "  <thead>\n",
       "    <tr style=\"text-align: right;\">\n",
       "      <th></th>\n",
       "      <th>comment</th>\n",
       "      <th>reasoning</th>\n",
       "      <th>sentiment</th>\n",
       "      <th>sentiment_logprobs</th>\n",
       "      <th>fine_grained_sentiment_category</th>\n",
       "      <th>classification_confidence.top_token</th>\n",
       "      <th>classification_confidence.next_token</th>\n",
       "      <th>classification_confidence.difference</th>\n",
       "    </tr>\n",
       "  </thead>\n",
       "  <tbody>\n",
       "    <tr>\n",
       "      <th>0</th>\n",
       "      <td>Pretty dry, but I was able to pass with just two complete watches so I'm happy about that.  As usual there were some questions on the final exam that were NO WHERE in the course, which is annoying but far better than many microsoft tests I have taken.  Never found the suplimental material that the course references... but who cares... i passed!</td>\n",
       "      <td>The comment contains mixed sentiments. The student expresses some dissatisfaction with the course being 'pretty dry' and mentions annoyance about questions on the final exam that were not covered in the course. However, the student also expresses happiness about passing the course and notes that it was better than other tests they have taken. Overall, the sentiment leans towards neutral because the positive aspects (passing the course and it being better than other tests) balance out the negative aspects (dry content and irrelevant exam questions).</td>\n",
       "      <td>neutral</td>\n",
       "      <td>[{'token': 'neutral', 'logprob': 0.0, 'linear_prob': 100.0}, {'token': 'ne', 'logprob': -23.875, 'linear_prob': 0.0}, {'token': 'negative', 'logprob': -24.0, 'linear_prob': 0.0}]</td>\n",
       "      <td>neutral</td>\n",
       "      <td>neutral</td>\n",
       "      <td>ne</td>\n",
       "      <td>23.875</td>\n",
       "    </tr>\n",
       "    <tr>\n",
       "      <th>1</th>\n",
       "      <td>would be a better experience if the video and screen shots would sho on the side of the text that the instructor is going thru so that user does not have to go all the way to beginning of text to be able to view any slides instructor is showing.</td>\n",
       "      <td>The comment suggests an improvement to the course format, specifically regarding the placement of videos and screenshots. The student does not express any positive feelings about the current setup and focuses on a negative aspect that affects their experience. This indicates a negative sentiment.</td>\n",
       "      <td>negative</td>\n",
       "      <td>[{'token': 'negative', 'logprob': 0.0, 'linear_prob': 100.0}, {'token': 'neutral', 'logprob': -17.5, 'linear_prob': 0.0}, {'token': 'neg', 'logprob': -20.375, 'linear_prob': 0.0}]</td>\n",
       "      <td>negative</td>\n",
       "      <td>negative</td>\n",
       "      <td>neutral</td>\n",
       "      <td>17.5</td>\n",
       "    </tr>\n",
       "    <tr>\n",
       "      <th>2</th>\n",
       "      <td>Information was perfect! The program itself was a little annoying. I had to wait 30 to 45 minutes after watching the videos to to take the quiz. Other than that the information was perfect and passed the test with no issues!</td>\n",
       "      <td>The comment contains both positive and negative aspects. The student praises the information provided in the course, describing it as 'perfect' and mentions passing the test with no issues, which indicates a positive sentiment. However, the student also expresses frustration with the program's structure, specifically the wait time before taking the quiz, which is a negative sentiment. Overall, the positive aspects seem to outweigh the negative ones, leading to a generally positive sentiment.</td>\n",
       "      <td>positive</td>\n",
       "      <td>[{'token': 'positive', 'logprob': -7.89631e-07, 'linear_prob': 100.0}, {'token': 'neutral', 'logprob': -14.250001, 'linear_prob': 0.0}, {'token': 'posit', 'logprob': -16.625, 'linear_prob': 0.0}]</td>\n",
       "      <td>positive</td>\n",
       "      <td>positive</td>\n",
       "      <td>neutral</td>\n",
       "      <td>14.25</td>\n",
       "    </tr>\n",
       "    <tr>\n",
       "      <th>3</th>\n",
       "      <td>A few grammatical mistakes on test made me do a double take but all in all not bad.</td>\n",
       "      <td>The comment mentions some issues with grammatical mistakes on the test, which caused some confusion. However, the overall tone is not overly negative, as the student concludes with 'all in all not bad,' indicating a generally acceptable experience.</td>\n",
       "      <td>neutral</td>\n",
       "      <td>[{'token': 'neutral', 'logprob': -3.1281633e-07, 'linear_prob': 100.0}, {'token': 'positive', 'logprob': -15.375, 'linear_prob': 0.0}, {'token': 'ne', 'logprob': -17.25, 'linear_prob': 0.0}]</td>\n",
       "      <td>neutral-positive</td>\n",
       "      <td>neutral</td>\n",
       "      <td>positive</td>\n",
       "      <td>15.375</td>\n",
       "    </tr>\n",
       "    <tr>\n",
       "      <th>4</th>\n",
       "      <td>Excellent course and the training provided was very detailed and easy to follow.</td>\n",
       "      <td>The comment uses positive language such as 'Excellent course', 'very detailed', and 'easy to follow', indicating a high level of satisfaction with the course.</td>\n",
       "      <td>positive</td>\n",
       "      <td>[{'token': 'positive', 'logprob': 0.0, 'linear_prob': 100.0}, {'token': 'posit', 'logprob': -20.375, 'linear_prob': 0.0}, {'token': '&lt;|end|&gt;', 'logprob': -20.75, 'linear_prob': 0.0}]</td>\n",
       "      <td>positive</td>\n",
       "      <td>positive</td>\n",
       "      <td>&lt;|end|&gt;</td>\n",
       "      <td>20.75</td>\n",
       "    </tr>\n",
       "  </tbody>\n",
       "</table>\n",
       "</div>"
      ],
      "text/plain": [
       "                                                                                                                                                                                                                                                                                                                                                      comment  \\\n",
       "0  Pretty dry, but I was able to pass with just two complete watches so I'm happy about that.  As usual there were some questions on the final exam that were NO WHERE in the course, which is annoying but far better than many microsoft tests I have taken.  Never found the suplimental material that the course references... but who cares... i passed!   \n",
       "1                                                                                                       would be a better experience if the video and screen shots would sho on the side of the text that the instructor is going thru so that user does not have to go all the way to beginning of text to be able to view any slides instructor is showing.   \n",
       "2                                                                                                                            Information was perfect! The program itself was a little annoying. I had to wait 30 to 45 minutes after watching the videos to to take the quiz. Other than that the information was perfect and passed the test with no issues!   \n",
       "3                                                                                                                                                                                                                                                                         A few grammatical mistakes on test made me do a double take but all in all not bad.   \n",
       "4                                                                                                                                                                                                                                                                            Excellent course and the training provided was very detailed and easy to follow.   \n",
       "\n",
       "                                                                                                                                                                                                                                                                                                                                                                                                                                                                                                                                                                    reasoning  \\\n",
       "0  The comment contains mixed sentiments. The student expresses some dissatisfaction with the course being 'pretty dry' and mentions annoyance about questions on the final exam that were not covered in the course. However, the student also expresses happiness about passing the course and notes that it was better than other tests they have taken. Overall, the sentiment leans towards neutral because the positive aspects (passing the course and it being better than other tests) balance out the negative aspects (dry content and irrelevant exam questions).   \n",
       "1                                                                                                                                                                                                                                                                   The comment suggests an improvement to the course format, specifically regarding the placement of videos and screenshots. The student does not express any positive feelings about the current setup and focuses on a negative aspect that affects their experience. This indicates a negative sentiment.   \n",
       "2                                                            The comment contains both positive and negative aspects. The student praises the information provided in the course, describing it as 'perfect' and mentions passing the test with no issues, which indicates a positive sentiment. However, the student also expresses frustration with the program's structure, specifically the wait time before taking the quiz, which is a negative sentiment. Overall, the positive aspects seem to outweigh the negative ones, leading to a generally positive sentiment.   \n",
       "3                                                                                                                                                                                                                                                                                                                    The comment mentions some issues with grammatical mistakes on the test, which caused some confusion. However, the overall tone is not overly negative, as the student concludes with 'all in all not bad,' indicating a generally acceptable experience.   \n",
       "4                                                                                                                                                                                                                                                                                                                                                                                                              The comment uses positive language such as 'Excellent course', 'very detailed', and 'easy to follow', indicating a high level of satisfaction with the course.   \n",
       "\n",
       "  sentiment  \\\n",
       "0   neutral   \n",
       "1  negative   \n",
       "2  positive   \n",
       "3   neutral   \n",
       "4  positive   \n",
       "\n",
       "                                                                                                                                                                                    sentiment_logprobs  \\\n",
       "0                   [{'token': 'neutral', 'logprob': 0.0, 'linear_prob': 100.0}, {'token': 'ne', 'logprob': -23.875, 'linear_prob': 0.0}, {'token': 'negative', 'logprob': -24.0, 'linear_prob': 0.0}]   \n",
       "1                  [{'token': 'negative', 'logprob': 0.0, 'linear_prob': 100.0}, {'token': 'neutral', 'logprob': -17.5, 'linear_prob': 0.0}, {'token': 'neg', 'logprob': -20.375, 'linear_prob': 0.0}]   \n",
       "2  [{'token': 'positive', 'logprob': -7.89631e-07, 'linear_prob': 100.0}, {'token': 'neutral', 'logprob': -14.250001, 'linear_prob': 0.0}, {'token': 'posit', 'logprob': -16.625, 'linear_prob': 0.0}]   \n",
       "3       [{'token': 'neutral', 'logprob': -3.1281633e-07, 'linear_prob': 100.0}, {'token': 'positive', 'logprob': -15.375, 'linear_prob': 0.0}, {'token': 'ne', 'logprob': -17.25, 'linear_prob': 0.0}]   \n",
       "4               [{'token': 'positive', 'logprob': 0.0, 'linear_prob': 100.0}, {'token': 'posit', 'logprob': -20.375, 'linear_prob': 0.0}, {'token': '<|end|>', 'logprob': -20.75, 'linear_prob': 0.0}]   \n",
       "\n",
       "  fine_grained_sentiment_category classification_confidence.top_token  \\\n",
       "0                         neutral                             neutral   \n",
       "1                        negative                            negative   \n",
       "2                        positive                            positive   \n",
       "3                neutral-positive                             neutral   \n",
       "4                        positive                            positive   \n",
       "\n",
       "  classification_confidence.next_token classification_confidence.difference  \n",
       "0                                   ne                               23.875  \n",
       "1                              neutral                                 17.5  \n",
       "2                              neutral                                14.25  \n",
       "3                             positive                               15.375  \n",
       "4                              <|end|>                                20.75  "
      ]
     },
     "metadata": {},
     "output_type": "display_data"
    }
   ],
   "source": [
    "# here we omit the logprobs, as they are quite large\n",
    "comments_df = pd.DataFrame({'comment': comments_coursera2})\n",
    "values_df = pd.json_normalize([result.model_dump(exclude={'logprobs'}) for result in sentiment_results_coursera2])\n",
    "results_df = pd.concat([comments_df, values_df], axis=1)\n",
    "\n",
    "full_show(results_df.head())"
   ]
  }
 ],
 "metadata": {
  "kernelspec": {
   "display_name": "ai1",
   "language": "python",
   "name": "python3"
  },
  "language_info": {
   "codemirror_mode": {
    "name": "ipython",
    "version": 3
   },
   "file_extension": ".py",
   "mimetype": "text/x-python",
   "name": "python",
   "nbconvert_exporter": "python",
   "pygments_lexer": "ipython3",
   "version": "3.11.9"
  }
 },
 "nbformat": 4,
 "nbformat_minor": 2
}
